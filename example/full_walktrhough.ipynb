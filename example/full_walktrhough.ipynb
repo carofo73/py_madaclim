{
 "cells": [
  {
   "cell_type": "markdown",
   "metadata": {},
   "source": [
    "# Example usage of py-madaclim"
   ]
  },
  {
   "cell_type": "markdown",
   "metadata": {},
   "source": [
    "## Raster layers metadata with MadaclimLayers class from py_madaclim.info module"
   ]
  },
  {
   "cell_type": "markdown",
   "metadata": {},
   "source": [
    "### Layers dataframe containing with all metadata"
   ]
  },
  {
   "cell_type": "code",
   "execution_count": 1,
   "metadata": {},
   "outputs": [],
   "source": [
    "from py_madaclim.info import MadaclimLayers"
   ]
  },
  {
   "cell_type": "markdown",
   "metadata": {},
   "source": [
    "Instantiate a `MadaclimLayers` object and explore the information about the rasters in the Madaclim db "
   ]
  },
  {
   "cell_type": "code",
   "execution_count": 2,
   "metadata": {},
   "outputs": [
    {
     "name": "stdout",
     "output_type": "stream",
     "text": [
      "MadaclimLayers(\n",
      "\tall_layers = DataFrame(79 rows x 6 columns)\n",
      "\tcategorical_layers = DataFrame(Layers 75, 76, 77, 78 with a total of 79 categories\n",
      "\tpublic methods -> download_data, fetch_specific_layers, get_categorical_combinations\n",
      "\t\t\t get_layers_labels, select_geoclim_type_layers\n",
      ")\n"
     ]
    }
   ],
   "source": [
    "# Instantiate the MadaclimLayers without the rasters\n",
    "mada_info = MadaclimLayers()\n",
    "\n",
    "print(mada_info)"
   ]
  },
  {
   "cell_type": "markdown",
   "metadata": {},
   "source": [
    "The `all_layers` property is a Dataframe containing all layers information"
   ]
  },
  {
   "cell_type": "code",
   "execution_count": 3,
   "metadata": {},
   "outputs": [
    {
     "name": "stdout",
     "output_type": "stream",
     "text": [
      "(79, 6)\n"
     ]
    },
    {
     "data": {
      "text/html": [
       "<div>\n",
       "<style scoped>\n",
       "    .dataframe tbody tr th:only-of-type {\n",
       "        vertical-align: middle;\n",
       "    }\n",
       "\n",
       "    .dataframe tbody tr th {\n",
       "        vertical-align: top;\n",
       "    }\n",
       "\n",
       "    .dataframe thead th {\n",
       "        text-align: right;\n",
       "    }\n",
       "</style>\n",
       "<table border=\"1\" class=\"dataframe\">\n",
       "  <thead>\n",
       "    <tr style=\"text-align: right;\">\n",
       "      <th></th>\n",
       "      <th>geoclim_type</th>\n",
       "      <th>layer_number</th>\n",
       "      <th>layer_name</th>\n",
       "      <th>layer_description</th>\n",
       "      <th>is_categorical</th>\n",
       "      <th>units</th>\n",
       "    </tr>\n",
       "  </thead>\n",
       "  <tbody>\n",
       "    <tr>\n",
       "      <th>0</th>\n",
       "      <td>clim</td>\n",
       "      <td>1</td>\n",
       "      <td>tmin1</td>\n",
       "      <td>Monthly minimum temperature - January</td>\n",
       "      <td>False</td>\n",
       "      <td>°C x 10</td>\n",
       "    </tr>\n",
       "    <tr>\n",
       "      <th>1</th>\n",
       "      <td>clim</td>\n",
       "      <td>2</td>\n",
       "      <td>tmin2</td>\n",
       "      <td>Monthly minimum temperature - February</td>\n",
       "      <td>False</td>\n",
       "      <td>°C x 10</td>\n",
       "    </tr>\n",
       "    <tr>\n",
       "      <th>2</th>\n",
       "      <td>clim</td>\n",
       "      <td>3</td>\n",
       "      <td>tmin3</td>\n",
       "      <td>Monthly minimum temperature - March</td>\n",
       "      <td>False</td>\n",
       "      <td>°C x 10</td>\n",
       "    </tr>\n",
       "    <tr>\n",
       "      <th>3</th>\n",
       "      <td>clim</td>\n",
       "      <td>4</td>\n",
       "      <td>tmin4</td>\n",
       "      <td>Monthly minimum temperature - April</td>\n",
       "      <td>False</td>\n",
       "      <td>°C x 10</td>\n",
       "    </tr>\n",
       "    <tr>\n",
       "      <th>4</th>\n",
       "      <td>clim</td>\n",
       "      <td>5</td>\n",
       "      <td>tmin5</td>\n",
       "      <td>Monthly minimum temperature - May</td>\n",
       "      <td>False</td>\n",
       "      <td>°C x 10</td>\n",
       "    </tr>\n",
       "    <tr>\n",
       "      <th>...</th>\n",
       "      <td>...</td>\n",
       "      <td>...</td>\n",
       "      <td>...</td>\n",
       "      <td>...</td>\n",
       "      <td>...</td>\n",
       "      <td>...</td>\n",
       "    </tr>\n",
       "    <tr>\n",
       "      <th>74</th>\n",
       "      <td>env</td>\n",
       "      <td>75</td>\n",
       "      <td>geo</td>\n",
       "      <td>Rock types</td>\n",
       "      <td>True</td>\n",
       "      <td>[1=Alluvial_&amp;_Lake_deposits, 2=Unconsolidated_...</td>\n",
       "    </tr>\n",
       "    <tr>\n",
       "      <th>75</th>\n",
       "      <td>env</td>\n",
       "      <td>76</td>\n",
       "      <td>soi</td>\n",
       "      <td>Soil types</td>\n",
       "      <td>True</td>\n",
       "      <td>[1=Bare_Rocks, 2=Raw_Lithic_Mineral_Soils, 3=P...</td>\n",
       "    </tr>\n",
       "    <tr>\n",
       "      <th>76</th>\n",
       "      <td>env</td>\n",
       "      <td>77</td>\n",
       "      <td>veg</td>\n",
       "      <td>Vegetation types</td>\n",
       "      <td>True</td>\n",
       "      <td>[1=VegCat_01, 2=VegCat_02, 3=VegCat_03, 4=VegC...</td>\n",
       "    </tr>\n",
       "    <tr>\n",
       "      <th>77</th>\n",
       "      <td>env</td>\n",
       "      <td>78</td>\n",
       "      <td>wat</td>\n",
       "      <td>Watersheds</td>\n",
       "      <td>True</td>\n",
       "      <td>[1=CoE_N-Bemarivo, 2=CoE_S-Bemarivo_N-Mangoro,...</td>\n",
       "    </tr>\n",
       "    <tr>\n",
       "      <th>78</th>\n",
       "      <td>env</td>\n",
       "      <td>79</td>\n",
       "      <td>forcov</td>\n",
       "      <td>Percentage of forest cover in 1 km by 1 km gri...</td>\n",
       "      <td>False</td>\n",
       "      <td>%</td>\n",
       "    </tr>\n",
       "  </tbody>\n",
       "</table>\n",
       "<p>79 rows × 6 columns</p>\n",
       "</div>"
      ],
      "text/plain": [
       "   geoclim_type  layer_number layer_name  \\\n",
       "0          clim             1      tmin1   \n",
       "1          clim             2      tmin2   \n",
       "2          clim             3      tmin3   \n",
       "3          clim             4      tmin4   \n",
       "4          clim             5      tmin5   \n",
       "..          ...           ...        ...   \n",
       "74          env            75        geo   \n",
       "75          env            76        soi   \n",
       "76          env            77        veg   \n",
       "77          env            78        wat   \n",
       "78          env            79     forcov   \n",
       "\n",
       "                                    layer_description  is_categorical  \\\n",
       "0               Monthly minimum temperature - January           False   \n",
       "1              Monthly minimum temperature - February           False   \n",
       "2                 Monthly minimum temperature - March           False   \n",
       "3                 Monthly minimum temperature - April           False   \n",
       "4                   Monthly minimum temperature - May           False   \n",
       "..                                                ...             ...   \n",
       "74                                         Rock types            True   \n",
       "75                                         Soil types            True   \n",
       "76                                   Vegetation types            True   \n",
       "77                                         Watersheds            True   \n",
       "78  Percentage of forest cover in 1 km by 1 km gri...           False   \n",
       "\n",
       "                                                units  \n",
       "0                                             °C x 10  \n",
       "1                                             °C x 10  \n",
       "2                                             °C x 10  \n",
       "3                                             °C x 10  \n",
       "4                                             °C x 10  \n",
       "..                                                ...  \n",
       "74  [1=Alluvial_&_Lake_deposits, 2=Unconsolidated_...  \n",
       "75  [1=Bare_Rocks, 2=Raw_Lithic_Mineral_Soils, 3=P...  \n",
       "76  [1=VegCat_01, 2=VegCat_02, 3=VegCat_03, 4=VegC...  \n",
       "77  [1=CoE_N-Bemarivo, 2=CoE_S-Bemarivo_N-Mangoro,...  \n",
       "78                                                  %  \n",
       "\n",
       "[79 rows x 6 columns]"
      ]
     },
     "execution_count": 3,
     "metadata": {},
     "output_type": "execute_result"
    }
   ],
   "source": [
    "print(mada_info.all_layers.shape)\n",
    "mada_info.all_layers"
   ]
  },
  {
   "cell_type": "markdown",
   "metadata": {},
   "source": [
    "An in-depth look at the categorical layers in the Madaclim db with the `categorical_layers` property"
   ]
  },
  {
   "cell_type": "code",
   "execution_count": 4,
   "metadata": {},
   "outputs": [
    {
     "data": {
      "text/html": [
       "<div>\n",
       "<style scoped>\n",
       "    .dataframe tbody tr th:only-of-type {\n",
       "        vertical-align: middle;\n",
       "    }\n",
       "\n",
       "    .dataframe tbody tr th {\n",
       "        vertical-align: top;\n",
       "    }\n",
       "\n",
       "    .dataframe thead th {\n",
       "        text-align: right;\n",
       "    }\n",
       "</style>\n",
       "<table border=\"1\" class=\"dataframe\">\n",
       "  <thead>\n",
       "    <tr style=\"text-align: right;\">\n",
       "      <th></th>\n",
       "      <th>geoclim_type</th>\n",
       "      <th>layer_number</th>\n",
       "      <th>layer_name</th>\n",
       "      <th>layer_description</th>\n",
       "      <th>raster_value</th>\n",
       "      <th>category</th>\n",
       "    </tr>\n",
       "  </thead>\n",
       "  <tbody>\n",
       "    <tr>\n",
       "      <th>0</th>\n",
       "      <td>env</td>\n",
       "      <td>75</td>\n",
       "      <td>geo</td>\n",
       "      <td>Rock types</td>\n",
       "      <td>1</td>\n",
       "      <td>Alluvial_&amp;_Lake_deposits</td>\n",
       "    </tr>\n",
       "    <tr>\n",
       "      <th>1</th>\n",
       "      <td>env</td>\n",
       "      <td>75</td>\n",
       "      <td>geo</td>\n",
       "      <td>Rock types</td>\n",
       "      <td>2</td>\n",
       "      <td>Unconsolidated_Sands</td>\n",
       "    </tr>\n",
       "    <tr>\n",
       "      <th>2</th>\n",
       "      <td>env</td>\n",
       "      <td>75</td>\n",
       "      <td>geo</td>\n",
       "      <td>Rock types</td>\n",
       "      <td>4</td>\n",
       "      <td>Mangrove_Swamp</td>\n",
       "    </tr>\n",
       "    <tr>\n",
       "      <th>3</th>\n",
       "      <td>env</td>\n",
       "      <td>75</td>\n",
       "      <td>geo</td>\n",
       "      <td>Rock types</td>\n",
       "      <td>5</td>\n",
       "      <td>Tertiary_Limestones_+_Marls_&amp;_Chalks</td>\n",
       "    </tr>\n",
       "    <tr>\n",
       "      <th>4</th>\n",
       "      <td>env</td>\n",
       "      <td>75</td>\n",
       "      <td>geo</td>\n",
       "      <td>Rock types</td>\n",
       "      <td>6</td>\n",
       "      <td>Sandstones</td>\n",
       "    </tr>\n",
       "  </tbody>\n",
       "</table>\n",
       "</div>"
      ],
      "text/plain": [
       "  geoclim_type  layer_number layer_name layer_description raster_value  \\\n",
       "0          env            75        geo        Rock types            1   \n",
       "1          env            75        geo        Rock types            2   \n",
       "2          env            75        geo        Rock types            4   \n",
       "3          env            75        geo        Rock types            5   \n",
       "4          env            75        geo        Rock types            6   \n",
       "\n",
       "                               category  \n",
       "0              Alluvial_&_Lake_deposits  \n",
       "1                  Unconsolidated_Sands  \n",
       "2                        Mangrove_Swamp  \n",
       "3  Tertiary_Limestones_+_Marls_&_Chalks  \n",
       "4                            Sandstones  "
      ]
     },
     "execution_count": 4,
     "metadata": {},
     "output_type": "execute_result"
    }
   ],
   "source": [
    "mada_info.categorical_layers.head()"
   ]
  },
  {
   "cell_type": "markdown",
   "metadata": {},
   "source": [
    "Madaclim db contains 'climate'(`clim`) and 'environmental'(`env`) type raster layers. Filter the dataframe with the `select_geoclim_type_layers` method."
   ]
  },
  {
   "cell_type": "code",
   "execution_count": 5,
   "metadata": {},
   "outputs": [
    {
     "data": {
      "text/html": [
       "<div>\n",
       "<style scoped>\n",
       "    .dataframe tbody tr th:only-of-type {\n",
       "        vertical-align: middle;\n",
       "    }\n",
       "\n",
       "    .dataframe tbody tr th {\n",
       "        vertical-align: top;\n",
       "    }\n",
       "\n",
       "    .dataframe thead th {\n",
       "        text-align: right;\n",
       "    }\n",
       "</style>\n",
       "<table border=\"1\" class=\"dataframe\">\n",
       "  <thead>\n",
       "    <tr style=\"text-align: right;\">\n",
       "      <th></th>\n",
       "      <th>geoclim_type</th>\n",
       "      <th>layer_number</th>\n",
       "      <th>layer_name</th>\n",
       "      <th>layer_description</th>\n",
       "      <th>is_categorical</th>\n",
       "      <th>units</th>\n",
       "    </tr>\n",
       "  </thead>\n",
       "  <tbody>\n",
       "    <tr>\n",
       "      <th>70</th>\n",
       "      <td>env</td>\n",
       "      <td>71</td>\n",
       "      <td>alt</td>\n",
       "      <td>Altitude</td>\n",
       "      <td>False</td>\n",
       "      <td>meters</td>\n",
       "    </tr>\n",
       "    <tr>\n",
       "      <th>71</th>\n",
       "      <td>env</td>\n",
       "      <td>72</td>\n",
       "      <td>slo</td>\n",
       "      <td>Slope</td>\n",
       "      <td>False</td>\n",
       "      <td>degrees</td>\n",
       "    </tr>\n",
       "    <tr>\n",
       "      <th>72</th>\n",
       "      <td>env</td>\n",
       "      <td>73</td>\n",
       "      <td>asp</td>\n",
       "      <td>Aspect; clockwise from North</td>\n",
       "      <td>False</td>\n",
       "      <td>degrees</td>\n",
       "    </tr>\n",
       "    <tr>\n",
       "      <th>73</th>\n",
       "      <td>env</td>\n",
       "      <td>74</td>\n",
       "      <td>solrad</td>\n",
       "      <td>Solar radiation; computed from altitude, slope...</td>\n",
       "      <td>False</td>\n",
       "      <td>Wh.m-2.day-1</td>\n",
       "    </tr>\n",
       "    <tr>\n",
       "      <th>74</th>\n",
       "      <td>env</td>\n",
       "      <td>75</td>\n",
       "      <td>geo</td>\n",
       "      <td>Rock types</td>\n",
       "      <td>True</td>\n",
       "      <td>[1=Alluvial_&amp;_Lake_deposits, 2=Unconsolidated_...</td>\n",
       "    </tr>\n",
       "    <tr>\n",
       "      <th>75</th>\n",
       "      <td>env</td>\n",
       "      <td>76</td>\n",
       "      <td>soi</td>\n",
       "      <td>Soil types</td>\n",
       "      <td>True</td>\n",
       "      <td>[1=Bare_Rocks, 2=Raw_Lithic_Mineral_Soils, 3=P...</td>\n",
       "    </tr>\n",
       "    <tr>\n",
       "      <th>76</th>\n",
       "      <td>env</td>\n",
       "      <td>77</td>\n",
       "      <td>veg</td>\n",
       "      <td>Vegetation types</td>\n",
       "      <td>True</td>\n",
       "      <td>[1=VegCat_01, 2=VegCat_02, 3=VegCat_03, 4=VegC...</td>\n",
       "    </tr>\n",
       "    <tr>\n",
       "      <th>77</th>\n",
       "      <td>env</td>\n",
       "      <td>78</td>\n",
       "      <td>wat</td>\n",
       "      <td>Watersheds</td>\n",
       "      <td>True</td>\n",
       "      <td>[1=CoE_N-Bemarivo, 2=CoE_S-Bemarivo_N-Mangoro,...</td>\n",
       "    </tr>\n",
       "    <tr>\n",
       "      <th>78</th>\n",
       "      <td>env</td>\n",
       "      <td>79</td>\n",
       "      <td>forcov</td>\n",
       "      <td>Percentage of forest cover in 1 km by 1 km gri...</td>\n",
       "      <td>False</td>\n",
       "      <td>%</td>\n",
       "    </tr>\n",
       "  </tbody>\n",
       "</table>\n",
       "</div>"
      ],
      "text/plain": [
       "   geoclim_type  layer_number layer_name  \\\n",
       "70          env            71        alt   \n",
       "71          env            72        slo   \n",
       "72          env            73        asp   \n",
       "73          env            74     solrad   \n",
       "74          env            75        geo   \n",
       "75          env            76        soi   \n",
       "76          env            77        veg   \n",
       "77          env            78        wat   \n",
       "78          env            79     forcov   \n",
       "\n",
       "                                    layer_description  is_categorical  \\\n",
       "70                                           Altitude           False   \n",
       "71                                              Slope           False   \n",
       "72                       Aspect; clockwise from North           False   \n",
       "73  Solar radiation; computed from altitude, slope...           False   \n",
       "74                                         Rock types            True   \n",
       "75                                         Soil types            True   \n",
       "76                                   Vegetation types            True   \n",
       "77                                         Watersheds            True   \n",
       "78  Percentage of forest cover in 1 km by 1 km gri...           False   \n",
       "\n",
       "                                                units  \n",
       "70                                             meters  \n",
       "71                                            degrees  \n",
       "72                                            degrees  \n",
       "73                                       Wh.m-2.day-1  \n",
       "74  [1=Alluvial_&_Lake_deposits, 2=Unconsolidated_...  \n",
       "75  [1=Bare_Rocks, 2=Raw_Lithic_Mineral_Soils, 3=P...  \n",
       "76  [1=VegCat_01, 2=VegCat_02, 3=VegCat_03, 4=VegC...  \n",
       "77  [1=CoE_N-Bemarivo, 2=CoE_S-Bemarivo_N-Mangoro,...  \n",
       "78                                                  %  "
      ]
     },
     "execution_count": 5,
     "metadata": {},
     "output_type": "execute_result"
    }
   ],
   "source": [
    "mada_info.select_geoclim_type_layers(geoclim_type=\"env\")"
   ]
  },
  {
   "cell_type": "markdown",
   "metadata": {},
   "source": [
    "### Layers labels for downstream applications"
   ]
  },
  {
   "cell_type": "markdown",
   "metadata": {},
   "source": [
    "Extract the layers labels in a simple format with the `get_layers_labels` method. All values are unique"
   ]
  },
  {
   "cell_type": "code",
   "execution_count": 6,
   "metadata": {},
   "outputs": [
    {
     "data": {
      "text/plain": [
       "['layer_1', 'layer_2', 'layer_3', 'layer_4', 'layer_5']"
      ]
     },
     "execution_count": 6,
     "metadata": {},
     "output_type": "execute_result"
    }
   ],
   "source": [
    "all_labels = mada_info.get_layers_labels()    # Defaults to \"all\" for all layers\n",
    "all_labels[:5]"
   ]
  },
  {
   "cell_type": "code",
   "execution_count": 7,
   "metadata": {},
   "outputs": [
    {
     "data": {
      "text/plain": [
       "['layer_71',\n",
       " 'layer_72',\n",
       " 'layer_73',\n",
       " 'layer_74',\n",
       " 'layer_75',\n",
       " 'layer_76',\n",
       " 'layer_77',\n",
       " 'layer_78',\n",
       " 'layer_79']"
      ]
     },
     "execution_count": 7,
     "metadata": {},
     "output_type": "execute_result"
    }
   ],
   "source": [
    "# Extract environmental layers only\n",
    "env_layers = mada_info.get_layers_labels(layers_subset=\"env\")\n",
    "env_layers"
   ]
  },
  {
   "cell_type": "markdown",
   "metadata": {},
   "source": [
    "Option for a more detailed label format"
   ]
  },
  {
   "cell_type": "code",
   "execution_count": 8,
   "metadata": {},
   "outputs": [
    {
     "data": {
      "text/plain": [
       "['clim_37_bio1_Annual mean temperature (degrees)']"
      ]
     },
     "execution_count": 8,
     "metadata": {},
     "output_type": "execute_result"
    }
   ],
   "source": [
    "# Get a single layer with a more descriptive label\n",
    "mada_info.get_layers_labels(37, as_descriptive_labels=True)"
   ]
  },
  {
   "cell_type": "code",
   "execution_count": 9,
   "metadata": {},
   "outputs": [
    {
     "data": {
      "text/plain": [
       "['env_75_geo_Rock types (categ_vals: 1, 2, 4, 5, 6, 7, 9, 10, 11, 12, 13)',\n",
       " 'env_76_soi_Soil types (categ_vals: 1, 2, 3, 4, 5, 6, 7, 8, 9, 10, 11, 12, 13, 14, 15, 16, 17, 18, 19, 20, 21, 22, 23)',\n",
       " 'env_77_veg_Vegetation types (categ_vals: 1, 2, 3, 4, 5, 6, 7, 9, 10, 11, 12, 13, 14, 15, 16, 18, 19, 22, 23, 25)',\n",
       " 'env_78_wat_Watersheds (categ_vals: 1, 2, 3, 4, 5, 6, 7, 8, 9, 10, 11, 12, 13, 14, 15, 16, 17, 18, 19, 20, 21, 22, 23, 24, 25)']"
      ]
     },
     "execution_count": 9,
     "metadata": {},
     "output_type": "execute_result"
    }
   ],
   "source": [
    "# Categorical layers contains the possible raster values for each categories\n",
    "categ_layers_nums = list(mada_info.categorical_layers[\"layer_number\"].unique())\n",
    "mada_info.get_layers_labels(categ_layers_nums, as_descriptive_labels=True)"
   ]
  },
  {
   "cell_type": "markdown",
   "metadata": {},
   "source": [
    "Extract a subset of layers based on layer number and taking advantage of the descriptive naming structure of the `as_descriptive_out` output:\n",
    "\n",
    " \\<geoclim_type>\\_\\<dasd>\\_\\<unique_layername>\\_\\<details>"
   ]
  },
  {
   "cell_type": "code",
   "execution_count": 10,
   "metadata": {},
   "outputs": [],
   "source": [
    "# Layers subset with a more descriptive label\n",
    "labels_37_55 = mada_info.get_layers_labels(list(range(37, 56)), as_descriptive_labels=True)\n",
    "\n",
    "# Or using the unique_layername\n",
    "bioclim_labels = [label for label in mada_info.get_layers_labels(as_descriptive_labels=True) if \"bio\" in label]\n",
    "assert labels_37_55 == bioclim_labels"
   ]
  },
  {
   "cell_type": "markdown",
   "metadata": {},
   "source": [
    "### Fetch specific layers"
   ]
  },
  {
   "cell_type": "markdown",
   "metadata": {},
   "source": [
    "Fetch specific layers using the previously generated labels, or numbers, we can fetch specific data from the `all_layers` df"
   ]
  },
  {
   "cell_type": "code",
   "execution_count": 11,
   "metadata": {},
   "outputs": [
    {
     "data": {
      "text/html": [
       "<div>\n",
       "<style scoped>\n",
       "    .dataframe tbody tr th:only-of-type {\n",
       "        vertical-align: middle;\n",
       "    }\n",
       "\n",
       "    .dataframe tbody tr th {\n",
       "        vertical-align: top;\n",
       "    }\n",
       "\n",
       "    .dataframe thead th {\n",
       "        text-align: right;\n",
       "    }\n",
       "</style>\n",
       "<table border=\"1\" class=\"dataframe\">\n",
       "  <thead>\n",
       "    <tr style=\"text-align: right;\">\n",
       "      <th></th>\n",
       "      <th>geoclim_type</th>\n",
       "      <th>layer_number</th>\n",
       "      <th>layer_name</th>\n",
       "      <th>layer_description</th>\n",
       "      <th>is_categorical</th>\n",
       "      <th>units</th>\n",
       "    </tr>\n",
       "  </thead>\n",
       "  <tbody>\n",
       "    <tr>\n",
       "      <th>0</th>\n",
       "      <td>clim</td>\n",
       "      <td>1</td>\n",
       "      <td>tmin1</td>\n",
       "      <td>Monthly minimum temperature - January</td>\n",
       "      <td>False</td>\n",
       "      <td>°C x 10</td>\n",
       "    </tr>\n",
       "    <tr>\n",
       "      <th>14</th>\n",
       "      <td>clim</td>\n",
       "      <td>15</td>\n",
       "      <td>tmax3</td>\n",
       "      <td>Monthly maximum temperature - March</td>\n",
       "      <td>False</td>\n",
       "      <td>°C x 10</td>\n",
       "    </tr>\n",
       "    <tr>\n",
       "      <th>54</th>\n",
       "      <td>clim</td>\n",
       "      <td>55</td>\n",
       "      <td>bio19</td>\n",
       "      <td>Precipitation of coldest quarter</td>\n",
       "      <td>False</td>\n",
       "      <td>mm.3months-1</td>\n",
       "    </tr>\n",
       "    <tr>\n",
       "      <th>70</th>\n",
       "      <td>env</td>\n",
       "      <td>71</td>\n",
       "      <td>alt</td>\n",
       "      <td>Altitude</td>\n",
       "      <td>False</td>\n",
       "      <td>meters</td>\n",
       "    </tr>\n",
       "  </tbody>\n",
       "</table>\n",
       "</div>"
      ],
      "text/plain": [
       "   geoclim_type  layer_number layer_name  \\\n",
       "0          clim             1      tmin1   \n",
       "14         clim            15      tmax3   \n",
       "54         clim            55      bio19   \n",
       "70          env            71        alt   \n",
       "\n",
       "                        layer_description  is_categorical         units  \n",
       "0   Monthly minimum temperature - January           False       °C x 10  \n",
       "14    Monthly maximum temperature - March           False       °C x 10  \n",
       "54       Precipitation of coldest quarter           False  mm.3months-1  \n",
       "70                               Altitude           False        meters  "
      ]
     },
     "execution_count": 11,
     "metadata": {},
     "output_type": "execute_result"
    }
   ],
   "source": [
    "# From a list of layer_numbers\n",
    "mada_info.fetch_specific_layers([1, 15, 55, 71])"
   ]
  },
  {
   "cell_type": "code",
   "execution_count": 12,
   "metadata": {},
   "outputs": [
    {
     "data": {
      "text/html": [
       "<div>\n",
       "<style scoped>\n",
       "    .dataframe tbody tr th:only-of-type {\n",
       "        vertical-align: middle;\n",
       "    }\n",
       "\n",
       "    .dataframe tbody tr th {\n",
       "        vertical-align: top;\n",
       "    }\n",
       "\n",
       "    .dataframe thead th {\n",
       "        text-align: right;\n",
       "    }\n",
       "</style>\n",
       "<table border=\"1\" class=\"dataframe\">\n",
       "  <thead>\n",
       "    <tr style=\"text-align: right;\">\n",
       "      <th></th>\n",
       "      <th>geoclim_type</th>\n",
       "      <th>layer_number</th>\n",
       "      <th>layer_name</th>\n",
       "      <th>layer_description</th>\n",
       "      <th>is_categorical</th>\n",
       "      <th>units</th>\n",
       "    </tr>\n",
       "  </thead>\n",
       "  <tbody>\n",
       "    <tr>\n",
       "      <th>36</th>\n",
       "      <td>clim</td>\n",
       "      <td>37</td>\n",
       "      <td>bio1</td>\n",
       "      <td>Annual mean temperature</td>\n",
       "      <td>False</td>\n",
       "      <td>degrees</td>\n",
       "    </tr>\n",
       "    <tr>\n",
       "      <th>37</th>\n",
       "      <td>clim</td>\n",
       "      <td>38</td>\n",
       "      <td>bio2</td>\n",
       "      <td>Mean diurnal range</td>\n",
       "      <td>False</td>\n",
       "      <td>mean of monthly max temp - monthy min temp</td>\n",
       "    </tr>\n",
       "    <tr>\n",
       "      <th>38</th>\n",
       "      <td>clim</td>\n",
       "      <td>39</td>\n",
       "      <td>bio3</td>\n",
       "      <td>Isothermality = BIO2/BIO7 x 100</td>\n",
       "      <td>False</td>\n",
       "      <td>No units</td>\n",
       "    </tr>\n",
       "    <tr>\n",
       "      <th>39</th>\n",
       "      <td>clim</td>\n",
       "      <td>40</td>\n",
       "      <td>bio4</td>\n",
       "      <td>Temperature seasonality</td>\n",
       "      <td>False</td>\n",
       "      <td>standard deviation x 100</td>\n",
       "    </tr>\n",
       "    <tr>\n",
       "      <th>40</th>\n",
       "      <td>clim</td>\n",
       "      <td>41</td>\n",
       "      <td>bio5</td>\n",
       "      <td>Max temperature of warmest month</td>\n",
       "      <td>False</td>\n",
       "      <td>degrees</td>\n",
       "    </tr>\n",
       "    <tr>\n",
       "      <th>41</th>\n",
       "      <td>clim</td>\n",
       "      <td>42</td>\n",
       "      <td>bio6</td>\n",
       "      <td>Min temperature of coldest month</td>\n",
       "      <td>False</td>\n",
       "      <td>degrees</td>\n",
       "    </tr>\n",
       "    <tr>\n",
       "      <th>42</th>\n",
       "      <td>clim</td>\n",
       "      <td>43</td>\n",
       "      <td>bio7</td>\n",
       "      <td>Temperature annual range  = BIO5-BIO6</td>\n",
       "      <td>False</td>\n",
       "      <td>degrees</td>\n",
       "    </tr>\n",
       "    <tr>\n",
       "      <th>43</th>\n",
       "      <td>clim</td>\n",
       "      <td>44</td>\n",
       "      <td>bio8</td>\n",
       "      <td>Mean temperature of wettest quarter</td>\n",
       "      <td>False</td>\n",
       "      <td>degrees</td>\n",
       "    </tr>\n",
       "    <tr>\n",
       "      <th>44</th>\n",
       "      <td>clim</td>\n",
       "      <td>45</td>\n",
       "      <td>bio9</td>\n",
       "      <td>Mean temperature of driest quarter</td>\n",
       "      <td>False</td>\n",
       "      <td>degrees</td>\n",
       "    </tr>\n",
       "    <tr>\n",
       "      <th>45</th>\n",
       "      <td>clim</td>\n",
       "      <td>46</td>\n",
       "      <td>bio10</td>\n",
       "      <td>Mean temperature of warmest quarter</td>\n",
       "      <td>False</td>\n",
       "      <td>degrees</td>\n",
       "    </tr>\n",
       "    <tr>\n",
       "      <th>46</th>\n",
       "      <td>clim</td>\n",
       "      <td>47</td>\n",
       "      <td>bio11</td>\n",
       "      <td>Mean temperature of coldest quarter</td>\n",
       "      <td>False</td>\n",
       "      <td>degrees</td>\n",
       "    </tr>\n",
       "    <tr>\n",
       "      <th>47</th>\n",
       "      <td>clim</td>\n",
       "      <td>48</td>\n",
       "      <td>bio12</td>\n",
       "      <td>Annual precipitation</td>\n",
       "      <td>False</td>\n",
       "      <td>mm.year-1</td>\n",
       "    </tr>\n",
       "    <tr>\n",
       "      <th>48</th>\n",
       "      <td>clim</td>\n",
       "      <td>49</td>\n",
       "      <td>bio13</td>\n",
       "      <td>Precipitation of wettest month</td>\n",
       "      <td>False</td>\n",
       "      <td>mm</td>\n",
       "    </tr>\n",
       "    <tr>\n",
       "      <th>49</th>\n",
       "      <td>clim</td>\n",
       "      <td>50</td>\n",
       "      <td>bio14</td>\n",
       "      <td>Precipitation of driest month</td>\n",
       "      <td>False</td>\n",
       "      <td>mm</td>\n",
       "    </tr>\n",
       "    <tr>\n",
       "      <th>50</th>\n",
       "      <td>clim</td>\n",
       "      <td>51</td>\n",
       "      <td>bio15</td>\n",
       "      <td>Precipitation seasonality</td>\n",
       "      <td>False</td>\n",
       "      <td>coefficient of variation</td>\n",
       "    </tr>\n",
       "    <tr>\n",
       "      <th>51</th>\n",
       "      <td>clim</td>\n",
       "      <td>52</td>\n",
       "      <td>bio16</td>\n",
       "      <td>Precipitation of wettest quarter</td>\n",
       "      <td>False</td>\n",
       "      <td>mm.3months-1</td>\n",
       "    </tr>\n",
       "    <tr>\n",
       "      <th>52</th>\n",
       "      <td>clim</td>\n",
       "      <td>53</td>\n",
       "      <td>bio17</td>\n",
       "      <td>Precipitation of driest quarter</td>\n",
       "      <td>False</td>\n",
       "      <td>mm.3months-1</td>\n",
       "    </tr>\n",
       "    <tr>\n",
       "      <th>53</th>\n",
       "      <td>clim</td>\n",
       "      <td>54</td>\n",
       "      <td>bio18</td>\n",
       "      <td>Precipitation of warmest quarter</td>\n",
       "      <td>False</td>\n",
       "      <td>mm.3months-1</td>\n",
       "    </tr>\n",
       "    <tr>\n",
       "      <th>54</th>\n",
       "      <td>clim</td>\n",
       "      <td>55</td>\n",
       "      <td>bio19</td>\n",
       "      <td>Precipitation of coldest quarter</td>\n",
       "      <td>False</td>\n",
       "      <td>mm.3months-1</td>\n",
       "    </tr>\n",
       "  </tbody>\n",
       "</table>\n",
       "</div>"
      ],
      "text/plain": [
       "   geoclim_type  layer_number layer_name  \\\n",
       "36         clim            37       bio1   \n",
       "37         clim            38       bio2   \n",
       "38         clim            39       bio3   \n",
       "39         clim            40       bio4   \n",
       "40         clim            41       bio5   \n",
       "41         clim            42       bio6   \n",
       "42         clim            43       bio7   \n",
       "43         clim            44       bio8   \n",
       "44         clim            45       bio9   \n",
       "45         clim            46      bio10   \n",
       "46         clim            47      bio11   \n",
       "47         clim            48      bio12   \n",
       "48         clim            49      bio13   \n",
       "49         clim            50      bio14   \n",
       "50         clim            51      bio15   \n",
       "51         clim            52      bio16   \n",
       "52         clim            53      bio17   \n",
       "53         clim            54      bio18   \n",
       "54         clim            55      bio19   \n",
       "\n",
       "                        layer_description  is_categorical  \\\n",
       "36                Annual mean temperature           False   \n",
       "37                     Mean diurnal range           False   \n",
       "38        Isothermality = BIO2/BIO7 x 100           False   \n",
       "39                Temperature seasonality           False   \n",
       "40       Max temperature of warmest month           False   \n",
       "41       Min temperature of coldest month           False   \n",
       "42  Temperature annual range  = BIO5-BIO6           False   \n",
       "43    Mean temperature of wettest quarter           False   \n",
       "44     Mean temperature of driest quarter           False   \n",
       "45    Mean temperature of warmest quarter           False   \n",
       "46    Mean temperature of coldest quarter           False   \n",
       "47                   Annual precipitation           False   \n",
       "48         Precipitation of wettest month           False   \n",
       "49          Precipitation of driest month           False   \n",
       "50              Precipitation seasonality           False   \n",
       "51       Precipitation of wettest quarter           False   \n",
       "52        Precipitation of driest quarter           False   \n",
       "53       Precipitation of warmest quarter           False   \n",
       "54       Precipitation of coldest quarter           False   \n",
       "\n",
       "                                         units  \n",
       "36                                     degrees  \n",
       "37  mean of monthly max temp - monthy min temp  \n",
       "38                                    No units  \n",
       "39                    standard deviation x 100  \n",
       "40                                     degrees  \n",
       "41                                     degrees  \n",
       "42                                     degrees  \n",
       "43                                     degrees  \n",
       "44                                     degrees  \n",
       "45                                     degrees  \n",
       "46                                     degrees  \n",
       "47                                   mm.year-1  \n",
       "48                                          mm  \n",
       "49                                          mm  \n",
       "50                    coefficient of variation  \n",
       "51                                mm.3months-1  \n",
       "52                                mm.3months-1  \n",
       "53                                mm.3months-1  \n",
       "54                                mm.3months-1  "
      ]
     },
     "execution_count": 12,
     "metadata": {},
     "output_type": "execute_result"
    }
   ],
   "source": [
    "# Using the output from `get_layers_labels` method\n",
    "mada_info.fetch_specific_layers(layers_labels=bioclim_labels)"
   ]
  },
  {
   "cell_type": "code",
   "execution_count": 13,
   "metadata": {},
   "outputs": [
    {
     "name": "stdout",
     "output_type": "stream",
     "text": [
      "['layer_71', 'layer_72', 'layer_73', 'layer_74', 'layer_75', 'layer_76', 'layer_77', 'layer_78', 'layer_79']\n"
     ]
    },
    {
     "data": {
      "text/html": [
       "<div>\n",
       "<style scoped>\n",
       "    .dataframe tbody tr th:only-of-type {\n",
       "        vertical-align: middle;\n",
       "    }\n",
       "\n",
       "    .dataframe tbody tr th {\n",
       "        vertical-align: top;\n",
       "    }\n",
       "\n",
       "    .dataframe thead th {\n",
       "        text-align: right;\n",
       "    }\n",
       "</style>\n",
       "<table border=\"1\" class=\"dataframe\">\n",
       "  <thead>\n",
       "    <tr style=\"text-align: right;\">\n",
       "      <th></th>\n",
       "      <th>geoclim_type</th>\n",
       "      <th>layer_number</th>\n",
       "      <th>layer_name</th>\n",
       "      <th>layer_description</th>\n",
       "      <th>is_categorical</th>\n",
       "      <th>units</th>\n",
       "    </tr>\n",
       "  </thead>\n",
       "  <tbody>\n",
       "    <tr>\n",
       "      <th>70</th>\n",
       "      <td>env</td>\n",
       "      <td>71</td>\n",
       "      <td>alt</td>\n",
       "      <td>Altitude</td>\n",
       "      <td>False</td>\n",
       "      <td>meters</td>\n",
       "    </tr>\n",
       "    <tr>\n",
       "      <th>71</th>\n",
       "      <td>env</td>\n",
       "      <td>72</td>\n",
       "      <td>slo</td>\n",
       "      <td>Slope</td>\n",
       "      <td>False</td>\n",
       "      <td>degrees</td>\n",
       "    </tr>\n",
       "    <tr>\n",
       "      <th>72</th>\n",
       "      <td>env</td>\n",
       "      <td>73</td>\n",
       "      <td>asp</td>\n",
       "      <td>Aspect; clockwise from North</td>\n",
       "      <td>False</td>\n",
       "      <td>degrees</td>\n",
       "    </tr>\n",
       "    <tr>\n",
       "      <th>73</th>\n",
       "      <td>env</td>\n",
       "      <td>74</td>\n",
       "      <td>solrad</td>\n",
       "      <td>Solar radiation; computed from altitude, slope...</td>\n",
       "      <td>False</td>\n",
       "      <td>Wh.m-2.day-1</td>\n",
       "    </tr>\n",
       "    <tr>\n",
       "      <th>74</th>\n",
       "      <td>env</td>\n",
       "      <td>75</td>\n",
       "      <td>geo</td>\n",
       "      <td>Rock types</td>\n",
       "      <td>True</td>\n",
       "      <td>[1=Alluvial_&amp;_Lake_deposits, 2=Unconsolidated_...</td>\n",
       "    </tr>\n",
       "    <tr>\n",
       "      <th>75</th>\n",
       "      <td>env</td>\n",
       "      <td>76</td>\n",
       "      <td>soi</td>\n",
       "      <td>Soil types</td>\n",
       "      <td>True</td>\n",
       "      <td>[1=Bare_Rocks, 2=Raw_Lithic_Mineral_Soils, 3=P...</td>\n",
       "    </tr>\n",
       "    <tr>\n",
       "      <th>76</th>\n",
       "      <td>env</td>\n",
       "      <td>77</td>\n",
       "      <td>veg</td>\n",
       "      <td>Vegetation types</td>\n",
       "      <td>True</td>\n",
       "      <td>[1=VegCat_01, 2=VegCat_02, 3=VegCat_03, 4=VegC...</td>\n",
       "    </tr>\n",
       "    <tr>\n",
       "      <th>77</th>\n",
       "      <td>env</td>\n",
       "      <td>78</td>\n",
       "      <td>wat</td>\n",
       "      <td>Watersheds</td>\n",
       "      <td>True</td>\n",
       "      <td>[1=CoE_N-Bemarivo, 2=CoE_S-Bemarivo_N-Mangoro,...</td>\n",
       "    </tr>\n",
       "    <tr>\n",
       "      <th>78</th>\n",
       "      <td>env</td>\n",
       "      <td>79</td>\n",
       "      <td>forcov</td>\n",
       "      <td>Percentage of forest cover in 1 km by 1 km gri...</td>\n",
       "      <td>False</td>\n",
       "      <td>%</td>\n",
       "    </tr>\n",
       "  </tbody>\n",
       "</table>\n",
       "</div>"
      ],
      "text/plain": [
       "   geoclim_type  layer_number layer_name  \\\n",
       "70          env            71        alt   \n",
       "71          env            72        slo   \n",
       "72          env            73        asp   \n",
       "73          env            74     solrad   \n",
       "74          env            75        geo   \n",
       "75          env            76        soi   \n",
       "76          env            77        veg   \n",
       "77          env            78        wat   \n",
       "78          env            79     forcov   \n",
       "\n",
       "                                    layer_description  is_categorical  \\\n",
       "70                                           Altitude           False   \n",
       "71                                              Slope           False   \n",
       "72                       Aspect; clockwise from North           False   \n",
       "73  Solar radiation; computed from altitude, slope...           False   \n",
       "74                                         Rock types            True   \n",
       "75                                         Soil types            True   \n",
       "76                                   Vegetation types            True   \n",
       "77                                         Watersheds            True   \n",
       "78  Percentage of forest cover in 1 km by 1 km gri...           False   \n",
       "\n",
       "                                                units  \n",
       "70                                             meters  \n",
       "71                                            degrees  \n",
       "72                                            degrees  \n",
       "73                                       Wh.m-2.day-1  \n",
       "74  [1=Alluvial_&_Lake_deposits, 2=Unconsolidated_...  \n",
       "75  [1=Bare_Rocks, 2=Raw_Lithic_Mineral_Soils, 3=P...  \n",
       "76  [1=VegCat_01, 2=VegCat_02, 3=VegCat_03, 4=VegC...  \n",
       "77  [1=CoE_N-Bemarivo, 2=CoE_S-Bemarivo_N-Mangoro,...  \n",
       "78                                                  %  "
      ]
     },
     "execution_count": 13,
     "metadata": {},
     "output_type": "execute_result"
    }
   ],
   "source": [
    "# or from simple labels\n",
    "print(env_layers)\n",
    "mada_info.fetch_specific_layers(env_layers,)"
   ]
  },
  {
   "cell_type": "markdown",
   "metadata": {},
   "source": [
    "Pass in any valid position args (column names of the all_layers df) and extract as a nested-dict structure"
   ]
  },
  {
   "cell_type": "code",
   "execution_count": 14,
   "metadata": {},
   "outputs": [
    {
     "name": "stdout",
     "output_type": "stream",
     "text": [
      "\"Invalid args: ['layer_info']. Args must be one of a key of ['geoclim_type', 'layer_number', 'layer_name', 'layer_description', 'is_categorical', 'units'] or 'all'\"\n"
     ]
    }
   ],
   "source": [
    "try:\n",
    "    mada_info.fetch_specific_layers(10, \"layer_info\")\n",
    "except Exception as e:\n",
    "    print(e)"
   ]
  },
  {
   "cell_type": "code",
   "execution_count": 15,
   "metadata": {},
   "outputs": [
    {
     "data": {
      "text/plain": [
       "{'layer_15': {'geoclim_type': 'clim',\n",
       "  'layer_name': 'tmax3',\n",
       "  'is_categorical': False},\n",
       " 'layer_55': {'geoclim_type': 'clim',\n",
       "  'layer_name': 'bio19',\n",
       "  'is_categorical': False},\n",
       " 'layer_75': {'geoclim_type': 'env',\n",
       "  'layer_name': 'geo',\n",
       "  'is_categorical': True}}"
      ]
     },
     "execution_count": 15,
     "metadata": {},
     "output_type": "execute_result"
    }
   ],
   "source": [
    "# Fetch as dict with keys as layer_<num> and vals of choice using \n",
    "mada_info.fetch_specific_layers([15, 55, 75], \"geoclim_type\", \"layer_name\", \"is_categorical\")"
   ]
  },
  {
   "cell_type": "code",
   "execution_count": 16,
   "metadata": {},
   "outputs": [
    {
     "data": {
      "text/plain": [
       "{'layer_37': {'geoclim_type': 'clim',\n",
       "  'layer_number': 37,\n",
       "  'layer_name': 'bio1',\n",
       "  'layer_description': 'Annual mean temperature',\n",
       "  'is_categorical': False,\n",
       "  'units': 'degrees'}}"
      ]
     },
     "execution_count": 16,
     "metadata": {},
     "output_type": "execute_result"
    }
   ],
   "source": [
    "# Get all keys with the `all` argument\n",
    "mada_info.fetch_specific_layers(bioclim_labels[0], \"all\")"
   ]
  },
  {
   "cell_type": "markdown",
   "metadata": {},
   "source": [
    "### Categorical layers"
   ]
  },
  {
   "cell_type": "markdown",
   "metadata": {},
   "source": [
    "The `categorical_layers` property contains a detailed Dataframe of all the raster layers with categorical data"
   ]
  },
  {
   "cell_type": "code",
   "execution_count": 17,
   "metadata": {},
   "outputs": [
    {
     "data": {
      "text/html": [
       "<div>\n",
       "<style scoped>\n",
       "    .dataframe tbody tr th:only-of-type {\n",
       "        vertical-align: middle;\n",
       "    }\n",
       "\n",
       "    .dataframe tbody tr th {\n",
       "        vertical-align: top;\n",
       "    }\n",
       "\n",
       "    .dataframe thead th {\n",
       "        text-align: right;\n",
       "    }\n",
       "</style>\n",
       "<table border=\"1\" class=\"dataframe\">\n",
       "  <thead>\n",
       "    <tr style=\"text-align: right;\">\n",
       "      <th></th>\n",
       "      <th>geoclim_type</th>\n",
       "      <th>layer_number</th>\n",
       "      <th>layer_name</th>\n",
       "      <th>layer_description</th>\n",
       "      <th>raster_value</th>\n",
       "      <th>category</th>\n",
       "    </tr>\n",
       "  </thead>\n",
       "  <tbody>\n",
       "    <tr>\n",
       "      <th>0</th>\n",
       "      <td>env</td>\n",
       "      <td>75</td>\n",
       "      <td>geo</td>\n",
       "      <td>Rock types</td>\n",
       "      <td>1</td>\n",
       "      <td>Alluvial_&amp;_Lake_deposits</td>\n",
       "    </tr>\n",
       "    <tr>\n",
       "      <th>1</th>\n",
       "      <td>env</td>\n",
       "      <td>75</td>\n",
       "      <td>geo</td>\n",
       "      <td>Rock types</td>\n",
       "      <td>2</td>\n",
       "      <td>Unconsolidated_Sands</td>\n",
       "    </tr>\n",
       "    <tr>\n",
       "      <th>2</th>\n",
       "      <td>env</td>\n",
       "      <td>75</td>\n",
       "      <td>geo</td>\n",
       "      <td>Rock types</td>\n",
       "      <td>4</td>\n",
       "      <td>Mangrove_Swamp</td>\n",
       "    </tr>\n",
       "    <tr>\n",
       "      <th>3</th>\n",
       "      <td>env</td>\n",
       "      <td>75</td>\n",
       "      <td>geo</td>\n",
       "      <td>Rock types</td>\n",
       "      <td>5</td>\n",
       "      <td>Tertiary_Limestones_+_Marls_&amp;_Chalks</td>\n",
       "    </tr>\n",
       "    <tr>\n",
       "      <th>4</th>\n",
       "      <td>env</td>\n",
       "      <td>75</td>\n",
       "      <td>geo</td>\n",
       "      <td>Rock types</td>\n",
       "      <td>6</td>\n",
       "      <td>Sandstones</td>\n",
       "    </tr>\n",
       "  </tbody>\n",
       "</table>\n",
       "</div>"
      ],
      "text/plain": [
       "  geoclim_type  layer_number layer_name layer_description raster_value  \\\n",
       "0          env            75        geo        Rock types            1   \n",
       "1          env            75        geo        Rock types            2   \n",
       "2          env            75        geo        Rock types            4   \n",
       "3          env            75        geo        Rock types            5   \n",
       "4          env            75        geo        Rock types            6   \n",
       "\n",
       "                               category  \n",
       "0              Alluvial_&_Lake_deposits  \n",
       "1                  Unconsolidated_Sands  \n",
       "2                        Mangrove_Swamp  \n",
       "3  Tertiary_Limestones_+_Marls_&_Chalks  \n",
       "4                            Sandstones  "
      ]
     },
     "execution_count": 17,
     "metadata": {},
     "output_type": "execute_result"
    }
   ],
   "source": [
    "mada_info.categorical_layers.head()"
   ]
  },
  {
   "cell_type": "markdown",
   "metadata": {},
   "source": [
    "The `get_categorical_combinations` method formats the data as a dict structure of layers/possible categories combinations"
   ]
  },
  {
   "cell_type": "code",
   "execution_count": 18,
   "metadata": {},
   "outputs": [
    {
     "name": "stdout",
     "output_type": "stream",
     "text": [
      "dict_keys(['layer_75', 'layer_76', 'layer_77', 'layer_78'])\n"
     ]
    },
    {
     "data": {
      "text/plain": [
       "{1: 'Alluvial_&_Lake_deposits',\n",
       " 2: 'Unconsolidated_Sands',\n",
       " 4: 'Mangrove_Swamp',\n",
       " 5: 'Tertiary_Limestones_+_Marls_&_Chalks',\n",
       " 6: 'Sandstones',\n",
       " 7: 'Mesozoic_Limestones_+_Marls_(inc._\"Tsingy\")',\n",
       " 9: 'Lavas_(including_Basalts_&_Gabbros)',\n",
       " 10: 'Basement_Rocks_(Ign_&_Met)',\n",
       " 11: 'Ultrabasics',\n",
       " 12: 'Quartzites',\n",
       " 13: 'Marble_(Cipolin)'}"
      ]
     },
     "execution_count": 18,
     "metadata": {},
     "output_type": "execute_result"
    }
   ],
   "source": [
    "# as dict format for all layers\n",
    "print(mada_info.get_categorical_combinations().keys())\n",
    "mada_info.get_categorical_combinations()[\"layer_75\"]"
   ]
  },
  {
   "cell_type": "code",
   "execution_count": 19,
   "metadata": {},
   "outputs": [
    {
     "data": {
      "text/plain": [
       "{'layer_76': {1: 'Bare_Rocks',\n",
       "  2: 'Raw_Lithic_Mineral_Soils',\n",
       "  3: 'Poorly_Evolved_Erosion_Soils,_Lithosols',\n",
       "  4: 'Wind-deposited_Soils',\n",
       "  5: 'Alluvio-colluvial_Deposited_Soils',\n",
       "  6: 'Salty_Deposited_Soils',\n",
       "  7: 'Fluvio-marine_Deposited_Soils_-_Mangroves',\n",
       "  8: 'Vertisols',\n",
       "  9: 'Andosols',\n",
       "  10: 'Podzolic_Soils_and_Podzols',\n",
       "  11: 'Hydromorphic_Soils',\n",
       "  12: 'Red_Fersiallitic_Soils',\n",
       "  13: 'Yellow_Fersiallitic_Soils',\n",
       "  14: 'Yellow-red_Ferruginous_Soils_(Red_Sands)',\n",
       "  15: 'Red_Ferruginous_Soils',\n",
       "  16: 'Skeletal_Shallow_Eroded_Ferruginous_Soils',\n",
       "  17: 'Typical_Reddish-brown_Ferralitic_Soils_with_Little_Degrading_Structure',\n",
       "  18: 'Humic_Ferralitic_Soils',\n",
       "  19: 'Indurated-Concretion_Ferralitic_Soils',\n",
       "  20: 'Humic_Rejuvenated_Ferralitic_Soils',\n",
       "  21: 'Rejuvenated_Ferralitic_Soils_with_Little_Degrading_Structure',\n",
       "  22: 'Rejuvenated_Ferralitic_Soils_with_Degrading_Structure',\n",
       "  23: 'Highly_Rejuvenated,_Penevoluted_Ferralitic_Soils'}}"
      ]
     },
     "execution_count": 19,
     "metadata": {},
     "output_type": "execute_result"
    }
   ],
   "source": [
    "# If a single layer is specified\n",
    "mada_info.get_categorical_combinations(\"layer_76\")"
   ]
  },
  {
   "cell_type": "code",
   "execution_count": 20,
   "metadata": {},
   "outputs": [
    {
     "data": {
      "text/plain": [
       "{'env_76_soi_Soil types (categ_vals: 1, 2, 3, 4, 5, 6, 7, 8, 9, 10, 11, 12, 13, 14, 15, 16, 17, 18, 19, 20, 21, 22, 23)': {1: 'Bare_Rocks',\n",
       "  2: 'Raw_Lithic_Mineral_Soils',\n",
       "  3: 'Poorly_Evolved_Erosion_Soils,_Lithosols',\n",
       "  4: 'Wind-deposited_Soils',\n",
       "  5: 'Alluvio-colluvial_Deposited_Soils',\n",
       "  6: 'Salty_Deposited_Soils',\n",
       "  7: 'Fluvio-marine_Deposited_Soils_-_Mangroves',\n",
       "  8: 'Vertisols',\n",
       "  9: 'Andosols',\n",
       "  10: 'Podzolic_Soils_and_Podzols',\n",
       "  11: 'Hydromorphic_Soils',\n",
       "  12: 'Red_Fersiallitic_Soils',\n",
       "  13: 'Yellow_Fersiallitic_Soils',\n",
       "  14: 'Yellow-red_Ferruginous_Soils_(Red_Sands)',\n",
       "  15: 'Red_Ferruginous_Soils',\n",
       "  16: 'Skeletal_Shallow_Eroded_Ferruginous_Soils',\n",
       "  17: 'Typical_Reddish-brown_Ferralitic_Soils_with_Little_Degrading_Structure',\n",
       "  18: 'Humic_Ferralitic_Soils',\n",
       "  19: 'Indurated-Concretion_Ferralitic_Soils',\n",
       "  20: 'Humic_Rejuvenated_Ferralitic_Soils',\n",
       "  21: 'Rejuvenated_Ferralitic_Soils_with_Little_Degrading_Structure',\n",
       "  22: 'Rejuvenated_Ferralitic_Soils_with_Degrading_Structure',\n",
       "  23: 'Highly_Rejuvenated,_Penevoluted_Ferralitic_Soils'}}"
      ]
     },
     "execution_count": 20,
     "metadata": {},
     "output_type": "execute_result"
    }
   ],
   "source": [
    "# To match the descriptive labels from the previous output, one can also specify\n",
    "mada_info.get_categorical_combinations(\"layer_76\", as_descriptive_keys=True)"
   ]
  },
  {
   "cell_type": "markdown",
   "metadata": {},
   "source": [
    "### Raster files specific methods"
   ]
  },
  {
   "cell_type": "markdown",
   "metadata": {},
   "source": [
    "Even without the raster files locally, we saw that we have access to a lot of methods.\n",
    "\n",
    "Only method we don't have access to is `get_bandnums_from_layers` which returns the band number from given layer(s)"
   ]
  },
  {
   "cell_type": "code",
   "execution_count": 21,
   "metadata": {},
   "outputs": [
    {
     "name": "stdout",
     "output_type": "stream",
     "text": [
      "Undefined attribute: 'clim_raster'. You need to assign a valid pathlib.Path to the related raster attribute first.\n"
     ]
    }
   ],
   "source": [
    "try:\n",
    "    mada_info.get_bandnums_from_layers(bioclim_labels)\n",
    "except AttributeError as e:\n",
    "    print(e)\n"
   ]
  },
  {
   "cell_type": "markdown",
   "metadata": {},
   "source": [
    "Use the `download_data` method to fetch the rasters and save it to disk"
   ]
  },
  {
   "cell_type": "code",
   "execution_count": 22,
   "metadata": {},
   "outputs": [
    {
     "name": "stdout",
     "output_type": "stream",
     "text": [
      "\n",
      "####   Trying get request to Madaclim website...   ####\n",
      "madaclim_current.tif is 21.8 MB\n",
      "Server response OK from madaclim.cirad.fr, starting to download madaclim_current.tif\n",
      "Progress for madaclim_current.tif : 100.00 % completed of 21.8 MB downloaded [ average speed of  3.2 MB/s ]\n",
      "Done downloading madaclim_current.tif in 6.71 seconds !\n",
      "\n",
      "####   Trying get request to Madaclim website...   ####\n",
      "madaclim_enviro.tif is 5.5 MB\n",
      "Server response OK from madaclim.cirad.fr, starting to download madaclim_enviro.tif\n",
      "Progress for madaclim_enviro.tif : 100.00 % completed of 5.5 MB downloaded [ average speed of  2.1 MB/s ]\n",
      "Done downloading madaclim_enviro.tif in 2.64 seconds !\n"
     ]
    }
   ],
   "source": [
    "from pathlib import Path\n",
    "cwd = Path.cwd()\n",
    "\n",
    "raster_files = [\"madaclim_current.tif\", \"madaclim_enviro.tif\"]\n",
    "if not all([file.name in raster_files for file in cwd.iterdir()]):\n",
    "    mada_info.download_data(save_dir=cwd)"
   ]
  },
  {
   "cell_type": "code",
   "execution_count": 23,
   "metadata": {},
   "outputs": [
    {
     "name": "stdout",
     "output_type": "stream",
     "text": [
      "['madaclim_current.tif', 'madaclim_enviro.tif']\n"
     ]
    }
   ],
   "source": [
    "print([file.name for file in cwd.iterdir() if file.suffix == \".tif\"])"
   ]
  },
  {
   "cell_type": "markdown",
   "metadata": {},
   "source": [
    "Setting the raster-related attributes of the `mada_info` instance"
   ]
  },
  {
   "cell_type": "code",
   "execution_count": 24,
   "metadata": {},
   "outputs": [
    {
     "name": "stdout",
     "output_type": "stream",
     "text": [
      "MadaclimLayers(\n",
      "\tall_layers = DataFrame(79 rows x 6 columns)\n",
      "\tcategorical_layers = DataFrame(Layers 75, 76, 77, 78 with a total of 79 categories\n",
      "\tclim_raster = madaclim_current.tif\n",
      "\tclim_crs = EPSG:32738\n",
      "\tenv_raster = madaclim_enviro.tif\n",
      "\tenv_crs = EPSG:32738\n",
      "\tpublic methods -> download_data, fetch_specific_layers, get_bandnums_from_layers\n",
      "\t\t\t get_categorical_combinations, get_layers_labels, select_geoclim_type_layers\n",
      ")\n"
     ]
    }
   ],
   "source": [
    "mada_info.clim_raster = \"./madaclim_current.tif\"\n",
    "mada_info.env_raster = \"./madaclim_enviro.tif\"\n",
    "print(mada_info)    # Now the 'get_bandnums_from_layers' is visible"
   ]
  },
  {
   "cell_type": "code",
   "execution_count": 25,
   "metadata": {},
   "outputs": [
    {
     "name": "stdout",
     "output_type": "stream",
     "text": [
      "EPSG:32738\n"
     ]
    }
   ],
   "source": [
    "# Check the CRS\n",
    "print(mada_info.clim_crs)\n",
    "assert mada_info.clim_crs == mada_info.env_crs"
   ]
  },
  {
   "cell_type": "code",
   "execution_count": 26,
   "metadata": {},
   "outputs": [
    {
     "name": "stdout",
     "output_type": "stream",
     "text": [
      "layer_75 is band #5 on madaclim_enviro.tif\n"
     ]
    }
   ],
   "source": [
    "# Example\n",
    "print(f'layer_75 is band #{mada_info.get_bandnums_from_layers([\"layer_75\"])[0]} on {mada_info.env_raster.name}')"
   ]
  },
  {
   "cell_type": "markdown",
   "metadata": {},
   "source": [
    "One could also pass in the rasters to the `MadaclimLayers` constructor"
   ]
  },
  {
   "cell_type": "code",
   "execution_count": 28,
   "metadata": {},
   "outputs": [
    {
     "data": {
      "text/plain": [
       "MadaclimLayers(\n",
       "\tall_layers = DataFrame(79 rows x 6 columns)\n",
       "\tcategorical_layers = DataFrame(Layers 75, 76, 77, 78 with a total of 79 categories\n",
       "\tclim_raster = madaclim_current.tif\n",
       "\tclim_crs = EPSG:32738\n",
       "\tenv_raster = madaclim_enviro.tif\n",
       "\tenv_crs = EPSG:32738\n",
       "\tpublic methods -> download_data, fetch_specific_layers, get_bandnums_from_layers\n",
       "\t\t\t get_categorical_combinations, get_layers_labels, select_geoclim_type_layers\n",
       ")"
      ]
     },
     "execution_count": 28,
     "metadata": {},
     "output_type": "execute_result"
    }
   ],
   "source": [
    "MadaclimLayers(clim_raster=\"madaclim_current.tif\", env_raster=\"madaclim_enviro.tif\")"
   ]
  },
  {
   "cell_type": "markdown",
   "metadata": {},
   "source": [
    "## Exploring the raster data from the Madaclim db using the MadaclimRasters class"
   ]
  },
  {
   "cell_type": "markdown",
   "metadata": {},
   "source": [
    "### Using layers label to visualize the raster maps"
   ]
  },
  {
   "cell_type": "markdown",
   "metadata": {},
   "source": [
    "Instantiate a `MadaclimRasters` object"
   ]
  },
  {
   "cell_type": "code",
   "execution_count": 27,
   "metadata": {},
   "outputs": [
    {
     "name": "stdout",
     "output_type": "stream",
     "text": [
      "MadaclimRasters(\n",
      "\tclim_raster = madaclim_current.tif,\n",
      "\tclim_crs = EPSG:32738,\n",
      "\tclim_nodata_val = -32768.0\n",
      "\tenv_raster = madaclim_enviro.tif,\n",
      "\tenv_crs = EPSG:32738,\n",
      "\tenv_nodata_val = -32768.0\n",
      ")\n"
     ]
    }
   ],
   "source": [
    "from py_madaclim.raster_manipulation import MadaclimRasters\n",
    "\n",
    "mada_rasters = MadaclimRasters(clim_raster=cwd / \"madaclim_current.tif\", env_raster=cwd / \"madaclim_enviro.tif\")\n",
    "print(mada_rasters)"
   ]
  }
 ],
 "metadata": {
  "kernelspec": {
   "display_name": "aphylo_cm",
   "language": "python",
   "name": "python3"
  },
  "language_info": {
   "codemirror_mode": {
    "name": "ipython",
    "version": 3
   },
   "file_extension": ".py",
   "mimetype": "text/x-python",
   "name": "python",
   "nbconvert_exporter": "python",
   "pygments_lexer": "ipython3",
   "version": "3.11.0"
  },
  "orig_nbformat": 4
 },
 "nbformat": 4,
 "nbformat_minor": 2
}
