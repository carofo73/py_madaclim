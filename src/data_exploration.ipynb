{
 "cells": [
  {
   "attachments": {},
   "cell_type": "markdown",
   "metadata": {},
   "source": [
    "# Data exploration of geoclim and GBS sequencing data from wild coffee tree samples\n",
    "\n",
    "## About the data\n",
    "### Source\n",
    "Hamon P, Grover CE, Davis AP, Rakotomalala JJ, Raharimalala NE, Albert VA, Sreenath HL, Stoffelen P, Mitchell SE, Couturon E, Hamon S, de Kochko A, Crouzillat D, Rigoreau M, Sumirat U, Akaffou S, Guyot R. Genotyping-by-sequencing provides the first well-resolved phylogeny for coffee (Coffea) and insights into the evolution of caffeine content in its species: GBS coffee phylogeny and the evolution of caffeine content. Mol Phylogenet Evol. 2017 Apr;109:351-361. doi: 10.1016/j.ympev.2017.02.009. Epub 2017 Feb 16. PMID: 28212875.\n",
    "\n",
    "### Metadata\n",
    "Metadata table in [data directory](coffeaPhyloGeo/data/geoclim/geospatial/coff_madag_species_summary.xlsx)\n",
    "\n",
    "**Genetic data :**\n",
    "GBS/Rad-Seq from nuclear DNA. Data cleaning, ref-genome alignement + SNP concat #TODO\n",
    "\n",
    "**geoclim data :**\n",
    "GPS positions available in metadata table. To use to extract information on the [Madaclim](https://madaclim.cirad.fr/) database."
   ]
  },
  {
   "attachments": {},
   "cell_type": "markdown",
   "metadata": {},
   "source": [
    "---\n",
    "\n",
    "**All required imports and utils**"
   ]
  },
  {
   "cell_type": "code",
   "execution_count": 463,
   "metadata": {},
   "outputs": [],
   "source": [
    "import pandas as pd\n",
    "from pathlib import Path\n",
    "import numpy as np\n",
    "import numpy as np\n",
    "import matplotlib.pyplot as plt\n",
    "import rasterio\n",
    "from rasterio import plot\n",
    "from definitions import *\n",
    "import geopandas as gpd\n",
    "from shapely.geometry import Point\n",
    "import calendar\n",
    "import re\n",
    "import seaborn as sns"
   ]
  },
  {
   "attachments": {},
   "cell_type": "markdown",
   "metadata": {},
   "source": [
    "## Climate data extraction\n",
    "\n",
    "### Paths and file configs\n",
    "See definitions.py for dir paths + config.yaml ref"
   ]
  },
  {
   "cell_type": "code",
   "execution_count": 464,
   "metadata": {},
   "outputs": [
    {
     "name": "stdout",
     "output_type": "stream",
     "text": [
      "coff_madag_species_summary.xlsx\n",
      "species_locations_all_positions.csv\n",
      "species_locations_gbs_only.csv\n",
      "madaclim_current.tif\n"
     ]
    }
   ],
   "source": [
    "# File names\n",
    "print(\"\\n\".join([METADATA_RAW, GPS_ALL,GPS_GBS_ONLY, MADACLIM_CURRENT_TIF]))"
   ]
  },
  {
   "attachments": {},
   "cell_type": "markdown",
   "metadata": {},
   "source": [
    "### GPS position extraction from metadata + cleaning\n",
    "Generate 2 csv files for 2 subsets using Pandas :\n",
    "- all specimens WITH GPS positions (df_gps_all)\n",
    "- only specimens with BOTH GPS and SNP.fasta (df_gbs_only)"
   ]
  },
  {
   "cell_type": "code",
   "execution_count": 465,
   "metadata": {},
   "outputs": [
    {
     "data": {
      "text/html": [
       "<div>\n",
       "<style scoped>\n",
       "    .dataframe tbody tr th:only-of-type {\n",
       "        vertical-align: middle;\n",
       "    }\n",
       "\n",
       "    .dataframe tbody tr th {\n",
       "        vertical-align: top;\n",
       "    }\n",
       "\n",
       "    .dataframe thead th {\n",
       "        text-align: right;\n",
       "    }\n",
       "</style>\n",
       "<table border=\"1\" class=\"dataframe\">\n",
       "  <thead>\n",
       "    <tr style=\"text-align: right;\">\n",
       "      <th></th>\n",
       "      <th>Species</th>\n",
       "      <th>GBS sequence</th>\n",
       "      <th>Botanical series</th>\n",
       "      <th>Genome size (2C. pg)</th>\n",
       "      <th>Latitude</th>\n",
       "      <th>Longitude</th>\n",
       "      <th>Species code</th>\n",
       "      <th>Population code</th>\n",
       "    </tr>\n",
       "  </thead>\n",
       "  <tbody>\n",
       "    <tr>\n",
       "      <th>0</th>\n",
       "      <td>C.abbayesii</td>\n",
       "      <td>C_abbayesii_A601</td>\n",
       "      <td>Millotii</td>\n",
       "      <td>1.25</td>\n",
       "      <td>-24.7541</td>\n",
       "      <td>46.8624</td>\n",
       "      <td>ABA</td>\n",
       "      <td>A601</td>\n",
       "    </tr>\n",
       "    <tr>\n",
       "      <th>1</th>\n",
       "      <td>C.ambodirianenis</td>\n",
       "      <td>C_ambodirianensis_A572</td>\n",
       "      <td>Millotii</td>\n",
       "      <td>1.27</td>\n",
       "      <td>-18.4522</td>\n",
       "      <td>48.9433</td>\n",
       "      <td>AMB</td>\n",
       "      <td>A572</td>\n",
       "    </tr>\n",
       "    <tr>\n",
       "      <th>2</th>\n",
       "      <td>C.ambongensis</td>\n",
       "      <td>C_ambongensis</td>\n",
       "      <td>Baracoffea</td>\n",
       "      <td>1.16</td>\n",
       "      <td>-15.5745833</td>\n",
       "      <td>46.4198056</td>\n",
       "      <td>AMBON</td>\n",
       "      <td>BR071</td>\n",
       "    </tr>\n",
       "    <tr>\n",
       "      <th>3</th>\n",
       "      <td>C.ankaranensis</td>\n",
       "      <td>C_ankaranensis_A525</td>\n",
       "      <td>Multiflorae \\n</td>\n",
       "      <td>1.17</td>\n",
       "      <td>-12.9491</td>\n",
       "      <td>49.5433</td>\n",
       "      <td>ANK1</td>\n",
       "      <td>A525</td>\n",
       "    </tr>\n",
       "    <tr>\n",
       "      <th>4</th>\n",
       "      <td>C.ankaranensis</td>\n",
       "      <td>-</td>\n",
       "      <td>Multiflorae \\n</td>\n",
       "      <td>1.17</td>\n",
       "      <td>-12.8491</td>\n",
       "      <td>49.5433</td>\n",
       "      <td>ANK2</td>\n",
       "      <td>A808</td>\n",
       "    </tr>\n",
       "  </tbody>\n",
       "</table>\n",
       "</div>"
      ],
      "text/plain": [
       "            Species            GBS sequence Botanical series  \\\n",
       "0       C.abbayesii        C_abbayesii_A601         Millotii   \n",
       "1  C.ambodirianenis  C_ambodirianensis_A572         Millotii   \n",
       "2     C.ambongensis           C_ambongensis       Baracoffea   \n",
       "3    C.ankaranensis     C_ankaranensis_A525   Multiflorae \\n   \n",
       "4    C.ankaranensis                       -   Multiflorae \\n   \n",
       "\n",
       "  Genome size (2C. pg)     Latitude   Longitude Species code Population code  \n",
       "0                 1.25     -24.7541     46.8624          ABA            A601  \n",
       "1                 1.27     -18.4522     48.9433          AMB            A572  \n",
       "2                 1.16  -15.5745833  46.4198056        AMBON           BR071  \n",
       "3                 1.17     -12.9491     49.5433         ANK1            A525  \n",
       "4                 1.17     -12.8491     49.5433         ANK2            A808  "
      ]
     },
     "execution_count": 465,
     "metadata": {},
     "output_type": "execute_result"
    }
   ],
   "source": [
    "# Read from raw table\n",
    "df = pd.read_excel(GEOSPATIAL_DIR / METADATA_RAW, decimal=\",\")\n",
    "df = df.dropna(how=\"all\")\n",
    "df.head()"
   ]
  },
  {
   "attachments": {},
   "cell_type": "markdown",
   "metadata": {},
   "source": [
    "**Note for later** Use madaclim to impute missing gps POS on samples : \n",
    "- RNF785\n",
    "- APD3096\n",
    "- A1013"
   ]
  },
  {
   "cell_type": "code",
   "execution_count": 466,
   "metadata": {},
   "outputs": [
    {
     "data": {
      "text/html": [
       "<div>\n",
       "<style scoped>\n",
       "    .dataframe tbody tr th:only-of-type {\n",
       "        vertical-align: middle;\n",
       "    }\n",
       "\n",
       "    .dataframe tbody tr th {\n",
       "        vertical-align: top;\n",
       "    }\n",
       "\n",
       "    .dataframe thead th {\n",
       "        text-align: right;\n",
       "    }\n",
       "</style>\n",
       "<table border=\"1\" class=\"dataframe\">\n",
       "  <thead>\n",
       "    <tr style=\"text-align: right;\">\n",
       "      <th></th>\n",
       "      <th>Species</th>\n",
       "      <th>Species code</th>\n",
       "      <th>Population code</th>\n",
       "      <th>GBS sequence</th>\n",
       "      <th>Botanical series</th>\n",
       "      <th>Genome size (2C. pg)</th>\n",
       "      <th>Latitude</th>\n",
       "      <th>Longitude</th>\n",
       "    </tr>\n",
       "  </thead>\n",
       "  <tbody>\n",
       "    <tr>\n",
       "      <th>0</th>\n",
       "      <td>C.abbayesii</td>\n",
       "      <td>ABA</td>\n",
       "      <td>A601</td>\n",
       "      <td>C_abbayesii_A601</td>\n",
       "      <td>Millotii</td>\n",
       "      <td>1.25</td>\n",
       "      <td>-24.7541</td>\n",
       "      <td>46.862400</td>\n",
       "    </tr>\n",
       "    <tr>\n",
       "      <th>1</th>\n",
       "      <td>C.ambodirianenis</td>\n",
       "      <td>AMB</td>\n",
       "      <td>A572</td>\n",
       "      <td>C_ambodirianensis_A572</td>\n",
       "      <td>Millotii</td>\n",
       "      <td>1.27</td>\n",
       "      <td>-18.4522</td>\n",
       "      <td>48.943300</td>\n",
       "    </tr>\n",
       "    <tr>\n",
       "      <th>2</th>\n",
       "      <td>C.ambongensis</td>\n",
       "      <td>AMBON</td>\n",
       "      <td>BR071</td>\n",
       "      <td>C_ambongensis</td>\n",
       "      <td>Baracoffea</td>\n",
       "      <td>1.16</td>\n",
       "      <td>-15.5745833</td>\n",
       "      <td>46.419806</td>\n",
       "    </tr>\n",
       "    <tr>\n",
       "      <th>3</th>\n",
       "      <td>C.ankaranensis</td>\n",
       "      <td>ANK1</td>\n",
       "      <td>A525</td>\n",
       "      <td>C_ankaranensis_A525</td>\n",
       "      <td>Multiflorae</td>\n",
       "      <td>1.17</td>\n",
       "      <td>-12.9491</td>\n",
       "      <td>49.543300</td>\n",
       "    </tr>\n",
       "    <tr>\n",
       "      <th>4</th>\n",
       "      <td>C.ankaranensis</td>\n",
       "      <td>ANK2</td>\n",
       "      <td>A808</td>\n",
       "      <td>NaN</td>\n",
       "      <td>Multiflorae</td>\n",
       "      <td>1.17</td>\n",
       "      <td>-12.8491</td>\n",
       "      <td>49.543300</td>\n",
       "    </tr>\n",
       "  </tbody>\n",
       "</table>\n",
       "</div>"
      ],
      "text/plain": [
       "            Species Species code Population code            GBS sequence  \\\n",
       "0       C.abbayesii          ABA            A601        C_abbayesii_A601   \n",
       "1  C.ambodirianenis          AMB            A572  C_ambodirianensis_A572   \n",
       "2     C.ambongensis        AMBON           BR071           C_ambongensis   \n",
       "3    C.ankaranensis         ANK1            A525     C_ankaranensis_A525   \n",
       "4    C.ankaranensis         ANK2            A808                     NaN   \n",
       "\n",
       "  Botanical series Genome size (2C. pg)     Latitude  Longitude  \n",
       "0         Millotii                 1.25     -24.7541  46.862400  \n",
       "1         Millotii                 1.27     -18.4522  48.943300  \n",
       "2       Baracoffea                 1.16  -15.5745833  46.419806  \n",
       "3     Multiflorae                  1.17     -12.9491  49.543300  \n",
       "4     Multiflorae                  1.17     -12.8491  49.543300  "
      ]
     },
     "execution_count": 466,
     "metadata": {},
     "output_type": "execute_result"
    }
   ],
   "source": [
    "# Read from raw table\n",
    "df = pd.read_excel(GEOSPATIAL_DIR / METADATA_RAW, decimal=\",\")\n",
    "\n",
    "# Remove blank rows\n",
    "df = df.dropna(how=\"all\")\n",
    "df[\"GBS sequence\"] = df[\"GBS sequence\"].str.rstrip()    #* \\n still present after stripping\n",
    "\n",
    "# Remove \\n in Botanical series\n",
    "df = df.replace(r\"\\n\",\"\", regex=True)\n",
    "\n",
    "# Converting to proper NaN and reordering\n",
    "df = df.replace({\"-\": np.nan, \"NO POSITION\": np.nan})\n",
    "df = df[[\"Species\", \"Species code\", \"Population code\", \"GBS sequence\", \"Botanical series\", \"Genome size (2C. pg)\", \"Latitude\", \"Longitude\"]]\n",
    "# Remove NO from AND2 species\n",
    "df[\"Longitude\"] = df[\"Longitude\"].str.replace(\"NO \", \"\")\n",
    "df[\"Longitude\"] = df[\"Longitude\"].str.replace(\",\", \".\").astype(float)\n",
    "\n",
    "df.head()\n"
   ]
  },
  {
   "cell_type": "code",
   "execution_count": 467,
   "metadata": {},
   "outputs": [
    {
     "name": "stdout",
     "output_type": "stream",
     "text": [
      "Number of samples for all specimens WITH GPS : 51\n"
     ]
    }
   ],
   "source": [
    "# Keep df for all species WITH GPS positions and reorder\n",
    "df_gps_all = df\n",
    "df_gps_all = df_gps_all.dropna(subset=[\"Latitude\", \"Longitude\"])\n",
    "print(f\"Number of samples for all specimens WITH GPS : {len(df_gps_all)}\")\n",
    "df_gps_all = df_gps_all.reset_index().drop(columns=[\"index\"])"
   ]
  },
  {
   "cell_type": "code",
   "execution_count": 468,
   "metadata": {},
   "outputs": [
    {
     "name": "stdout",
     "output_type": "stream",
     "text": [
      "Number of samples for specimens with BOTH GPS AND genetic data : 41\n"
     ]
    }
   ],
   "source": [
    "# Clean for missing GBS sequences\n",
    "df_gbs_only = df_gps_all.dropna()\n",
    "print(f\"Number of samples for specimens with BOTH GPS AND genetic data : {len(df_gbs_only)}\")\n",
    "df_gbs_only = df_gbs_only.reset_index().drop(columns=[\"index\"])"
   ]
  },
  {
   "attachments": {},
   "cell_type": "markdown",
   "metadata": {},
   "source": [
    "**Save as csv to data/geoclim/geospatial/**"
   ]
  },
  {
   "cell_type": "code",
   "execution_count": 469,
   "metadata": {},
   "outputs": [],
   "source": [
    "# Save cleaned data to csv in geospatial dir\n",
    "# df_gps_all.to_csv(GEOSPATIAL_DIR / GPS_ALL, index=False)  # All positions available\n",
    "# df_gbs_only.to_csv(GEOSPATIAL_DIR / GPS_GBS_ONLY, index=False)    # Species with both gbs AND positions"
   ]
  },
  {
   "attachments": {},
   "cell_type": "markdown",
   "metadata": {},
   "source": [
    "### Raster file basic manipulations"
   ]
  },
  {
   "cell_type": "code",
   "execution_count": 470,
   "metadata": {},
   "outputs": [
    {
     "name": "stdout",
     "output_type": "stream",
     "text": [
      "File opened ? True\n"
     ]
    }
   ],
   "source": [
    "# Open raster file\n",
    "raster_mada = rasterio.open(CLIMATE_DIR / MADACLIM_CURRENT_TIF)\n",
    "print(f\"File opened ? {not(raster_mada.closed)}\")\n"
   ]
  },
  {
   "cell_type": "code",
   "execution_count": 471,
   "metadata": {},
   "outputs": [
    {
     "name": "stdout",
     "output_type": "stream",
     "text": [
      "Raster file madaclim_current.tif has only {'int16'}\n"
     ]
    }
   ],
   "source": [
    "# Check for dtypes\n",
    "if len(set(raster_mada.dtypes)) > 1 :\n",
    "    print(f\"Raster file {MADACLIM_CURRENT_TIF} has more than one dtypes\")\n",
    "    print(set(raster_mada.dtypes))\n",
    "else:\n",
    "    print(f\"Raster file {MADACLIM_CURRENT_TIF} has only {set(raster_mada.dtypes)}\")    \n",
    "\n",
    "# Get dict for all band dtypes combinations\n",
    "bands_types = {i: dtype for i, dtype in zip(raster_mada.indexes, raster_mada.dtypes)}\n",
    "# print(bands_types)"
   ]
  },
  {
   "cell_type": "code",
   "execution_count": 472,
   "metadata": {},
   "outputs": [
    {
     "name": "stdout",
     "output_type": "stream",
     "text": [
      "madaclim_current.tif has 70 bands\n"
     ]
    }
   ],
   "source": [
    "# Number of bands total\n",
    "print(f\"{MADACLIM_CURRENT_TIF} has {len(raster_mada.indexes)} bands\")"
   ]
  },
  {
   "cell_type": "code",
   "execution_count": 473,
   "metadata": {},
   "outputs": [
    {
     "name": "stdout",
     "output_type": "stream",
     "text": [
      "CRS of madaclim_current.tif : EPSG:32738\n"
     ]
    }
   ],
   "source": [
    "# Get CRS + bounds\n",
    "print(f\"CRS of {MADACLIM_CURRENT_TIF} : {raster_mada.crs}\")"
   ]
  },
  {
   "cell_type": "code",
   "execution_count": 474,
   "metadata": {},
   "outputs": [
    {
     "data": {
      "text/plain": [
       "BoundingBox(left=298000.0, bottom=7155000.0, right=1101000.0, top=8683000.0)"
      ]
     },
     "execution_count": 474,
     "metadata": {},
     "output_type": "execute_result"
    }
   ],
   "source": [
    "raster_mada.bounds"
   ]
  },
  {
   "cell_type": "code",
   "execution_count": 475,
   "metadata": {},
   "outputs": [
    {
     "data": {
      "text/plain": [
       "120"
      ]
     },
     "execution_count": 475,
     "metadata": {},
     "output_type": "execute_result"
    }
   ],
   "source": [
    "# band1\n",
    "band1 = raster_mada.read(1)\n",
    "band1[raster_mada.height // 2, raster_mada.width // 2]"
   ]
  },
  {
   "cell_type": "code",
   "execution_count": 476,
   "metadata": {},
   "outputs": [
    {
     "data": {
      "text/plain": [
       "-32768.0"
      ]
     },
     "execution_count": 476,
     "metadata": {},
     "output_type": "execute_result"
    }
   ],
   "source": [
    "#nodata value\n",
    "raster_mada.nodata"
   ]
  },
  {
   "attachments": {},
   "cell_type": "markdown",
   "metadata": {},
   "source": [
    "#### Plotting individual bands and distributions\n",
    "\n",
    "Example with band 37 = bio1_Mean Annual Temperature"
   ]
  },
  {
   "cell_type": "code",
   "execution_count": 477,
   "metadata": {},
   "outputs": [
    {
     "data": {
      "image/png": "[encoded data removed]",
      "text/plain": [
       "<Figure size 640x480 with 1 Axes>"
      ]
     },
     "metadata": {},
     "output_type": "display_data"
    },
    {
     "data": {
      "text/plain": [
       "<AxesSubplot: >"
      ]
     },
     "execution_count": 477,
     "metadata": {},
     "output_type": "execute_result"
    }
   ],
   "source": [
    "# bio1_Annual Mean Temp associated with band37 (see example in section below)\n",
    "rasterio.plot.show(raster_mada.read(37, masked=True), cmap=\"Spectral\")"
   ]
  },
  {
   "attachments": {},
   "cell_type": "markdown",
   "metadata": {},
   "source": [
    "Underneat the hood, this is just a masked numpy array that is calling the imshow() method on an axes object."
   ]
  },
  {
   "cell_type": "code",
   "execution_count": 478,
   "metadata": {},
   "outputs": [
    {
     "data": {
      "text/plain": [
       "array([209, 208, 205, 204, 204], dtype=int16)"
      ]
     },
     "execution_count": 478,
     "metadata": {},
     "output_type": "execute_result"
    }
   ],
   "source": [
    "raster_mada.read(1, masked=True).compressed()[:5]"
   ]
  },
  {
   "attachments": {},
   "cell_type": "markdown",
   "metadata": {},
   "source": [
    "We could than apply the compressed method to the raster.read(band#) array and plot a more customized version"
   ]
  },
  {
   "cell_type": "code",
   "execution_count": 479,
   "metadata": {},
   "outputs": [
    {
     "data": {
      "text/plain": [
       "Text(0.5, 1.0, 'Number of dry months per year\\n')"
      ]
     },
     "execution_count": 479,
     "metadata": {},
     "output_type": "execute_result"
    },
    {
     "data": {
      "image/png": "[encoded data removed]",
      "text/plain": [
       "<Figure size 600x600 with 2 Axes>"
      ]
     },
     "metadata": {},
     "output_type": "display_data"
    }
   ],
   "source": [
    "# For number of dry months\n",
    "fig, ax = plt.subplots(figsize=(6,6))\n",
    "im = ax.imshow(raster_mada.read(70, masked=True), cmap=\"inferno\", norm=\"linear\")\n",
    "cbar = plt.colorbar(im)\n",
    "cbar.ax.set_ylabel(\"Dry months scale\")\n",
    "plt.title(\"Number of dry months per year\\n\", weight=\"bold\")"
   ]
  },
  {
   "attachments": {},
   "cell_type": "markdown",
   "metadata": {},
   "source": [
    "Again, same for distributions histograms"
   ]
  },
  {
   "cell_type": "code",
   "execution_count": 480,
   "metadata": {},
   "outputs": [
    {
     "data": {
      "image/png": "[encoded data removed]",
      "text/plain": [
       "<Figure size 640x480 with 1 Axes>"
      ]
     },
     "metadata": {},
     "output_type": "display_data"
    }
   ],
   "source": [
    "# With rasterio\n",
    "fig, ax = plt.subplots()\n",
    "\n",
    "rasterio.plot.show_hist(\n",
    "    raster_mada.read(1, masked=True), bins=50, stacked=False, alpha=0.5,\n",
    "    histtype='stepfilled', title=\"Histogram\", label=\"0\", ax=ax,\n",
    ")"
   ]
  },
  {
   "cell_type": "code",
   "execution_count": 481,
   "metadata": {},
   "outputs": [
    {
     "data": {
      "text/plain": [
       "Text(0.5, 1.0, 'Distribution data for band37 (bio1)')"
      ]
     },
     "execution_count": 481,
     "metadata": {},
     "output_type": "execute_result"
    },
    {
     "data": {
      "image/png": "[encoded data removed]",
      "text/plain": [
       "<Figure size 600x600 with 1 Axes>"
      ]
     },
     "metadata": {},
     "output_type": "display_data"
    }
   ],
   "source": [
    "# With seaborn\n",
    "fig, ax = plt.subplots(1, 1, figsize=(6,6))\n",
    "sns.histplot(\n",
    "    data=raster_mada.read(37, masked=True).compressed(),\n",
    "    color=\"blue\",\n",
    "    bins=50,\n",
    "    ax=ax,\n",
    "    kde=True, stat=\"density\",\n",
    "    line_kws={\"linestyle\" : \"--\"}\n",
    ")\n",
    "ax.lines[0].set_color(\"black\")\n",
    "ax.set_title(\"Distribution data for band37 (bio1)\", pad=10)"
   ]
  },
  {
   "attachments": {},
   "cell_type": "markdown",
   "metadata": {},
   "source": [
    "Combining both side by side"
   ]
  },
  {
   "cell_type": "code",
   "execution_count": 482,
   "metadata": {},
   "outputs": [
    {
     "data": {
      "image/png": "[encoded data removed]",
      "text/plain": [
       "<Figure size 1000x500 with 3 Axes>"
      ]
     },
     "metadata": {},
     "output_type": "display_data"
    }
   ],
   "source": [
    "# Selecting the band\n",
    "band_num = 70\n",
    "band = raster_mada.read(band_num, masked=True)\n",
    "\n",
    "# Plotting both map and distributions of raster values\n",
    "fig, axes = plt.subplots(1, 2, figsize=(10,5))\n",
    "\n",
    "# Raster map\n",
    "im = axes[0].imshow(band, cmap=\"inferno\", norm=\"linear\")\n",
    "cbar = plt.colorbar(im)\n",
    "axes[0].set_title(\"Dry months / year\")\n",
    "axes[0].set_yticks([])\n",
    "axes[0].set_xticks([])\n",
    "axes[0].axis(\"off\")\n",
    "\n",
    "# Pixel vals distributions\n",
    "sns.histplot(\n",
    "    data=band.compressed(), color=\"grey\", bins=50, ax=axes[1], \n",
    "    kde=True, stat=\"density\",\n",
    "    line_kws={\"linestyle\" : \"--\"}\n",
    ")\n",
    "axes[1].lines[0].set_color(\"black\")\n",
    "\n",
    "fig.suptitle(\"Dry months (band 70) raster map and distribution\", weight=\"bold\")\n",
    "fig.tight_layout()"
   ]
  },
  {
   "attachments": {},
   "cell_type": "markdown",
   "metadata": {},
   "source": [
    "### Defining the climate variables to get from raster"
   ]
  },
  {
   "attachments": {},
   "cell_type": "markdown",
   "metadata": {},
   "source": [
    "Get info for bioclim vars"
   ]
  },
  {
   "cell_type": "code",
   "execution_count": 483,
   "metadata": {},
   "outputs": [
    {
     "data": {
      "text/plain": [
       "{'layer37': 'bio1_Annual Mean Temperature',\n",
       " 'layer38': 'bio2_Mean Diurnal Range(Mean(period max-min)',\n",
       " 'layer39': 'bio3_Isothermality 2/7',\n",
       " 'layer40': 'bio4_Temperature Seasonality (C of V)',\n",
       " 'layer41': 'bio5_Max Temperature of Warmest Period',\n",
       " 'layer42': 'bio6_Min Temperature of Coldest Period',\n",
       " 'layer43': 'bio7_Temperature Annual Range (5-6)',\n",
       " 'layer44': 'bio8_Temperature Annual Range (5-6)',\n",
       " 'layer45': 'bio9_Mean Temperature of Driest Quarter',\n",
       " 'layer46': 'bio10_Mean Temperature of Warmest Quarter',\n",
       " 'layer47': 'bio11_Mean Temperature of Coldest Quarter',\n",
       " 'layer48': 'bio12_Annual Precipitation',\n",
       " 'layer49': 'bio13_Precipitation of Wettest Period',\n",
       " 'layer50': 'bio14_Precipitation of Driest Period',\n",
       " 'layer51': 'bio15_Precipitation Seasonality(C of V)',\n",
       " 'layer52': 'bio16_Precipitation of Wettest Quarter',\n",
       " 'layer53': 'bio17_Precipitation of Driest Quarter',\n",
       " 'layer54': 'bio18_Precipitation of Warmest Quarter',\n",
       " 'layer55': 'bio19_Precipitation of Coldest Quarter'}"
      ]
     },
     "execution_count": 483,
     "metadata": {},
     "output_type": "execute_result"
    }
   ],
   "source": [
    "# bioclim vars\n",
    "def label_bioclim_vars():\n",
    "    bio1_bio19 = [f\"{k}_{v['longname']}\" for k,v in config[\"bioclim_defs\"].items()]\n",
    "    bio_layers = {}\n",
    "    for i, bio in enumerate(bio1_bio19, start=37):\n",
    "        bio_layers[f\"layer{i}\"] = bio\n",
    "    return bio_layers\n",
    "label_bioclim_vars ()\n"
   ]
  },
  {
   "attachments": {},
   "cell_type": "markdown",
   "metadata": {},
   "source": [
    "Get info for monthly vars"
   ]
  },
  {
   "cell_type": "code",
   "execution_count": 484,
   "metadata": {},
   "outputs": [],
   "source": [
    "# Layers description for monthly vars\n",
    "l1_12 = \"Monthly minimum temperature (C x 10)\"\n",
    "l13_24 = \"Monthly maximum temperature (C x 10)\"\n",
    "l25_36 = \"Monthly total precipitation (mm.month-1)\"\n",
    "l56_67 = \"Monthly potential evapotranspiration (mm.month-1)\""
   ]
  },
  {
   "cell_type": "code",
   "execution_count": 485,
   "metadata": {},
   "outputs": [],
   "source": [
    "def label_monthly_vars(description, first_layer):\n",
    "    layers = {}\n",
    "    monthly_vars = [f\"{description}_{month}\" for month in calendar.month_name[1:]]\n",
    "    for i, month in enumerate(monthly_vars, start=first_layer):\n",
    "        layers[f\"layer{i}\"] = month\n",
    "    return layers"
   ]
  },
  {
   "attachments": {},
   "cell_type": "markdown",
   "metadata": {},
   "source": [
    "Get info for annual vars"
   ]
  },
  {
   "cell_type": "code",
   "execution_count": 486,
   "metadata": {},
   "outputs": [],
   "source": [
    "l68 = {\"layer68\" : \"Annual potential evapotranspiration (mm)\"}\n",
    "l69 = {\"layer69\" : \"Annual climatic water deficit (mm)\"}\n",
    "l70 = {\"layer70\" : \"Number of dry months in the year\"}"
   ]
  },
  {
   "attachments": {},
   "cell_type": "markdown",
   "metadata": {},
   "source": [
    "Generate all vars dictionary"
   ]
  },
  {
   "cell_type": "code",
   "execution_count": 487,
   "metadata": {},
   "outputs": [
    {
     "data": {
      "text/plain": [
       "{'layer1': 'Monthly minimum temperature (C x 10)_January',\n",
       " 'layer2': 'Monthly minimum temperature (C x 10)_February',\n",
       " 'layer3': 'Monthly minimum temperature (C x 10)_March',\n",
       " 'layer4': 'Monthly minimum temperature (C x 10)_April',\n",
       " 'layer5': 'Monthly minimum temperature (C x 10)_May',\n",
       " 'layer6': 'Monthly minimum temperature (C x 10)_June',\n",
       " 'layer7': 'Monthly minimum temperature (C x 10)_July',\n",
       " 'layer8': 'Monthly minimum temperature (C x 10)_August',\n",
       " 'layer9': 'Monthly minimum temperature (C x 10)_September',\n",
       " 'layer10': 'Monthly minimum temperature (C x 10)_October',\n",
       " 'layer11': 'Monthly minimum temperature (C x 10)_November',\n",
       " 'layer12': 'Monthly minimum temperature (C x 10)_December',\n",
       " 'layer13': 'Monthly maximum temperature (C x 10)_January',\n",
       " 'layer14': 'Monthly maximum temperature (C x 10)_February',\n",
       " 'layer15': 'Monthly maximum temperature (C x 10)_March',\n",
       " 'layer16': 'Monthly maximum temperature (C x 10)_April',\n",
       " 'layer17': 'Monthly maximum temperature (C x 10)_May',\n",
       " 'layer18': 'Monthly maximum temperature (C x 10)_June',\n",
       " 'layer19': 'Monthly maximum temperature (C x 10)_July',\n",
       " 'layer20': 'Monthly maximum temperature (C x 10)_August',\n",
       " 'layer21': 'Monthly maximum temperature (C x 10)_September',\n",
       " 'layer22': 'Monthly maximum temperature (C x 10)_October',\n",
       " 'layer23': 'Monthly maximum temperature (C x 10)_November',\n",
       " 'layer24': 'Monthly maximum temperature (C x 10)_December',\n",
       " 'layer25': 'Monthly total precipitation (mm.month-1)_January',\n",
       " 'layer26': 'Monthly total precipitation (mm.month-1)_February',\n",
       " 'layer27': 'Monthly total precipitation (mm.month-1)_March',\n",
       " 'layer28': 'Monthly total precipitation (mm.month-1)_April',\n",
       " 'layer29': 'Monthly total precipitation (mm.month-1)_May',\n",
       " 'layer30': 'Monthly total precipitation (mm.month-1)_June',\n",
       " 'layer31': 'Monthly total precipitation (mm.month-1)_July',\n",
       " 'layer32': 'Monthly total precipitation (mm.month-1)_August',\n",
       " 'layer33': 'Monthly total precipitation (mm.month-1)_September',\n",
       " 'layer34': 'Monthly total precipitation (mm.month-1)_October',\n",
       " 'layer35': 'Monthly total precipitation (mm.month-1)_November',\n",
       " 'layer36': 'Monthly total precipitation (mm.month-1)_December',\n",
       " 'layer37': 'bio1_Annual Mean Temperature',\n",
       " 'layer38': 'bio2_Mean Diurnal Range(Mean(period max-min)',\n",
       " 'layer39': 'bio3_Isothermality 2/7',\n",
       " 'layer40': 'bio4_Temperature Seasonality (C of V)',\n",
       " 'layer41': 'bio5_Max Temperature of Warmest Period',\n",
       " 'layer42': 'bio6_Min Temperature of Coldest Period',\n",
       " 'layer43': 'bio7_Temperature Annual Range (5-6)',\n",
       " 'layer44': 'bio8_Temperature Annual Range (5-6)',\n",
       " 'layer45': 'bio9_Mean Temperature of Driest Quarter',\n",
       " 'layer46': 'bio10_Mean Temperature of Warmest Quarter',\n",
       " 'layer47': 'bio11_Mean Temperature of Coldest Quarter',\n",
       " 'layer48': 'bio12_Annual Precipitation',\n",
       " 'layer49': 'bio13_Precipitation of Wettest Period',\n",
       " 'layer50': 'bio14_Precipitation of Driest Period',\n",
       " 'layer51': 'bio15_Precipitation Seasonality(C of V)',\n",
       " 'layer52': 'bio16_Precipitation of Wettest Quarter',\n",
       " 'layer53': 'bio17_Precipitation of Driest Quarter',\n",
       " 'layer54': 'bio18_Precipitation of Warmest Quarter',\n",
       " 'layer55': 'bio19_Precipitation of Coldest Quarter',\n",
       " 'layer56': 'Monthly potential evapotranspiration (mm.month-1)_January',\n",
       " 'layer57': 'Monthly potential evapotranspiration (mm.month-1)_February',\n",
       " 'layer58': 'Monthly potential evapotranspiration (mm.month-1)_March',\n",
       " 'layer59': 'Monthly potential evapotranspiration (mm.month-1)_April',\n",
       " 'layer60': 'Monthly potential evapotranspiration (mm.month-1)_May',\n",
       " 'layer61': 'Monthly potential evapotranspiration (mm.month-1)_June',\n",
       " 'layer62': 'Monthly potential evapotranspiration (mm.month-1)_July',\n",
       " 'layer63': 'Monthly potential evapotranspiration (mm.month-1)_August',\n",
       " 'layer64': 'Monthly potential evapotranspiration (mm.month-1)_September',\n",
       " 'layer65': 'Monthly potential evapotranspiration (mm.month-1)_October',\n",
       " 'layer66': 'Monthly potential evapotranspiration (mm.month-1)_November',\n",
       " 'layer67': 'Monthly potential evapotranspiration (mm.month-1)_December',\n",
       " 'layer68': 'Annual potential evapotranspiration (mm)',\n",
       " 'layer69': 'Annual climatic water deficit (mm)',\n",
       " 'layer70': 'Number of dry months in the year'}"
      ]
     },
     "execution_count": 487,
     "metadata": {},
     "output_type": "execute_result"
    }
   ],
   "source": [
    "# Layers 1 to 12\n",
    "mada_layers = {}\n",
    "temp_layers = label_monthly_vars(l1_12, 1)\n",
    "mada_layers.update(temp_layers)\n",
    "\n",
    "# Layers 13 to 24\n",
    "temp_layers = label_monthly_vars(l13_24, 13)\n",
    "mada_layers.update(temp_layers)\n",
    "\n",
    "# Layers 25 to 36\n",
    "temp_layers = label_monthly_vars(l25_36, 25)\n",
    "mada_layers.update(temp_layers)\n",
    "\n",
    "# Layers 37 to 55 (bioclim)\n",
    "temp_layers = label_bioclim_vars()\n",
    "mada_layers.update(temp_layers)\n",
    "\n",
    "# Layers 56 to 67\n",
    "temp_layers = label_monthly_vars(l56_67, 56)\n",
    "mada_layers.update(temp_layers)\n",
    "\n",
    "# Layers 68 to 70\n",
    "mada_layers.update(l68)\n",
    "mada_layers.update(l69)\n",
    "mada_layers.update(l70)\n",
    "\n",
    "mada_layers"
   ]
  },
  {
   "attachments": {},
   "cell_type": "markdown",
   "metadata": {},
   "source": [
    "Example to find layer# of Mean Annual temperature"
   ]
  },
  {
   "cell_type": "code",
   "execution_count": 488,
   "metadata": {},
   "outputs": [
    {
     "name": "stdout",
     "output_type": "stream",
     "text": [
      "layer37 bio1_Annual Mean Temperature\n"
     ]
    }
   ],
   "source": [
    "for k,v in mada_layers.items():\n",
    "    if re.search(\"[Aa]nnual Mean\", mada_layers[k]):\n",
    "        print(k, v)"
   ]
  },
  {
   "attachments": {},
   "cell_type": "markdown",
   "metadata": {},
   "source": [
    "### Creating Point objects for each specimen"
   ]
  },
  {
   "attachments": {},
   "cell_type": "markdown",
   "metadata": {},
   "source": [
    "Subset df"
   ]
  },
  {
   "cell_type": "code",
   "execution_count": 489,
   "metadata": {},
   "outputs": [
    {
     "name": "stdout",
     "output_type": "stream",
     "text": [
      "df_gbs (both gps + genetic data) has 41 specimens\n"
     ]
    },
    {
     "data": {
      "text/html": [
       "<div>\n",
       "<style scoped>\n",
       "    .dataframe tbody tr th:only-of-type {\n",
       "        vertical-align: middle;\n",
       "    }\n",
       "\n",
       "    .dataframe tbody tr th {\n",
       "        vertical-align: top;\n",
       "    }\n",
       "\n",
       "    .dataframe thead th {\n",
       "        text-align: right;\n",
       "    }\n",
       "</style>\n",
       "<table border=\"1\" class=\"dataframe\">\n",
       "  <thead>\n",
       "    <tr style=\"text-align: right;\">\n",
       "      <th></th>\n",
       "      <th>Species code</th>\n",
       "      <th>Genome size (2C. pg)</th>\n",
       "      <th>Longitude</th>\n",
       "      <th>Latitude</th>\n",
       "    </tr>\n",
       "  </thead>\n",
       "  <tbody>\n",
       "    <tr>\n",
       "      <th>0</th>\n",
       "      <td>ABA</td>\n",
       "      <td>1.25</td>\n",
       "      <td>46.862400</td>\n",
       "      <td>-24.7541</td>\n",
       "    </tr>\n",
       "    <tr>\n",
       "      <th>1</th>\n",
       "      <td>AMB</td>\n",
       "      <td>1.27</td>\n",
       "      <td>48.943300</td>\n",
       "      <td>-18.4522</td>\n",
       "    </tr>\n",
       "    <tr>\n",
       "      <th>2</th>\n",
       "      <td>AMBON</td>\n",
       "      <td>1.16</td>\n",
       "      <td>46.419806</td>\n",
       "      <td>-15.5745833</td>\n",
       "    </tr>\n",
       "    <tr>\n",
       "      <th>3</th>\n",
       "      <td>ANK1</td>\n",
       "      <td>1.17</td>\n",
       "      <td>49.543300</td>\n",
       "      <td>-12.9491</td>\n",
       "    </tr>\n",
       "    <tr>\n",
       "      <th>4</th>\n",
       "      <td>ARE</td>\n",
       "      <td>1.11</td>\n",
       "      <td>48.200000</td>\n",
       "      <td>-18.9333</td>\n",
       "    </tr>\n",
       "  </tbody>\n",
       "</table>\n",
       "</div>"
      ],
      "text/plain": [
       "  Species code Genome size (2C. pg)  Longitude     Latitude\n",
       "0          ABA                 1.25  46.862400     -24.7541\n",
       "1          AMB                 1.27  48.943300     -18.4522\n",
       "2        AMBON                 1.16  46.419806  -15.5745833\n",
       "3         ANK1                 1.17  49.543300     -12.9491\n",
       "4          ARE                 1.11  48.200000     -18.9333"
      ]
     },
     "execution_count": 489,
     "metadata": {},
     "output_type": "execute_result"
    }
   ],
   "source": [
    "df_gbs = df_gbs_only[[\"Species code\", \"Genome size (2C. pg)\", \"Longitude\", \"Latitude\"]]\n",
    "print(f\"df_gbs (both gps + genetic data) has {len(df_gbs)} specimens\")\n",
    "df_gbs.head()"
   ]
  },
  {
   "attachments": {},
   "cell_type": "markdown",
   "metadata": {},
   "source": [
    "Create shapely.Point objects from GPS coordinates"
   ]
  },
  {
   "cell_type": "code",
   "execution_count": 490,
   "metadata": {},
   "outputs": [
    {
     "data": {
      "text/plain": [
       "[<POINT (46.862 -24.754)>,\n",
       " <POINT (48.943 -18.452)>,\n",
       " <POINT (46.42 -15.575)>,\n",
       " <POINT (49.543 -12.949)>,\n",
       " <POINT (48.2 -18.933)>,\n",
       " <POINT (49.167 -12.733)>,\n",
       " <POINT (46.633 -25.017)>,\n",
       " <POINT (46.812 -16.315)>,\n",
       " <POINT (46.827 -16.296)>,\n",
       " <POINT (49.88 -13.35)>]"
      ]
     },
     "execution_count": 490,
     "metadata": {},
     "output_type": "execute_result"
    }
   ],
   "source": [
    "# Beware of lon/lat order in instance creation\n",
    "points = [Point(float(row[\"Longitude\"]), float(row[\"Latitude\"])) for index, row in df_gbs.iterrows()]\n",
    "points[0:10]"
   ]
  },
  {
   "attachments": {},
   "cell_type": "markdown",
   "metadata": {},
   "source": [
    "Create GeoPandas dataframe"
   ]
  },
  {
   "cell_type": "code",
   "execution_count": 491,
   "metadata": {},
   "outputs": [
    {
     "data": {
      "text/html": [
       "<div>\n",
       "<style scoped>\n",
       "    .dataframe tbody tr th:only-of-type {\n",
       "        vertical-align: middle;\n",
       "    }\n",
       "\n",
       "    .dataframe tbody tr th {\n",
       "        vertical-align: top;\n",
       "    }\n",
       "\n",
       "    .dataframe thead th {\n",
       "        text-align: right;\n",
       "    }\n",
       "</style>\n",
       "<table border=\"1\" class=\"dataframe\">\n",
       "  <thead>\n",
       "    <tr style=\"text-align: right;\">\n",
       "      <th></th>\n",
       "      <th>Species code</th>\n",
       "      <th>Genome size (2C. pg)</th>\n",
       "      <th>Longitude</th>\n",
       "      <th>Latitude</th>\n",
       "      <th>geometry</th>\n",
       "    </tr>\n",
       "  </thead>\n",
       "  <tbody>\n",
       "    <tr>\n",
       "      <th>0</th>\n",
       "      <td>ABA</td>\n",
       "      <td>1.25</td>\n",
       "      <td>46.862400</td>\n",
       "      <td>-24.7541</td>\n",
       "      <td>POINT (46.86240 -24.75410)</td>\n",
       "    </tr>\n",
       "    <tr>\n",
       "      <th>1</th>\n",
       "      <td>AMB</td>\n",
       "      <td>1.27</td>\n",
       "      <td>48.943300</td>\n",
       "      <td>-18.4522</td>\n",
       "      <td>POINT (48.94330 -18.45220)</td>\n",
       "    </tr>\n",
       "    <tr>\n",
       "      <th>2</th>\n",
       "      <td>AMBON</td>\n",
       "      <td>1.16</td>\n",
       "      <td>46.419806</td>\n",
       "      <td>-15.5745833</td>\n",
       "      <td>POINT (46.41981 -15.57458)</td>\n",
       "    </tr>\n",
       "    <tr>\n",
       "      <th>3</th>\n",
       "      <td>ANK1</td>\n",
       "      <td>1.17</td>\n",
       "      <td>49.543300</td>\n",
       "      <td>-12.9491</td>\n",
       "      <td>POINT (49.54330 -12.94910)</td>\n",
       "    </tr>\n",
       "    <tr>\n",
       "      <th>4</th>\n",
       "      <td>ARE</td>\n",
       "      <td>1.11</td>\n",
       "      <td>48.200000</td>\n",
       "      <td>-18.9333</td>\n",
       "      <td>POINT (48.20000 -18.93330)</td>\n",
       "    </tr>\n",
       "  </tbody>\n",
       "</table>\n",
       "</div>"
      ],
      "text/plain": [
       "  Species code Genome size (2C. pg)  Longitude     Latitude  \\\n",
       "0          ABA                 1.25  46.862400     -24.7541   \n",
       "1          AMB                 1.27  48.943300     -18.4522   \n",
       "2        AMBON                 1.16  46.419806  -15.5745833   \n",
       "3         ANK1                 1.17  49.543300     -12.9491   \n",
       "4          ARE                 1.11  48.200000     -18.9333   \n",
       "\n",
       "                     geometry  \n",
       "0  POINT (46.86240 -24.75410)  \n",
       "1  POINT (48.94330 -18.45220)  \n",
       "2  POINT (46.41981 -15.57458)  \n",
       "3  POINT (49.54330 -12.94910)  \n",
       "4  POINT (48.20000 -18.93330)  "
      ]
     },
     "execution_count": 491,
     "metadata": {},
     "output_type": "execute_result"
    }
   ],
   "source": [
    "# Original coordinates under GPS format aka epsg:4326\n",
    "gdf_gbs = \"Reset\"\n",
    "gdf_gbs = gpd.GeoDataFrame(df_gbs, geometry=points, crs=4326)\n",
    "gdf_gbs.head()"
   ]
  },
  {
   "attachments": {},
   "cell_type": "markdown",
   "metadata": {},
   "source": [
    "Check CRS + transform to Madaclim_current.tif raster CRS"
   ]
  },
  {
   "cell_type": "code",
   "execution_count": 492,
   "metadata": {},
   "outputs": [
    {
     "data": {
      "text/plain": [
       "<Geographic 2D CRS: EPSG:4326>\n",
       "Name: WGS 84\n",
       "Axis Info [ellipsoidal]:\n",
       "- Lat[north]: Geodetic latitude (degree)\n",
       "- Lon[east]: Geodetic longitude (degree)\n",
       "Area of Use:\n",
       "- name: World.\n",
       "- bounds: (-180.0, -90.0, 180.0, 90.0)\n",
       "Datum: World Geodetic System 1984 ensemble\n",
       "- Ellipsoid: WGS 84\n",
       "- Prime Meridian: Greenwich"
      ]
     },
     "execution_count": 492,
     "metadata": {},
     "output_type": "execute_result"
    }
   ],
   "source": [
    "gdf_gbs.crs"
   ]
  },
  {
   "cell_type": "code",
   "execution_count": 493,
   "metadata": {},
   "outputs": [
    {
     "data": {
      "text/html": [
       "<div>\n",
       "<style scoped>\n",
       "    .dataframe tbody tr th:only-of-type {\n",
       "        vertical-align: middle;\n",
       "    }\n",
       "\n",
       "    .dataframe tbody tr th {\n",
       "        vertical-align: top;\n",
       "    }\n",
       "\n",
       "    .dataframe thead th {\n",
       "        text-align: right;\n",
       "    }\n",
       "</style>\n",
       "<table border=\"1\" class=\"dataframe\">\n",
       "  <thead>\n",
       "    <tr style=\"text-align: right;\">\n",
       "      <th></th>\n",
       "      <th>Species code</th>\n",
       "      <th>Genome size (2C. pg)</th>\n",
       "      <th>Longitude</th>\n",
       "      <th>Latitude</th>\n",
       "      <th>geometry</th>\n",
       "    </tr>\n",
       "  </thead>\n",
       "  <tbody>\n",
       "    <tr>\n",
       "      <th>0</th>\n",
       "      <td>ABA</td>\n",
       "      <td>1.25</td>\n",
       "      <td>46.862400</td>\n",
       "      <td>-24.7541</td>\n",
       "      <td>POINT (688328.240 7260998.023)</td>\n",
       "    </tr>\n",
       "    <tr>\n",
       "      <th>1</th>\n",
       "      <td>AMB</td>\n",
       "      <td>1.27</td>\n",
       "      <td>48.943300</td>\n",
       "      <td>-18.4522</td>\n",
       "      <td>POINT (916635.952 7955240.629)</td>\n",
       "    </tr>\n",
       "    <tr>\n",
       "      <th>2</th>\n",
       "      <td>AMBON</td>\n",
       "      <td>1.16</td>\n",
       "      <td>46.419806</td>\n",
       "      <td>-15.5745833</td>\n",
       "      <td>POINT (652237.905 8277614.406)</td>\n",
       "    </tr>\n",
       "    <tr>\n",
       "      <th>3</th>\n",
       "      <td>ANK1</td>\n",
       "      <td>1.17</td>\n",
       "      <td>49.543300</td>\n",
       "      <td>-12.9491</td>\n",
       "      <td>POINT (993250.150 8564104.062)</td>\n",
       "    </tr>\n",
       "    <tr>\n",
       "      <th>4</th>\n",
       "      <td>ARE</td>\n",
       "      <td>1.11</td>\n",
       "      <td>48.200000</td>\n",
       "      <td>-18.9333</td>\n",
       "      <td>POINT (837072.915 7903496.321)</td>\n",
       "    </tr>\n",
       "  </tbody>\n",
       "</table>\n",
       "</div>"
      ],
      "text/plain": [
       "  Species code Genome size (2C. pg)  Longitude     Latitude  \\\n",
       "0          ABA                 1.25  46.862400     -24.7541   \n",
       "1          AMB                 1.27  48.943300     -18.4522   \n",
       "2        AMBON                 1.16  46.419806  -15.5745833   \n",
       "3         ANK1                 1.17  49.543300     -12.9491   \n",
       "4          ARE                 1.11  48.200000     -18.9333   \n",
       "\n",
       "                         geometry  \n",
       "0  POINT (688328.240 7260998.023)  \n",
       "1  POINT (916635.952 7955240.629)  \n",
       "2  POINT (652237.905 8277614.406)  \n",
       "3  POINT (993250.150 8564104.062)  \n",
       "4  POINT (837072.915 7903496.321)  "
      ]
     },
     "execution_count": 493,
     "metadata": {},
     "output_type": "execute_result"
    }
   ],
   "source": [
    "gdf_gbs = gdf_gbs.to_crs(32738)\n",
    "gdf_gbs.head()\n"
   ]
  },
  {
   "cell_type": "code",
   "execution_count": 494,
   "metadata": {},
   "outputs": [
    {
     "data": {
      "text/plain": [
       "0    688328.240325\n",
       "1    916635.952187\n",
       "2    652237.905456\n",
       "3    993250.150336\n",
       "4    837072.915024\n",
       "dtype: float64"
      ]
     },
     "execution_count": 494,
     "metadata": {},
     "output_type": "execute_result"
    }
   ],
   "source": [
    "# to get the x/lon attribute of Point objects\n",
    "gdf_gbs[\"geometry\"].x.head()  #lon\n"
   ]
  },
  {
   "cell_type": "code",
   "execution_count": 495,
   "metadata": {},
   "outputs": [
    {
     "data": {
      "text/plain": [
       "<Derived Projected CRS: EPSG:32738>\n",
       "Name: WGS 84 / UTM zone 38S\n",
       "Axis Info [cartesian]:\n",
       "- E[east]: Easting (metre)\n",
       "- N[north]: Northing (metre)\n",
       "Area of Use:\n",
       "- name: Between 42°E and 48°E, southern hemisphere between 80°S and equator, onshore and offshore. Madagascar.\n",
       "- bounds: (42.0, -80.0, 48.0, 0.0)\n",
       "Coordinate Operation:\n",
       "- name: UTM zone 38S\n",
       "- method: Transverse Mercator\n",
       "Datum: World Geodetic System 1984 ensemble\n",
       "- Ellipsoid: WGS 84\n",
       "- Prime Meridian: Greenwich"
      ]
     },
     "execution_count": 495,
     "metadata": {},
     "output_type": "execute_result"
    }
   ],
   "source": [
    "gdf_gbs.crs"
   ]
  },
  {
   "attachments": {},
   "cell_type": "markdown",
   "metadata": {},
   "source": [
    "View points on raster map"
   ]
  },
  {
   "cell_type": "code",
   "execution_count": 496,
   "metadata": {},
   "outputs": [
    {
     "data": {
      "image/png": "[encoded data removed]",
      "text/plain": [
       "<Figure size 640x480 with 1 Axes>"
      ]
     },
     "metadata": {},
     "output_type": "display_data"
    }
   ],
   "source": [
    "# Plotting with matplotlib.pyplot, rasterio.show and GeoPandas.plot modules\n",
    "with rasterio.open(CLIMATE_DIR / MADACLIM_CURRENT_TIF) as raster_mada:\n",
    "\n",
    "    fig, ax = plt.subplots()\n",
    "    ax = rasterio.plot.show(raster_mada, ax=ax, cmap=\"Spectral\")\n",
    "    gdf_gbs.plot(ax=ax, color=\"black\", markersize=5)\n"
   ]
  },
  {
   "attachments": {},
   "cell_type": "markdown",
   "metadata": {},
   "source": [
    "OK nice it works, we can improve visualization later. Still we see some outlier points that won't have any data (outgroups + others)"
   ]
  },
  {
   "attachments": {},
   "cell_type": "markdown",
   "metadata": {},
   "source": [
    "### Using GeoPandas with Rasterio to sample point data"
   ]
  },
  {
   "cell_type": "code",
   "execution_count": 497,
   "metadata": {},
   "outputs": [
    {
     "name": "stdout",
     "output_type": "stream",
     "text": [
      "File opened ? True\n"
     ]
    }
   ],
   "source": [
    "# Open raster file\n",
    "raster_mada = rasterio.open(CLIMATE_DIR / MADACLIM_CURRENT_TIF)\n",
    "print(f\"File opened ? {not(raster_mada.closed)}\")"
   ]
  },
  {
   "cell_type": "code",
   "execution_count": 498,
   "metadata": {},
   "outputs": [
    {
     "data": {
      "text/html": [
       "<div>\n",
       "<style scoped>\n",
       "    .dataframe tbody tr th:only-of-type {\n",
       "        vertical-align: middle;\n",
       "    }\n",
       "\n",
       "    .dataframe tbody tr th {\n",
       "        vertical-align: top;\n",
       "    }\n",
       "\n",
       "    .dataframe thead th {\n",
       "        text-align: right;\n",
       "    }\n",
       "</style>\n",
       "<table border=\"1\" class=\"dataframe\">\n",
       "  <thead>\n",
       "    <tr style=\"text-align: right;\">\n",
       "      <th></th>\n",
       "      <th>Species code</th>\n",
       "      <th>Genome size (2C. pg)</th>\n",
       "      <th>Longitude</th>\n",
       "      <th>Latitude</th>\n",
       "      <th>geometry</th>\n",
       "    </tr>\n",
       "  </thead>\n",
       "  <tbody>\n",
       "    <tr>\n",
       "      <th>0</th>\n",
       "      <td>ABA</td>\n",
       "      <td>1.25</td>\n",
       "      <td>46.862400</td>\n",
       "      <td>-24.7541</td>\n",
       "      <td>POINT (688328.240 7260998.023)</td>\n",
       "    </tr>\n",
       "    <tr>\n",
       "      <th>1</th>\n",
       "      <td>AMB</td>\n",
       "      <td>1.27</td>\n",
       "      <td>48.943300</td>\n",
       "      <td>-18.4522</td>\n",
       "      <td>POINT (916635.952 7955240.629)</td>\n",
       "    </tr>\n",
       "    <tr>\n",
       "      <th>2</th>\n",
       "      <td>AMBON</td>\n",
       "      <td>1.16</td>\n",
       "      <td>46.419806</td>\n",
       "      <td>-15.5745833</td>\n",
       "      <td>POINT (652237.905 8277614.406)</td>\n",
       "    </tr>\n",
       "    <tr>\n",
       "      <th>3</th>\n",
       "      <td>ANK1</td>\n",
       "      <td>1.17</td>\n",
       "      <td>49.543300</td>\n",
       "      <td>-12.9491</td>\n",
       "      <td>POINT (993250.150 8564104.062)</td>\n",
       "    </tr>\n",
       "    <tr>\n",
       "      <th>4</th>\n",
       "      <td>ARE</td>\n",
       "      <td>1.11</td>\n",
       "      <td>48.200000</td>\n",
       "      <td>-18.9333</td>\n",
       "      <td>POINT (837072.915 7903496.321)</td>\n",
       "    </tr>\n",
       "  </tbody>\n",
       "</table>\n",
       "</div>"
      ],
      "text/plain": [
       "  Species code Genome size (2C. pg)  Longitude     Latitude  \\\n",
       "0          ABA                 1.25  46.862400     -24.7541   \n",
       "1          AMB                 1.27  48.943300     -18.4522   \n",
       "2        AMBON                 1.16  46.419806  -15.5745833   \n",
       "3         ANK1                 1.17  49.543300     -12.9491   \n",
       "4          ARE                 1.11  48.200000     -18.9333   \n",
       "\n",
       "                         geometry  \n",
       "0  POINT (688328.240 7260998.023)  \n",
       "1  POINT (916635.952 7955240.629)  \n",
       "2  POINT (652237.905 8277614.406)  \n",
       "3  POINT (993250.150 8564104.062)  \n",
       "4  POINT (837072.915 7903496.321)  "
      ]
     },
     "execution_count": 498,
     "metadata": {},
     "output_type": "execute_result"
    }
   ],
   "source": [
    "gdf_gbs.head()"
   ]
  },
  {
   "attachments": {},
   "cell_type": "markdown",
   "metadata": {},
   "source": [
    "Extract for all coords + create cols on geodf"
   ]
  },
  {
   "cell_type": "code",
   "execution_count": 499,
   "metadata": {},
   "outputs": [
    {
     "data": {
      "text/plain": [
       "[(688328.2403248843, 7260998.022932809),\n",
       " (916635.9521871379, 7955240.6291522365),\n",
       " (652237.9054559749, 8277614.406156755),\n",
       " (993250.1503363773, 8564104.062130136),\n",
       " (837072.9150244407, 7903496.320897499)]"
      ]
     },
     "execution_count": 499,
     "metadata": {},
     "output_type": "execute_result"
    }
   ],
   "source": [
    "# Create a list of coordinates under EPSG:32738\n",
    "coord_list = [(x,y) for x,y in zip(gdf_gbs[\"geometry\"].x, gdf_gbs[\"geometry\"].y)]\n",
    "coord_list[0:5]\n",
    "# print(len(coord_list))"
   ]
  },
  {
   "cell_type": "code",
   "execution_count": 500,
   "metadata": {},
   "outputs": [
    {
     "name": "stdout",
     "output_type": "stream",
     "text": [
      "num specimens extracted : 41\n"
     ]
    },
    {
     "data": {
      "text/plain": [
       "array([ 155,  195,  188,  171,  136,  122,  120,  124,  138,  173,  188,\n",
       "        196,  276,  295,  288,  281,  266,  243,  235,  240,  259,  286,\n",
       "        293,  297,   57,  181,  169,   73,   64,   73,   58,   57,   44,\n",
       "        105,  175,  204,  215,  112,   63, 2597,  297,  120,  177,  238,\n",
       "        186,  238,  180, 1260,  204,   44,   56,  484,  159,  484,  188,\n",
       "         92,  125,  113,   94,   67,   50,   44,   47,   60,   92,  110,\n",
       "        123, 1022,   77,    4], dtype=int16)"
      ]
     },
     "execution_count": 500,
     "metadata": {},
     "output_type": "execute_result"
    }
   ],
   "source": [
    "# Slice first specimen for all raster layers\n",
    "all_vals = [x for x in raster_mada.sample(coord_list)]\n",
    "print(f\"num specimens extracted : {len(all_vals)}\")\n",
    "all_vals[0]"
   ]
  },
  {
   "cell_type": "code",
   "execution_count": 501,
   "metadata": {},
   "outputs": [
    {
     "name": "stdout",
     "output_type": "stream",
     "text": [
      "Value of 'no data' in raster file : -32768.0\n"
     ]
    },
    {
     "data": {
      "text/plain": [
       "[array([ 173,  211,  206,  193,  163,  146,  142,  145,  155,  194,  203,\n",
       "         213,  269,  295,  289,  281,  266,  250,  236,  240,  251,  285,\n",
       "         294,  296,   71,  381,  394,  153,  100,  110,  110,  111,   81,\n",
       "         171,  226,  379,  224,   92,   59, 2478,  296,  142,  154,  245,\n",
       "         194,  247,  193, 2287,  394,   71,   64,  928,  302,  776,  331,\n",
       "          93,  132,  121,  103,   75,   58,   49,   52,   62,  101,  117,\n",
       "         131, 1099,   22,    1], dtype=int16),\n",
       " array([-32768, -32768, -32768, -32768, -32768, -32768, -32768, -32768,\n",
       "        -32768, -32768, -32768, -32768, -32768, -32768, -32768, -32768,\n",
       "        -32768, -32768, -32768, -32768, -32768, -32768, -32768, -32768,\n",
       "        -32768, -32768, -32768, -32768, -32768, -32768, -32768, -32768,\n",
       "        -32768, -32768, -32768, -32768, -32768, -32768, -32768, -32768,\n",
       "        -32768, -32768, -32768, -32768, -32768, -32768, -32768, -32768,\n",
       "        -32768, -32768, -32768, -32768, -32768, -32768, -32768, -32768,\n",
       "        -32768, -32768, -32768, -32768, -32768, -32768, -32768, -32768,\n",
       "        -32768, -32768, -32768, -32768, -32768, -32768], dtype=int16),\n",
       " array([-32768, -32768, -32768, -32768, -32768, -32768, -32768, -32768,\n",
       "        -32768, -32768, -32768, -32768, -32768, -32768, -32768, -32768,\n",
       "        -32768, -32768, -32768, -32768, -32768, -32768, -32768, -32768,\n",
       "        -32768, -32768, -32768, -32768, -32768, -32768, -32768, -32768,\n",
       "        -32768, -32768, -32768, -32768, -32768, -32768, -32768, -32768,\n",
       "        -32768, -32768, -32768, -32768, -32768, -32768, -32768, -32768,\n",
       "        -32768, -32768, -32768, -32768, -32768, -32768, -32768, -32768,\n",
       "        -32768, -32768, -32768, -32768, -32768, -32768, -32768, -32768,\n",
       "        -32768, -32768, -32768, -32768, -32768, -32768], dtype=int16)]"
      ]
     },
     "execution_count": 501,
     "metadata": {},
     "output_type": "execute_result"
    }
   ],
   "source": [
    "# Note to remove in df 2 outgroups since they have no data in the Madaclim db\n",
    "print(f\"Value of 'no data' in raster file : {raster_mada.nodata}\")\n",
    "all_vals[-3:]"
   ]
  },
  {
   "attachments": {},
   "cell_type": "markdown",
   "metadata": {},
   "source": [
    "We have all the data in a list of 41 (each specimens) arrays each containing 70 elements (each climvars)\n",
    "\n",
    "We need to get this information ordered unto the GeoPandas df"
   ]
  },
  {
   "cell_type": "code",
   "execution_count": 502,
   "metadata": {},
   "outputs": [
    {
     "data": {
      "text/html": [
       "<div>\n",
       "<style scoped>\n",
       "    .dataframe tbody tr th:only-of-type {\n",
       "        vertical-align: middle;\n",
       "    }\n",
       "\n",
       "    .dataframe tbody tr th {\n",
       "        vertical-align: top;\n",
       "    }\n",
       "\n",
       "    .dataframe thead th {\n",
       "        text-align: right;\n",
       "    }\n",
       "</style>\n",
       "<table border=\"1\" class=\"dataframe\">\n",
       "  <thead>\n",
       "    <tr style=\"text-align: right;\">\n",
       "      <th></th>\n",
       "      <th>Species code</th>\n",
       "      <th>Genome size (2C. pg)</th>\n",
       "      <th>Longitude</th>\n",
       "      <th>Latitude</th>\n",
       "      <th>geometry</th>\n",
       "      <th>all_layers</th>\n",
       "    </tr>\n",
       "  </thead>\n",
       "  <tbody>\n",
       "    <tr>\n",
       "      <th>0</th>\n",
       "      <td>ABA</td>\n",
       "      <td>1.25</td>\n",
       "      <td>46.862400</td>\n",
       "      <td>-24.7541</td>\n",
       "      <td>POINT (688328.240 7260998.023)</td>\n",
       "      <td>[155, 195, 188, 171, 136, 122, 120, 124, 138, ...</td>\n",
       "    </tr>\n",
       "    <tr>\n",
       "      <th>1</th>\n",
       "      <td>AMB</td>\n",
       "      <td>1.27</td>\n",
       "      <td>48.943300</td>\n",
       "      <td>-18.4522</td>\n",
       "      <td>POINT (916635.952 7955240.629)</td>\n",
       "      <td>[157, 203, 199, 185, 164, 149, 142, 139, 144, ...</td>\n",
       "    </tr>\n",
       "    <tr>\n",
       "      <th>2</th>\n",
       "      <td>AMBON</td>\n",
       "      <td>1.16</td>\n",
       "      <td>46.419806</td>\n",
       "      <td>-15.5745833</td>\n",
       "      <td>POINT (652237.905 8277614.406)</td>\n",
       "      <td>[222, 236, 238, 235, 217, 199, 191, 193, 205, ...</td>\n",
       "    </tr>\n",
       "    <tr>\n",
       "      <th>3</th>\n",
       "      <td>ANK1</td>\n",
       "      <td>1.17</td>\n",
       "      <td>49.543300</td>\n",
       "      <td>-12.9491</td>\n",
       "      <td>POINT (993250.150 8564104.062)</td>\n",
       "      <td>[206, 228, 227, 224, 211, 192, 186, 188, 194, ...</td>\n",
       "    </tr>\n",
       "    <tr>\n",
       "      <th>4</th>\n",
       "      <td>ARE</td>\n",
       "      <td>1.11</td>\n",
       "      <td>48.200000</td>\n",
       "      <td>-18.9333</td>\n",
       "      <td>POINT (837072.915 7903496.321)</td>\n",
       "      <td>[130, 176, 166, 153, 126, 107, 109, 107, 114, ...</td>\n",
       "    </tr>\n",
       "    <tr>\n",
       "      <th>5</th>\n",
       "      <td>AUGA</td>\n",
       "      <td>1.18</td>\n",
       "      <td>49.166660</td>\n",
       "      <td>-12.7333</td>\n",
       "      <td>POINT (952678.662 8588724.644)</td>\n",
       "      <td>[170, 195, 196, 190, 176, 157, 153, 155, 160, ...</td>\n",
       "    </tr>\n",
       "    <tr>\n",
       "      <th>6</th>\n",
       "      <td>BERT</td>\n",
       "      <td>1.22</td>\n",
       "      <td>46.633300</td>\n",
       "      <td>-25.01666</td>\n",
       "      <td>POINT (664808.037 7232213.963)</td>\n",
       "      <td>[167, 214, 206, 185, 152, 135, 129, 132, 146, ...</td>\n",
       "    </tr>\n",
       "    <tr>\n",
       "      <th>7</th>\n",
       "      <td>BISS</td>\n",
       "      <td>1.19</td>\n",
       "      <td>46.812299</td>\n",
       "      <td>-16.315048</td>\n",
       "      <td>POINT (693621.346 8195354.827)</td>\n",
       "      <td>[204, 223, 222, 215, 194, 172, 167, 173, 185, ...</td>\n",
       "    </tr>\n",
       "    <tr>\n",
       "      <th>8</th>\n",
       "      <td>BOIN</td>\n",
       "      <td>1.15</td>\n",
       "      <td>46.826763</td>\n",
       "      <td>-16.295741</td>\n",
       "      <td>POINT (695186.217 8197477.648)</td>\n",
       "      <td>[201, 221, 220, 213, 192, 170, 166, 171, 184, ...</td>\n",
       "    </tr>\n",
       "    <tr>\n",
       "      <th>9</th>\n",
       "      <td>BOI</td>\n",
       "      <td>1.00</td>\n",
       "      <td>49.880000</td>\n",
       "      <td>-13.35</td>\n",
       "      <td>POINT (1029017.945 8518947.447)</td>\n",
       "      <td>[207, 234, 229, 225, 211, 192, 191, 191, 197, ...</td>\n",
       "    </tr>\n",
       "    <tr>\n",
       "      <th>10</th>\n",
       "      <td>BON</td>\n",
       "      <td>1.06</td>\n",
       "      <td>49.177700</td>\n",
       "      <td>-12.4916</td>\n",
       "      <td>POINT (954307.360 8615498.064)</td>\n",
       "      <td>[164, 189, 189, 186, 172, 155, 150, 151, 154, ...</td>\n",
       "    </tr>\n",
       "    <tr>\n",
       "      <th>11</th>\n",
       "      <td>COS</td>\n",
       "      <td>1.16</td>\n",
       "      <td>50.013300</td>\n",
       "      <td>-13.75</td>\n",
       "      <td>POINT (1042588.812 8474269.440)</td>\n",
       "      <td>[200, 230, 226, 222, 206, 188, 186, 185, 189, ...</td>\n",
       "    </tr>\n",
       "    <tr>\n",
       "      <th>12</th>\n",
       "      <td>DOL</td>\n",
       "      <td>1.41</td>\n",
       "      <td>48.166600</td>\n",
       "      <td>-20.4833</td>\n",
       "      <td>POINT (830348.094 7731838.501)</td>\n",
       "      <td>[168, 206, 201, 189, 161, 145, 143, 142, 151, ...</td>\n",
       "    </tr>\n",
       "    <tr>\n",
       "      <th>13</th>\n",
       "      <td>DUB</td>\n",
       "      <td>1.20</td>\n",
       "      <td>49.950000</td>\n",
       "      <td>-13.33</td>\n",
       "      <td>POINT (1036667.559 8521015.658)</td>\n",
       "      <td>[207, 235, 230, 227, 212, 194, 194, 193, 198, ...</td>\n",
       "    </tr>\n",
       "    <tr>\n",
       "      <th>14</th>\n",
       "      <td>FAR</td>\n",
       "      <td>1.32</td>\n",
       "      <td>47.800000</td>\n",
       "      <td>-22.88</td>\n",
       "      <td>POINT (787281.628 7467033.374)</td>\n",
       "      <td>[188, 229, 220, 202, 183, 163, 157, 154, 170, ...</td>\n",
       "    </tr>\n",
       "    <tr>\n",
       "      <th>15</th>\n",
       "      <td>HEI</td>\n",
       "      <td>1.25</td>\n",
       "      <td>49.041000</td>\n",
       "      <td>-12.5833</td>\n",
       "      <td>POINT (939263.036 8605565.994)</td>\n",
       "      <td>[191, 212, 215, 210, 197, 180, 174, 175, 181, ...</td>\n",
       "    </tr>\n",
       "    <tr>\n",
       "      <th>16</th>\n",
       "      <td>HOM</td>\n",
       "      <td>1.21</td>\n",
       "      <td>49.296600</td>\n",
       "      <td>-17.9869</td>\n",
       "      <td>POINT (955230.600 8005985.896)</td>\n",
       "      <td>[183, 225, 220, 210, 189, 173, 171, 169, 171, ...</td>\n",
       "    </tr>\n",
       "    <tr>\n",
       "      <th>17</th>\n",
       "      <td>HUMB</td>\n",
       "      <td>0.97</td>\n",
       "      <td>45.066667</td>\n",
       "      <td>-12.716667</td>\n",
       "      <td>POINT (507237.575 8594195.742)</td>\n",
       "      <td>[197, 218, 218, 216, 207, 195, 187, 185, 189, ...</td>\n",
       "    </tr>\n",
       "    <tr>\n",
       "      <th>18</th>\n",
       "      <td>JUM</td>\n",
       "      <td>1.14</td>\n",
       "      <td>49.970000</td>\n",
       "      <td>-13.3702</td>\n",
       "      <td>POINT (1038751.232 8516511.402)</td>\n",
       "      <td>[205, 233, 227, 225, 210, 192, 192, 191, 195, ...</td>\n",
       "    </tr>\n",
       "    <tr>\n",
       "      <th>19</th>\n",
       "      <td>KIA2</td>\n",
       "      <td>1.23</td>\n",
       "      <td>46.862500</td>\n",
       "      <td>-24.7541</td>\n",
       "      <td>POINT (688338.355 7260997.885)</td>\n",
       "      <td>[155, 195, 188, 171, 136, 122, 120, 124, 138, ...</td>\n",
       "    </tr>\n",
       "    <tr>\n",
       "      <th>20</th>\n",
       "      <td>LAN</td>\n",
       "      <td>1.25</td>\n",
       "      <td>47.483300</td>\n",
       "      <td>-21.5166</td>\n",
       "      <td>POINT (757247.218 7618631.529)</td>\n",
       "      <td>[152, 189, 183, 170, 138, 121, 116, 121, 133, ...</td>\n",
       "    </tr>\n",
       "    <tr>\n",
       "      <th>21</th>\n",
       "      <td>LER</td>\n",
       "      <td>1.23</td>\n",
       "      <td>47.750000</td>\n",
       "      <td>-21.333</td>\n",
       "      <td>POINT (785246.609 7638506.007)</td>\n",
       "      <td>[162, 199, 194, 181, 149, 131, 128, 133, 143, ...</td>\n",
       "    </tr>\n",
       "    <tr>\n",
       "      <th>22</th>\n",
       "      <td>MAC</td>\n",
       "      <td>1.17</td>\n",
       "      <td>57.430000</td>\n",
       "      <td>-20.378</td>\n",
       "      <td>POINT (1804918.843 7696851.850)</td>\n",
       "      <td>[-32768, -32768, -32768, -32768, -32768, -3276...</td>\n",
       "    </tr>\n",
       "    <tr>\n",
       "      <th>23</th>\n",
       "      <td>MIL2</td>\n",
       "      <td>1.40</td>\n",
       "      <td>47.416600</td>\n",
       "      <td>-21.5166</td>\n",
       "      <td>POINT (750334.648 7618740.006)</td>\n",
       "      <td>[124, 162, 156, 143, 118, 99, 93, 92, 106, 145...</td>\n",
       "    </tr>\n",
       "    <tr>\n",
       "      <th>24</th>\n",
       "      <td>MOG</td>\n",
       "      <td>1.09</td>\n",
       "      <td>49.200000</td>\n",
       "      <td>-12.4333</td>\n",
       "      <td>POINT (956838.771 8621922.344)</td>\n",
       "      <td>[196, 218, 218, 215, 204, 187, 180, 181, 186, ...</td>\n",
       "    </tr>\n",
       "    <tr>\n",
       "      <th>25</th>\n",
       "      <td>MON</td>\n",
       "      <td>1.19</td>\n",
       "      <td>47.942200</td>\n",
       "      <td>-21.4097</td>\n",
       "      <td>POINT (805036.157 7629647.965)</td>\n",
       "      <td>[165, 203, 199, 185, 155, 139, 136, 138, 147, ...</td>\n",
       "    </tr>\n",
       "    <tr>\n",
       "      <th>26</th>\n",
       "      <td>PER1</td>\n",
       "      <td>1.28</td>\n",
       "      <td>46.565200</td>\n",
       "      <td>-24.8333</td>\n",
       "      <td>POINT (658169.137 7252603.015)</td>\n",
       "      <td>[163, 210, 202, 180, 142, 127, 122, 127, 142, ...</td>\n",
       "    </tr>\n",
       "    <tr>\n",
       "      <th>27</th>\n",
       "      <td>PERV</td>\n",
       "      <td>1.12</td>\n",
       "      <td>50.034400</td>\n",
       "      <td>-13.82</td>\n",
       "      <td>POINT (1044714.639 8466453.357)</td>\n",
       "      <td>[196, 227, 224, 219, 204, 186, 183, 182, 186, ...</td>\n",
       "    </tr>\n",
       "    <tr>\n",
       "      <th>28</th>\n",
       "      <td>RAT</td>\n",
       "      <td>1.16</td>\n",
       "      <td>49.294100</td>\n",
       "      <td>-13.80</td>\n",
       "      <td>POINT (964509.516 8470234.759)</td>\n",
       "      <td>[152, 185, 185, 179, 158, 136, 131, 134, 138, ...</td>\n",
       "    </tr>\n",
       "    <tr>\n",
       "      <th>29</th>\n",
       "      <td>RES1</td>\n",
       "      <td>1.27</td>\n",
       "      <td>49.733300</td>\n",
       "      <td>-15.45</td>\n",
       "      <td>POINT (1008284.884 8286298.730)</td>\n",
       "      <td>[-32768, -32768, -32768, -32768, -32768, -3276...</td>\n",
       "    </tr>\n",
       "    <tr>\n",
       "      <th>30</th>\n",
       "      <td>RIC</td>\n",
       "      <td>1.28</td>\n",
       "      <td>49.416600</td>\n",
       "      <td>-17.283333</td>\n",
       "      <td>POINT (969790.864 8083713.719)</td>\n",
       "      <td>[186, 224, 220, 207, 189, 173, 171, 172, 175, ...</td>\n",
       "    </tr>\n",
       "    <tr>\n",
       "      <th>31</th>\n",
       "      <td>SAHA</td>\n",
       "      <td>1.16</td>\n",
       "      <td>49.950000</td>\n",
       "      <td>-13.28</td>\n",
       "      <td>POINT (1036778.147 8526563.722)</td>\n",
       "      <td>[204, 232, 226, 223, 210, 191, 191, 190, 194, ...</td>\n",
       "    </tr>\n",
       "    <tr>\n",
       "      <th>32</th>\n",
       "      <td>SAK</td>\n",
       "      <td>1.15</td>\n",
       "      <td>46.210000</td>\n",
       "      <td>-22.35</td>\n",
       "      <td>POINT (624595.051 7527931.783)</td>\n",
       "      <td>[159, 193, 186, 170, 138, 119, 113, 123, 137, ...</td>\n",
       "    </tr>\n",
       "    <tr>\n",
       "      <th>33</th>\n",
       "      <td>TET</td>\n",
       "      <td>1.07</td>\n",
       "      <td>48.150000</td>\n",
       "      <td>-14.225</td>\n",
       "      <td>POINT (839989.009 8425091.307)</td>\n",
       "      <td>[191, 213, 215, 209, 190, 175, 166, 169, 176, ...</td>\n",
       "    </tr>\n",
       "    <tr>\n",
       "      <th>34</th>\n",
       "      <td>TSI</td>\n",
       "      <td>1.06</td>\n",
       "      <td>49.266600</td>\n",
       "      <td>-11.9666</td>\n",
       "      <td>POINT (964910.806 8673545.656)</td>\n",
       "      <td>[224, 241, 241, 241, 233, 220, 209, 209, 214, ...</td>\n",
       "    </tr>\n",
       "    <tr>\n",
       "      <th>35</th>\n",
       "      <td>VAT</td>\n",
       "      <td>1.03</td>\n",
       "      <td>47.930000</td>\n",
       "      <td>-21.4</td>\n",
       "      <td>POINT (803790.565 7630746.276)</td>\n",
       "      <td>[174, 212, 207, 193, 163, 146, 141, 145, 155, ...</td>\n",
       "    </tr>\n",
       "    <tr>\n",
       "      <th>36</th>\n",
       "      <td>VIA2</td>\n",
       "      <td>1.27</td>\n",
       "      <td>48.250000</td>\n",
       "      <td>-18.9333</td>\n",
       "      <td>POINT (842344.137 7903399.948)</td>\n",
       "      <td>[126, 173, 164, 150, 123, 104, 105, 104, 110, ...</td>\n",
       "    </tr>\n",
       "    <tr>\n",
       "      <th>37</th>\n",
       "      <td>VOHE</td>\n",
       "      <td>1.08</td>\n",
       "      <td>50.141600</td>\n",
       "      <td>-15.2333</td>\n",
       "      <td>POINT (1052800.567 8309339.860)</td>\n",
       "      <td>[152, 191, 189, 182, 165, 151, 144, 142, 142, ...</td>\n",
       "    </tr>\n",
       "    <tr>\n",
       "      <th>38</th>\n",
       "      <td>AND2</td>\n",
       "      <td>1.2</td>\n",
       "      <td>47.942000</td>\n",
       "      <td>-21.40083</td>\n",
       "      <td>POINT (805033.840 7630631.025)</td>\n",
       "      <td>[173, 211, 206, 193, 163, 146, 142, 145, 155, ...</td>\n",
       "    </tr>\n",
       "    <tr>\n",
       "      <th>39</th>\n",
       "      <td>MAU</td>\n",
       "      <td>0.96</td>\n",
       "      <td>57.433333</td>\n",
       "      <td>-20.416667</td>\n",
       "      <td>POINT (1804938.104 7692467.997)</td>\n",
       "      <td>[-32768, -32768, -32768, -32768, -32768, -3276...</td>\n",
       "    </tr>\n",
       "    <tr>\n",
       "      <th>40</th>\n",
       "      <td>MYR</td>\n",
       "      <td>1.07</td>\n",
       "      <td>57.583333</td>\n",
       "      <td>-20.308333</td>\n",
       "      <td>POINT (1821822.952 7703446.045)</td>\n",
       "      <td>[-32768, -32768, -32768, -32768, -32768, -3276...</td>\n",
       "    </tr>\n",
       "  </tbody>\n",
       "</table>\n",
       "</div>"
      ],
      "text/plain": [
       "   Species code Genome size (2C. pg)  Longitude     Latitude  \\\n",
       "0           ABA                 1.25  46.862400     -24.7541   \n",
       "1           AMB                 1.27  48.943300     -18.4522   \n",
       "2         AMBON                 1.16  46.419806  -15.5745833   \n",
       "3          ANK1                 1.17  49.543300     -12.9491   \n",
       "4           ARE                 1.11  48.200000     -18.9333   \n",
       "5          AUGA                 1.18  49.166660     -12.7333   \n",
       "6          BERT                 1.22  46.633300    -25.01666   \n",
       "7          BISS                 1.19  46.812299   -16.315048   \n",
       "8          BOIN                 1.15  46.826763   -16.295741   \n",
       "9           BOI                 1.00  49.880000       -13.35   \n",
       "10          BON                 1.06  49.177700     -12.4916   \n",
       "11          COS                 1.16  50.013300       -13.75   \n",
       "12          DOL                 1.41  48.166600     -20.4833   \n",
       "13          DUB                 1.20  49.950000       -13.33   \n",
       "14          FAR                 1.32  47.800000       -22.88   \n",
       "15          HEI                 1.25  49.041000     -12.5833   \n",
       "16          HOM                 1.21  49.296600     -17.9869   \n",
       "17         HUMB                 0.97  45.066667   -12.716667   \n",
       "18          JUM                 1.14  49.970000     -13.3702   \n",
       "19         KIA2                 1.23  46.862500     -24.7541   \n",
       "20          LAN                 1.25  47.483300     -21.5166   \n",
       "21          LER                 1.23  47.750000      -21.333   \n",
       "22          MAC                 1.17  57.430000      -20.378   \n",
       "23         MIL2                 1.40  47.416600     -21.5166   \n",
       "24          MOG                 1.09  49.200000     -12.4333   \n",
       "25          MON                 1.19  47.942200     -21.4097   \n",
       "26         PER1                 1.28  46.565200     -24.8333   \n",
       "27         PERV                 1.12  50.034400       -13.82   \n",
       "28          RAT                 1.16  49.294100       -13.80   \n",
       "29         RES1                 1.27  49.733300       -15.45   \n",
       "30          RIC                 1.28  49.416600   -17.283333   \n",
       "31         SAHA                 1.16  49.950000       -13.28   \n",
       "32          SAK                 1.15  46.210000       -22.35   \n",
       "33          TET                 1.07  48.150000      -14.225   \n",
       "34          TSI                 1.06  49.266600     -11.9666   \n",
       "35          VAT                 1.03  47.930000        -21.4   \n",
       "36         VIA2                 1.27  48.250000     -18.9333   \n",
       "37         VOHE                 1.08  50.141600     -15.2333   \n",
       "38         AND2                  1.2  47.942000    -21.40083   \n",
       "39         MAU                  0.96  57.433333   -20.416667   \n",
       "40          MYR                 1.07  57.583333   -20.308333   \n",
       "\n",
       "                           geometry  \\\n",
       "0    POINT (688328.240 7260998.023)   \n",
       "1    POINT (916635.952 7955240.629)   \n",
       "2    POINT (652237.905 8277614.406)   \n",
       "3    POINT (993250.150 8564104.062)   \n",
       "4    POINT (837072.915 7903496.321)   \n",
       "5    POINT (952678.662 8588724.644)   \n",
       "6    POINT (664808.037 7232213.963)   \n",
       "7    POINT (693621.346 8195354.827)   \n",
       "8    POINT (695186.217 8197477.648)   \n",
       "9   POINT (1029017.945 8518947.447)   \n",
       "10   POINT (954307.360 8615498.064)   \n",
       "11  POINT (1042588.812 8474269.440)   \n",
       "12   POINT (830348.094 7731838.501)   \n",
       "13  POINT (1036667.559 8521015.658)   \n",
       "14   POINT (787281.628 7467033.374)   \n",
       "15   POINT (939263.036 8605565.994)   \n",
       "16   POINT (955230.600 8005985.896)   \n",
       "17   POINT (507237.575 8594195.742)   \n",
       "18  POINT (1038751.232 8516511.402)   \n",
       "19   POINT (688338.355 7260997.885)   \n",
       "20   POINT (757247.218 7618631.529)   \n",
       "21   POINT (785246.609 7638506.007)   \n",
       "22  POINT (1804918.843 7696851.850)   \n",
       "23   POINT (750334.648 7618740.006)   \n",
       "24   POINT (956838.771 8621922.344)   \n",
       "25   POINT (805036.157 7629647.965)   \n",
       "26   POINT (658169.137 7252603.015)   \n",
       "27  POINT (1044714.639 8466453.357)   \n",
       "28   POINT (964509.516 8470234.759)   \n",
       "29  POINT (1008284.884 8286298.730)   \n",
       "30   POINT (969790.864 8083713.719)   \n",
       "31  POINT (1036778.147 8526563.722)   \n",
       "32   POINT (624595.051 7527931.783)   \n",
       "33   POINT (839989.009 8425091.307)   \n",
       "34   POINT (964910.806 8673545.656)   \n",
       "35   POINT (803790.565 7630746.276)   \n",
       "36   POINT (842344.137 7903399.948)   \n",
       "37  POINT (1052800.567 8309339.860)   \n",
       "38   POINT (805033.840 7630631.025)   \n",
       "39  POINT (1804938.104 7692467.997)   \n",
       "40  POINT (1821822.952 7703446.045)   \n",
       "\n",
       "                                           all_layers  \n",
       "0   [155, 195, 188, 171, 136, 122, 120, 124, 138, ...  \n",
       "1   [157, 203, 199, 185, 164, 149, 142, 139, 144, ...  \n",
       "2   [222, 236, 238, 235, 217, 199, 191, 193, 205, ...  \n",
       "3   [206, 228, 227, 224, 211, 192, 186, 188, 194, ...  \n",
       "4   [130, 176, 166, 153, 126, 107, 109, 107, 114, ...  \n",
       "5   [170, 195, 196, 190, 176, 157, 153, 155, 160, ...  \n",
       "6   [167, 214, 206, 185, 152, 135, 129, 132, 146, ...  \n",
       "7   [204, 223, 222, 215, 194, 172, 167, 173, 185, ...  \n",
       "8   [201, 221, 220, 213, 192, 170, 166, 171, 184, ...  \n",
       "9   [207, 234, 229, 225, 211, 192, 191, 191, 197, ...  \n",
       "10  [164, 189, 189, 186, 172, 155, 150, 151, 154, ...  \n",
       "11  [200, 230, 226, 222, 206, 188, 186, 185, 189, ...  \n",
       "12  [168, 206, 201, 189, 161, 145, 143, 142, 151, ...  \n",
       "13  [207, 235, 230, 227, 212, 194, 194, 193, 198, ...  \n",
       "14  [188, 229, 220, 202, 183, 163, 157, 154, 170, ...  \n",
       "15  [191, 212, 215, 210, 197, 180, 174, 175, 181, ...  \n",
       "16  [183, 225, 220, 210, 189, 173, 171, 169, 171, ...  \n",
       "17  [197, 218, 218, 216, 207, 195, 187, 185, 189, ...  \n",
       "18  [205, 233, 227, 225, 210, 192, 192, 191, 195, ...  \n",
       "19  [155, 195, 188, 171, 136, 122, 120, 124, 138, ...  \n",
       "20  [152, 189, 183, 170, 138, 121, 116, 121, 133, ...  \n",
       "21  [162, 199, 194, 181, 149, 131, 128, 133, 143, ...  \n",
       "22  [-32768, -32768, -32768, -32768, -32768, -3276...  \n",
       "23  [124, 162, 156, 143, 118, 99, 93, 92, 106, 145...  \n",
       "24  [196, 218, 218, 215, 204, 187, 180, 181, 186, ...  \n",
       "25  [165, 203, 199, 185, 155, 139, 136, 138, 147, ...  \n",
       "26  [163, 210, 202, 180, 142, 127, 122, 127, 142, ...  \n",
       "27  [196, 227, 224, 219, 204, 186, 183, 182, 186, ...  \n",
       "28  [152, 185, 185, 179, 158, 136, 131, 134, 138, ...  \n",
       "29  [-32768, -32768, -32768, -32768, -32768, -3276...  \n",
       "30  [186, 224, 220, 207, 189, 173, 171, 172, 175, ...  \n",
       "31  [204, 232, 226, 223, 210, 191, 191, 190, 194, ...  \n",
       "32  [159, 193, 186, 170, 138, 119, 113, 123, 137, ...  \n",
       "33  [191, 213, 215, 209, 190, 175, 166, 169, 176, ...  \n",
       "34  [224, 241, 241, 241, 233, 220, 209, 209, 214, ...  \n",
       "35  [174, 212, 207, 193, 163, 146, 141, 145, 155, ...  \n",
       "36  [126, 173, 164, 150, 123, 104, 105, 104, 110, ...  \n",
       "37  [152, 191, 189, 182, 165, 151, 144, 142, 142, ...  \n",
       "38  [173, 211, 206, 193, 163, 146, 142, 145, 155, ...  \n",
       "39  [-32768, -32768, -32768, -32768, -32768, -3276...  \n",
       "40  [-32768, -32768, -32768, -32768, -32768, -3276...  "
      ]
     },
     "execution_count": 502,
     "metadata": {},
     "output_type": "execute_result"
    }
   ],
   "source": [
    "# Add all_vals arrays in single col in df\n",
    "gdf_gbs[\"all_layers\"] = all_vals\n",
    "gdf_gbs"
   ]
  },
  {
   "cell_type": "code",
   "execution_count": 503,
   "metadata": {},
   "outputs": [],
   "source": [
    "# Adding each layer has a column (layer num + units) for each specimen\n",
    "for i, (k, v) in enumerate(mada_layers.items()):\n",
    "    for j, specimen in enumerate(all_vals):\n",
    "        gdf_gbs.loc[j, f\"{k} : {v}\"] = specimen[i]\n",
    "        "
   ]
  },
  {
   "cell_type": "code",
   "execution_count": 504,
   "metadata": {},
   "outputs": [
    {
     "data": {
      "text/html": [
       "<div>\n",
       "<style scoped>\n",
       "    .dataframe tbody tr th:only-of-type {\n",
       "        vertical-align: middle;\n",
       "    }\n",
       "\n",
       "    .dataframe tbody tr th {\n",
       "        vertical-align: top;\n",
       "    }\n",
       "\n",
       "    .dataframe thead th {\n",
       "        text-align: right;\n",
       "    }\n",
       "</style>\n",
       "<table border=\"1\" class=\"dataframe\">\n",
       "  <thead>\n",
       "    <tr style=\"text-align: right;\">\n",
       "      <th></th>\n",
       "      <th>Species code</th>\n",
       "      <th>Genome size (2C. pg)</th>\n",
       "      <th>Longitude</th>\n",
       "      <th>Latitude</th>\n",
       "      <th>geometry</th>\n",
       "      <th>all_layers</th>\n",
       "      <th>layer1 : Monthly minimum temperature (C x 10)_January</th>\n",
       "      <th>layer2 : Monthly minimum temperature (C x 10)_February</th>\n",
       "      <th>layer3 : Monthly minimum temperature (C x 10)_March</th>\n",
       "      <th>layer4 : Monthly minimum temperature (C x 10)_April</th>\n",
       "      <th>...</th>\n",
       "      <th>layer61 : Monthly potential evapotranspiration (mm.month-1)_June</th>\n",
       "      <th>layer62 : Monthly potential evapotranspiration (mm.month-1)_July</th>\n",
       "      <th>layer63 : Monthly potential evapotranspiration (mm.month-1)_August</th>\n",
       "      <th>layer64 : Monthly potential evapotranspiration (mm.month-1)_September</th>\n",
       "      <th>layer65 : Monthly potential evapotranspiration (mm.month-1)_October</th>\n",
       "      <th>layer66 : Monthly potential evapotranspiration (mm.month-1)_November</th>\n",
       "      <th>layer67 : Monthly potential evapotranspiration (mm.month-1)_December</th>\n",
       "      <th>layer68 : Annual potential evapotranspiration (mm)</th>\n",
       "      <th>layer69 : Annual climatic water deficit (mm)</th>\n",
       "      <th>layer70 : Number of dry months in the year</th>\n",
       "    </tr>\n",
       "  </thead>\n",
       "  <tbody>\n",
       "    <tr>\n",
       "      <th>0</th>\n",
       "      <td>ABA</td>\n",
       "      <td>1.25</td>\n",
       "      <td>46.862400</td>\n",
       "      <td>-24.7541</td>\n",
       "      <td>POINT (688328.240 7260998.023)</td>\n",
       "      <td>[155, 195, 188, 171, 136, 122, 120, 124, 138, ...</td>\n",
       "      <td>155.0</td>\n",
       "      <td>195.0</td>\n",
       "      <td>188.0</td>\n",
       "      <td>171.0</td>\n",
       "      <td>...</td>\n",
       "      <td>50.0</td>\n",
       "      <td>44.0</td>\n",
       "      <td>47.0</td>\n",
       "      <td>60.0</td>\n",
       "      <td>92.0</td>\n",
       "      <td>110.0</td>\n",
       "      <td>123.0</td>\n",
       "      <td>1022.0</td>\n",
       "      <td>77.0</td>\n",
       "      <td>4.0</td>\n",
       "    </tr>\n",
       "    <tr>\n",
       "      <th>1</th>\n",
       "      <td>AMB</td>\n",
       "      <td>1.27</td>\n",
       "      <td>48.943300</td>\n",
       "      <td>-18.4522</td>\n",
       "      <td>POINT (916635.952 7955240.629)</td>\n",
       "      <td>[157, 203, 199, 185, 164, 149, 142, 139, 144, ...</td>\n",
       "      <td>157.0</td>\n",
       "      <td>203.0</td>\n",
       "      <td>199.0</td>\n",
       "      <td>185.0</td>\n",
       "      <td>...</td>\n",
       "      <td>61.0</td>\n",
       "      <td>47.0</td>\n",
       "      <td>48.0</td>\n",
       "      <td>56.0</td>\n",
       "      <td>92.0</td>\n",
       "      <td>109.0</td>\n",
       "      <td>121.0</td>\n",
       "      <td>1041.0</td>\n",
       "      <td>16.0</td>\n",
       "      <td>1.0</td>\n",
       "    </tr>\n",
       "    <tr>\n",
       "      <th>2</th>\n",
       "      <td>AMBON</td>\n",
       "      <td>1.16</td>\n",
       "      <td>46.419806</td>\n",
       "      <td>-15.5745833</td>\n",
       "      <td>POINT (652237.905 8277614.406)</td>\n",
       "      <td>[222, 236, 238, 235, 217, 199, 191, 193, 205, ...</td>\n",
       "      <td>222.0</td>\n",
       "      <td>236.0</td>\n",
       "      <td>238.0</td>\n",
       "      <td>235.0</td>\n",
       "      <td>...</td>\n",
       "      <td>107.0</td>\n",
       "      <td>93.0</td>\n",
       "      <td>102.0</td>\n",
       "      <td>120.0</td>\n",
       "      <td>164.0</td>\n",
       "      <td>164.0</td>\n",
       "      <td>156.0</td>\n",
       "      <td>1709.0</td>\n",
       "      <td>849.0</td>\n",
       "      <td>8.0</td>\n",
       "    </tr>\n",
       "    <tr>\n",
       "      <th>3</th>\n",
       "      <td>ANK1</td>\n",
       "      <td>1.17</td>\n",
       "      <td>49.543300</td>\n",
       "      <td>-12.9491</td>\n",
       "      <td>POINT (993250.150 8564104.062)</td>\n",
       "      <td>[206, 228, 227, 224, 211, 192, 186, 188, 194, ...</td>\n",
       "      <td>206.0</td>\n",
       "      <td>228.0</td>\n",
       "      <td>227.0</td>\n",
       "      <td>224.0</td>\n",
       "      <td>...</td>\n",
       "      <td>99.0</td>\n",
       "      <td>83.0</td>\n",
       "      <td>85.0</td>\n",
       "      <td>96.0</td>\n",
       "      <td>137.0</td>\n",
       "      <td>147.0</td>\n",
       "      <td>146.0</td>\n",
       "      <td>1482.0</td>\n",
       "      <td>501.0</td>\n",
       "      <td>8.0</td>\n",
       "    </tr>\n",
       "    <tr>\n",
       "      <th>4</th>\n",
       "      <td>ARE</td>\n",
       "      <td>1.11</td>\n",
       "      <td>48.200000</td>\n",
       "      <td>-18.9333</td>\n",
       "      <td>POINT (837072.915 7903496.321)</td>\n",
       "      <td>[130, 176, 166, 153, 126, 107, 109, 107, 114, ...</td>\n",
       "      <td>130.0</td>\n",
       "      <td>176.0</td>\n",
       "      <td>166.0</td>\n",
       "      <td>153.0</td>\n",
       "      <td>...</td>\n",
       "      <td>48.0</td>\n",
       "      <td>40.0</td>\n",
       "      <td>41.0</td>\n",
       "      <td>50.0</td>\n",
       "      <td>84.0</td>\n",
       "      <td>95.0</td>\n",
       "      <td>102.0</td>\n",
       "      <td>891.0</td>\n",
       "      <td>61.0</td>\n",
       "      <td>4.0</td>\n",
       "    </tr>\n",
       "  </tbody>\n",
       "</table>\n",
       "<p>5 rows × 76 columns</p>\n",
       "</div>"
      ],
      "text/plain": [
       "  Species code Genome size (2C. pg)  Longitude     Latitude  \\\n",
       "0          ABA                 1.25  46.862400     -24.7541   \n",
       "1          AMB                 1.27  48.943300     -18.4522   \n",
       "2        AMBON                 1.16  46.419806  -15.5745833   \n",
       "3         ANK1                 1.17  49.543300     -12.9491   \n",
       "4          ARE                 1.11  48.200000     -18.9333   \n",
       "\n",
       "                         geometry  \\\n",
       "0  POINT (688328.240 7260998.023)   \n",
       "1  POINT (916635.952 7955240.629)   \n",
       "2  POINT (652237.905 8277614.406)   \n",
       "3  POINT (993250.150 8564104.062)   \n",
       "4  POINT (837072.915 7903496.321)   \n",
       "\n",
       "                                          all_layers  \\\n",
       "0  [155, 195, 188, 171, 136, 122, 120, 124, 138, ...   \n",
       "1  [157, 203, 199, 185, 164, 149, 142, 139, 144, ...   \n",
       "2  [222, 236, 238, 235, 217, 199, 191, 193, 205, ...   \n",
       "3  [206, 228, 227, 224, 211, 192, 186, 188, 194, ...   \n",
       "4  [130, 176, 166, 153, 126, 107, 109, 107, 114, ...   \n",
       "\n",
       "   layer1 : Monthly minimum temperature (C x 10)_January  \\\n",
       "0                                              155.0       \n",
       "1                                              157.0       \n",
       "2                                              222.0       \n",
       "3                                              206.0       \n",
       "4                                              130.0       \n",
       "\n",
       "   layer2 : Monthly minimum temperature (C x 10)_February  \\\n",
       "0                                              195.0        \n",
       "1                                              203.0        \n",
       "2                                              236.0        \n",
       "3                                              228.0        \n",
       "4                                              176.0        \n",
       "\n",
       "   layer3 : Monthly minimum temperature (C x 10)_March  \\\n",
       "0                                              188.0     \n",
       "1                                              199.0     \n",
       "2                                              238.0     \n",
       "3                                              227.0     \n",
       "4                                              166.0     \n",
       "\n",
       "   layer4 : Monthly minimum temperature (C x 10)_April  ...  \\\n",
       "0                                              171.0    ...   \n",
       "1                                              185.0    ...   \n",
       "2                                              235.0    ...   \n",
       "3                                              224.0    ...   \n",
       "4                                              153.0    ...   \n",
       "\n",
       "   layer61 : Monthly potential evapotranspiration (mm.month-1)_June  \\\n",
       "0                                               50.0                  \n",
       "1                                               61.0                  \n",
       "2                                              107.0                  \n",
       "3                                               99.0                  \n",
       "4                                               48.0                  \n",
       "\n",
       "   layer62 : Monthly potential evapotranspiration (mm.month-1)_July  \\\n",
       "0                                               44.0                  \n",
       "1                                               47.0                  \n",
       "2                                               93.0                  \n",
       "3                                               83.0                  \n",
       "4                                               40.0                  \n",
       "\n",
       "   layer63 : Monthly potential evapotranspiration (mm.month-1)_August  \\\n",
       "0                                               47.0                    \n",
       "1                                               48.0                    \n",
       "2                                              102.0                    \n",
       "3                                               85.0                    \n",
       "4                                               41.0                    \n",
       "\n",
       "   layer64 : Monthly potential evapotranspiration (mm.month-1)_September  \\\n",
       "0                                               60.0                       \n",
       "1                                               56.0                       \n",
       "2                                              120.0                       \n",
       "3                                               96.0                       \n",
       "4                                               50.0                       \n",
       "\n",
       "   layer65 : Monthly potential evapotranspiration (mm.month-1)_October  \\\n",
       "0                                               92.0                     \n",
       "1                                               92.0                     \n",
       "2                                              164.0                     \n",
       "3                                              137.0                     \n",
       "4                                               84.0                     \n",
       "\n",
       "   layer66 : Monthly potential evapotranspiration (mm.month-1)_November  \\\n",
       "0                                              110.0                      \n",
       "1                                              109.0                      \n",
       "2                                              164.0                      \n",
       "3                                              147.0                      \n",
       "4                                               95.0                      \n",
       "\n",
       "   layer67 : Monthly potential evapotranspiration (mm.month-1)_December  \\\n",
       "0                                              123.0                      \n",
       "1                                              121.0                      \n",
       "2                                              156.0                      \n",
       "3                                              146.0                      \n",
       "4                                              102.0                      \n",
       "\n",
       "   layer68 : Annual potential evapotranspiration (mm)  \\\n",
       "0                                             1022.0    \n",
       "1                                             1041.0    \n",
       "2                                             1709.0    \n",
       "3                                             1482.0    \n",
       "4                                              891.0    \n",
       "\n",
       "   layer69 : Annual climatic water deficit (mm)  \\\n",
       "0                                          77.0   \n",
       "1                                          16.0   \n",
       "2                                         849.0   \n",
       "3                                         501.0   \n",
       "4                                          61.0   \n",
       "\n",
       "   layer70 : Number of dry months in the year  \n",
       "0                                         4.0  \n",
       "1                                         1.0  \n",
       "2                                         8.0  \n",
       "3                                         8.0  \n",
       "4                                         4.0  \n",
       "\n",
       "[5 rows x 76 columns]"
      ]
     },
     "execution_count": 504,
     "metadata": {},
     "output_type": "execute_result"
    }
   ],
   "source": [
    "# Compare with all layers : OK\n",
    "gdf_gbs.head()"
   ]
  },
  {
   "attachments": {},
   "cell_type": "markdown",
   "metadata": {},
   "source": [
    "Removing the 2 last rows (outgroups) since they only have nodata values (positions out of Madaclim db)"
   ]
  },
  {
   "cell_type": "code",
   "execution_count": 505,
   "metadata": {},
   "outputs": [
    {
     "name": "stdout",
     "output_type": "stream",
     "text": [
      "Value of 'no data' in raster file : -32768.0\n"
     ]
    },
    {
     "data": {
      "text/html": [
       "<div>\n",
       "<style scoped>\n",
       "    .dataframe tbody tr th:only-of-type {\n",
       "        vertical-align: middle;\n",
       "    }\n",
       "\n",
       "    .dataframe tbody tr th {\n",
       "        vertical-align: top;\n",
       "    }\n",
       "\n",
       "    .dataframe thead th {\n",
       "        text-align: right;\n",
       "    }\n",
       "</style>\n",
       "<table border=\"1\" class=\"dataframe\">\n",
       "  <thead>\n",
       "    <tr style=\"text-align: right;\">\n",
       "      <th></th>\n",
       "      <th>Species code</th>\n",
       "      <th>Genome size (2C. pg)</th>\n",
       "      <th>Longitude</th>\n",
       "      <th>Latitude</th>\n",
       "      <th>geometry</th>\n",
       "      <th>all_layers</th>\n",
       "      <th>layer1 : Monthly minimum temperature (C x 10)_January</th>\n",
       "      <th>layer2 : Monthly minimum temperature (C x 10)_February</th>\n",
       "      <th>layer3 : Monthly minimum temperature (C x 10)_March</th>\n",
       "      <th>layer4 : Monthly minimum temperature (C x 10)_April</th>\n",
       "      <th>...</th>\n",
       "      <th>layer61 : Monthly potential evapotranspiration (mm.month-1)_June</th>\n",
       "      <th>layer62 : Monthly potential evapotranspiration (mm.month-1)_July</th>\n",
       "      <th>layer63 : Monthly potential evapotranspiration (mm.month-1)_August</th>\n",
       "      <th>layer64 : Monthly potential evapotranspiration (mm.month-1)_September</th>\n",
       "      <th>layer65 : Monthly potential evapotranspiration (mm.month-1)_October</th>\n",
       "      <th>layer66 : Monthly potential evapotranspiration (mm.month-1)_November</th>\n",
       "      <th>layer67 : Monthly potential evapotranspiration (mm.month-1)_December</th>\n",
       "      <th>layer68 : Annual potential evapotranspiration (mm)</th>\n",
       "      <th>layer69 : Annual climatic water deficit (mm)</th>\n",
       "      <th>layer70 : Number of dry months in the year</th>\n",
       "    </tr>\n",
       "  </thead>\n",
       "  <tbody>\n",
       "    <tr>\n",
       "      <th>38</th>\n",
       "      <td>AND2</td>\n",
       "      <td>1.2</td>\n",
       "      <td>47.942000</td>\n",
       "      <td>-21.40083</td>\n",
       "      <td>POINT (805033.840 7630631.025)</td>\n",
       "      <td>[173, 211, 206, 193, 163, 146, 142, 145, 155, ...</td>\n",
       "      <td>173.0</td>\n",
       "      <td>211.0</td>\n",
       "      <td>206.0</td>\n",
       "      <td>193.0</td>\n",
       "      <td>...</td>\n",
       "      <td>58.0</td>\n",
       "      <td>49.0</td>\n",
       "      <td>52.0</td>\n",
       "      <td>62.0</td>\n",
       "      <td>101.0</td>\n",
       "      <td>117.0</td>\n",
       "      <td>131.0</td>\n",
       "      <td>1099.0</td>\n",
       "      <td>22.0</td>\n",
       "      <td>1.0</td>\n",
       "    </tr>\n",
       "    <tr>\n",
       "      <th>39</th>\n",
       "      <td>MAU</td>\n",
       "      <td>0.96</td>\n",
       "      <td>57.433333</td>\n",
       "      <td>-20.416667</td>\n",
       "      <td>POINT (1804938.104 7692467.997)</td>\n",
       "      <td>[-32768, -32768, -32768, -32768, -32768, -3276...</td>\n",
       "      <td>-32768.0</td>\n",
       "      <td>-32768.0</td>\n",
       "      <td>-32768.0</td>\n",
       "      <td>-32768.0</td>\n",
       "      <td>...</td>\n",
       "      <td>-32768.0</td>\n",
       "      <td>-32768.0</td>\n",
       "      <td>-32768.0</td>\n",
       "      <td>-32768.0</td>\n",
       "      <td>-32768.0</td>\n",
       "      <td>-32768.0</td>\n",
       "      <td>-32768.0</td>\n",
       "      <td>-32768.0</td>\n",
       "      <td>-32768.0</td>\n",
       "      <td>-32768.0</td>\n",
       "    </tr>\n",
       "    <tr>\n",
       "      <th>40</th>\n",
       "      <td>MYR</td>\n",
       "      <td>1.07</td>\n",
       "      <td>57.583333</td>\n",
       "      <td>-20.308333</td>\n",
       "      <td>POINT (1821822.952 7703446.045)</td>\n",
       "      <td>[-32768, -32768, -32768, -32768, -32768, -3276...</td>\n",
       "      <td>-32768.0</td>\n",
       "      <td>-32768.0</td>\n",
       "      <td>-32768.0</td>\n",
       "      <td>-32768.0</td>\n",
       "      <td>...</td>\n",
       "      <td>-32768.0</td>\n",
       "      <td>-32768.0</td>\n",
       "      <td>-32768.0</td>\n",
       "      <td>-32768.0</td>\n",
       "      <td>-32768.0</td>\n",
       "      <td>-32768.0</td>\n",
       "      <td>-32768.0</td>\n",
       "      <td>-32768.0</td>\n",
       "      <td>-32768.0</td>\n",
       "      <td>-32768.0</td>\n",
       "    </tr>\n",
       "  </tbody>\n",
       "</table>\n",
       "<p>3 rows × 76 columns</p>\n",
       "</div>"
      ],
      "text/plain": [
       "   Species code Genome size (2C. pg)  Longitude    Latitude  \\\n",
       "38         AND2                  1.2  47.942000   -21.40083   \n",
       "39         MAU                  0.96  57.433333  -20.416667   \n",
       "40          MYR                 1.07  57.583333  -20.308333   \n",
       "\n",
       "                           geometry  \\\n",
       "38   POINT (805033.840 7630631.025)   \n",
       "39  POINT (1804938.104 7692467.997)   \n",
       "40  POINT (1821822.952 7703446.045)   \n",
       "\n",
       "                                           all_layers  \\\n",
       "38  [173, 211, 206, 193, 163, 146, 142, 145, 155, ...   \n",
       "39  [-32768, -32768, -32768, -32768, -32768, -3276...   \n",
       "40  [-32768, -32768, -32768, -32768, -32768, -3276...   \n",
       "\n",
       "    layer1 : Monthly minimum temperature (C x 10)_January  \\\n",
       "38                                              173.0       \n",
       "39                                           -32768.0       \n",
       "40                                           -32768.0       \n",
       "\n",
       "    layer2 : Monthly minimum temperature (C x 10)_February  \\\n",
       "38                                              211.0        \n",
       "39                                           -32768.0        \n",
       "40                                           -32768.0        \n",
       "\n",
       "    layer3 : Monthly minimum temperature (C x 10)_March  \\\n",
       "38                                              206.0     \n",
       "39                                           -32768.0     \n",
       "40                                           -32768.0     \n",
       "\n",
       "    layer4 : Monthly minimum temperature (C x 10)_April  ...  \\\n",
       "38                                              193.0    ...   \n",
       "39                                           -32768.0    ...   \n",
       "40                                           -32768.0    ...   \n",
       "\n",
       "    layer61 : Monthly potential evapotranspiration (mm.month-1)_June  \\\n",
       "38                                               58.0                  \n",
       "39                                           -32768.0                  \n",
       "40                                           -32768.0                  \n",
       "\n",
       "    layer62 : Monthly potential evapotranspiration (mm.month-1)_July  \\\n",
       "38                                               49.0                  \n",
       "39                                           -32768.0                  \n",
       "40                                           -32768.0                  \n",
       "\n",
       "    layer63 : Monthly potential evapotranspiration (mm.month-1)_August  \\\n",
       "38                                               52.0                    \n",
       "39                                           -32768.0                    \n",
       "40                                           -32768.0                    \n",
       "\n",
       "    layer64 : Monthly potential evapotranspiration (mm.month-1)_September  \\\n",
       "38                                               62.0                       \n",
       "39                                           -32768.0                       \n",
       "40                                           -32768.0                       \n",
       "\n",
       "    layer65 : Monthly potential evapotranspiration (mm.month-1)_October  \\\n",
       "38                                              101.0                     \n",
       "39                                           -32768.0                     \n",
       "40                                           -32768.0                     \n",
       "\n",
       "    layer66 : Monthly potential evapotranspiration (mm.month-1)_November  \\\n",
       "38                                              117.0                      \n",
       "39                                           -32768.0                      \n",
       "40                                           -32768.0                      \n",
       "\n",
       "    layer67 : Monthly potential evapotranspiration (mm.month-1)_December  \\\n",
       "38                                              131.0                      \n",
       "39                                           -32768.0                      \n",
       "40                                           -32768.0                      \n",
       "\n",
       "    layer68 : Annual potential evapotranspiration (mm)  \\\n",
       "38                                             1099.0    \n",
       "39                                           -32768.0    \n",
       "40                                           -32768.0    \n",
       "\n",
       "    layer69 : Annual climatic water deficit (mm)  \\\n",
       "38                                          22.0   \n",
       "39                                      -32768.0   \n",
       "40                                      -32768.0   \n",
       "\n",
       "    layer70 : Number of dry months in the year  \n",
       "38                                         1.0  \n",
       "39                                    -32768.0  \n",
       "40                                    -32768.0  \n",
       "\n",
       "[3 rows x 76 columns]"
      ]
     },
     "execution_count": 505,
     "metadata": {},
     "output_type": "execute_result"
    }
   ],
   "source": [
    "print(f\"Value of 'no data' in raster file : {raster_mada.nodata}\")\n",
    "gdf_gbs.tail(3) # See outgroups\n"
   ]
  },
  {
   "attachments": {},
   "cell_type": "markdown",
   "metadata": {},
   "source": [
    "Counting how many *nodata* points there are in the df"
   ]
  },
  {
   "cell_type": "code",
   "execution_count": 506,
   "metadata": {},
   "outputs": [
    {
     "name": "stdout",
     "output_type": "stream",
     "text": [
      "Index num of Layer1 in df = 6\n"
     ]
    }
   ],
   "source": [
    "# Get number of cols that are not raster layers\n",
    "l1_index = len(gdf_gbs.columns) - len(mada_layers)\n",
    "print(f\"Index num of Layer1 in df = {l1_index}\")"
   ]
  },
  {
   "cell_type": "code",
   "execution_count": 507,
   "metadata": {},
   "outputs": [
    {
     "name": "stdout",
     "output_type": "stream",
     "text": [
      "There are 280 specimens datapoints of value -32768.0\n",
      "So probably 4 (280nodata / #layers) specimens to remove\n"
     ]
    }
   ],
   "source": [
    "# Total number of elements\n",
    "total_nodata = gdf_gbs.iloc[:, l1_index:][gdf_gbs.iloc[:, l1_index:] == raster_mada.nodata].dropna().count().sum()\n",
    "print(f\"There are {total_nodata} specimens datapoints of value {raster_mada.nodata}\")\n",
    "print(f\"So probably {int(280/len(mada_layers))} (280nodata / #layers) specimens to remove\")"
   ]
  },
  {
   "cell_type": "code",
   "execution_count": 508,
   "metadata": {},
   "outputs": [
    {
     "data": {
      "text/html": [
       "<div>\n",
       "<style scoped>\n",
       "    .dataframe tbody tr th:only-of-type {\n",
       "        vertical-align: middle;\n",
       "    }\n",
       "\n",
       "    .dataframe tbody tr th {\n",
       "        vertical-align: top;\n",
       "    }\n",
       "\n",
       "    .dataframe thead th {\n",
       "        text-align: right;\n",
       "    }\n",
       "</style>\n",
       "<table border=\"1\" class=\"dataframe\">\n",
       "  <thead>\n",
       "    <tr style=\"text-align: right;\">\n",
       "      <th></th>\n",
       "      <th>layer1 : Monthly minimum temperature (C x 10)_January</th>\n",
       "      <th>layer2 : Monthly minimum temperature (C x 10)_February</th>\n",
       "      <th>layer3 : Monthly minimum temperature (C x 10)_March</th>\n",
       "      <th>layer4 : Monthly minimum temperature (C x 10)_April</th>\n",
       "      <th>layer5 : Monthly minimum temperature (C x 10)_May</th>\n",
       "      <th>layer6 : Monthly minimum temperature (C x 10)_June</th>\n",
       "      <th>layer7 : Monthly minimum temperature (C x 10)_July</th>\n",
       "      <th>layer8 : Monthly minimum temperature (C x 10)_August</th>\n",
       "      <th>layer9 : Monthly minimum temperature (C x 10)_September</th>\n",
       "      <th>layer10 : Monthly minimum temperature (C x 10)_October</th>\n",
       "      <th>...</th>\n",
       "      <th>layer61 : Monthly potential evapotranspiration (mm.month-1)_June</th>\n",
       "      <th>layer62 : Monthly potential evapotranspiration (mm.month-1)_July</th>\n",
       "      <th>layer63 : Monthly potential evapotranspiration (mm.month-1)_August</th>\n",
       "      <th>layer64 : Monthly potential evapotranspiration (mm.month-1)_September</th>\n",
       "      <th>layer65 : Monthly potential evapotranspiration (mm.month-1)_October</th>\n",
       "      <th>layer66 : Monthly potential evapotranspiration (mm.month-1)_November</th>\n",
       "      <th>layer67 : Monthly potential evapotranspiration (mm.month-1)_December</th>\n",
       "      <th>layer68 : Annual potential evapotranspiration (mm)</th>\n",
       "      <th>layer69 : Annual climatic water deficit (mm)</th>\n",
       "      <th>layer70 : Number of dry months in the year</th>\n",
       "    </tr>\n",
       "  </thead>\n",
       "  <tbody>\n",
       "    <tr>\n",
       "      <th>22</th>\n",
       "      <td>-32768.0</td>\n",
       "      <td>-32768.0</td>\n",
       "      <td>-32768.0</td>\n",
       "      <td>-32768.0</td>\n",
       "      <td>-32768.0</td>\n",
       "      <td>-32768.0</td>\n",
       "      <td>-32768.0</td>\n",
       "      <td>-32768.0</td>\n",
       "      <td>-32768.0</td>\n",
       "      <td>-32768.0</td>\n",
       "      <td>...</td>\n",
       "      <td>-32768.0</td>\n",
       "      <td>-32768.0</td>\n",
       "      <td>-32768.0</td>\n",
       "      <td>-32768.0</td>\n",
       "      <td>-32768.0</td>\n",
       "      <td>-32768.0</td>\n",
       "      <td>-32768.0</td>\n",
       "      <td>-32768.0</td>\n",
       "      <td>-32768.0</td>\n",
       "      <td>-32768.0</td>\n",
       "    </tr>\n",
       "    <tr>\n",
       "      <th>29</th>\n",
       "      <td>-32768.0</td>\n",
       "      <td>-32768.0</td>\n",
       "      <td>-32768.0</td>\n",
       "      <td>-32768.0</td>\n",
       "      <td>-32768.0</td>\n",
       "      <td>-32768.0</td>\n",
       "      <td>-32768.0</td>\n",
       "      <td>-32768.0</td>\n",
       "      <td>-32768.0</td>\n",
       "      <td>-32768.0</td>\n",
       "      <td>...</td>\n",
       "      <td>-32768.0</td>\n",
       "      <td>-32768.0</td>\n",
       "      <td>-32768.0</td>\n",
       "      <td>-32768.0</td>\n",
       "      <td>-32768.0</td>\n",
       "      <td>-32768.0</td>\n",
       "      <td>-32768.0</td>\n",
       "      <td>-32768.0</td>\n",
       "      <td>-32768.0</td>\n",
       "      <td>-32768.0</td>\n",
       "    </tr>\n",
       "    <tr>\n",
       "      <th>39</th>\n",
       "      <td>-32768.0</td>\n",
       "      <td>-32768.0</td>\n",
       "      <td>-32768.0</td>\n",
       "      <td>-32768.0</td>\n",
       "      <td>-32768.0</td>\n",
       "      <td>-32768.0</td>\n",
       "      <td>-32768.0</td>\n",
       "      <td>-32768.0</td>\n",
       "      <td>-32768.0</td>\n",
       "      <td>-32768.0</td>\n",
       "      <td>...</td>\n",
       "      <td>-32768.0</td>\n",
       "      <td>-32768.0</td>\n",
       "      <td>-32768.0</td>\n",
       "      <td>-32768.0</td>\n",
       "      <td>-32768.0</td>\n",
       "      <td>-32768.0</td>\n",
       "      <td>-32768.0</td>\n",
       "      <td>-32768.0</td>\n",
       "      <td>-32768.0</td>\n",
       "      <td>-32768.0</td>\n",
       "    </tr>\n",
       "    <tr>\n",
       "      <th>40</th>\n",
       "      <td>-32768.0</td>\n",
       "      <td>-32768.0</td>\n",
       "      <td>-32768.0</td>\n",
       "      <td>-32768.0</td>\n",
       "      <td>-32768.0</td>\n",
       "      <td>-32768.0</td>\n",
       "      <td>-32768.0</td>\n",
       "      <td>-32768.0</td>\n",
       "      <td>-32768.0</td>\n",
       "      <td>-32768.0</td>\n",
       "      <td>...</td>\n",
       "      <td>-32768.0</td>\n",
       "      <td>-32768.0</td>\n",
       "      <td>-32768.0</td>\n",
       "      <td>-32768.0</td>\n",
       "      <td>-32768.0</td>\n",
       "      <td>-32768.0</td>\n",
       "      <td>-32768.0</td>\n",
       "      <td>-32768.0</td>\n",
       "      <td>-32768.0</td>\n",
       "      <td>-32768.0</td>\n",
       "    </tr>\n",
       "  </tbody>\n",
       "</table>\n",
       "<p>4 rows × 70 columns</p>\n",
       "</div>"
      ],
      "text/plain": [
       "    layer1 : Monthly minimum temperature (C x 10)_January  \\\n",
       "22                                           -32768.0       \n",
       "29                                           -32768.0       \n",
       "39                                           -32768.0       \n",
       "40                                           -32768.0       \n",
       "\n",
       "    layer2 : Monthly minimum temperature (C x 10)_February  \\\n",
       "22                                           -32768.0        \n",
       "29                                           -32768.0        \n",
       "39                                           -32768.0        \n",
       "40                                           -32768.0        \n",
       "\n",
       "    layer3 : Monthly minimum temperature (C x 10)_March  \\\n",
       "22                                           -32768.0     \n",
       "29                                           -32768.0     \n",
       "39                                           -32768.0     \n",
       "40                                           -32768.0     \n",
       "\n",
       "    layer4 : Monthly minimum temperature (C x 10)_April  \\\n",
       "22                                           -32768.0     \n",
       "29                                           -32768.0     \n",
       "39                                           -32768.0     \n",
       "40                                           -32768.0     \n",
       "\n",
       "    layer5 : Monthly minimum temperature (C x 10)_May  \\\n",
       "22                                           -32768.0   \n",
       "29                                           -32768.0   \n",
       "39                                           -32768.0   \n",
       "40                                           -32768.0   \n",
       "\n",
       "    layer6 : Monthly minimum temperature (C x 10)_June  \\\n",
       "22                                           -32768.0    \n",
       "29                                           -32768.0    \n",
       "39                                           -32768.0    \n",
       "40                                           -32768.0    \n",
       "\n",
       "    layer7 : Monthly minimum temperature (C x 10)_July  \\\n",
       "22                                           -32768.0    \n",
       "29                                           -32768.0    \n",
       "39                                           -32768.0    \n",
       "40                                           -32768.0    \n",
       "\n",
       "    layer8 : Monthly minimum temperature (C x 10)_August  \\\n",
       "22                                           -32768.0      \n",
       "29                                           -32768.0      \n",
       "39                                           -32768.0      \n",
       "40                                           -32768.0      \n",
       "\n",
       "    layer9 : Monthly minimum temperature (C x 10)_September  \\\n",
       "22                                           -32768.0         \n",
       "29                                           -32768.0         \n",
       "39                                           -32768.0         \n",
       "40                                           -32768.0         \n",
       "\n",
       "    layer10 : Monthly minimum temperature (C x 10)_October  ...  \\\n",
       "22                                           -32768.0       ...   \n",
       "29                                           -32768.0       ...   \n",
       "39                                           -32768.0       ...   \n",
       "40                                           -32768.0       ...   \n",
       "\n",
       "    layer61 : Monthly potential evapotranspiration (mm.month-1)_June  \\\n",
       "22                                           -32768.0                  \n",
       "29                                           -32768.0                  \n",
       "39                                           -32768.0                  \n",
       "40                                           -32768.0                  \n",
       "\n",
       "    layer62 : Monthly potential evapotranspiration (mm.month-1)_July  \\\n",
       "22                                           -32768.0                  \n",
       "29                                           -32768.0                  \n",
       "39                                           -32768.0                  \n",
       "40                                           -32768.0                  \n",
       "\n",
       "    layer63 : Monthly potential evapotranspiration (mm.month-1)_August  \\\n",
       "22                                           -32768.0                    \n",
       "29                                           -32768.0                    \n",
       "39                                           -32768.0                    \n",
       "40                                           -32768.0                    \n",
       "\n",
       "    layer64 : Monthly potential evapotranspiration (mm.month-1)_September  \\\n",
       "22                                           -32768.0                       \n",
       "29                                           -32768.0                       \n",
       "39                                           -32768.0                       \n",
       "40                                           -32768.0                       \n",
       "\n",
       "    layer65 : Monthly potential evapotranspiration (mm.month-1)_October  \\\n",
       "22                                           -32768.0                     \n",
       "29                                           -32768.0                     \n",
       "39                                           -32768.0                     \n",
       "40                                           -32768.0                     \n",
       "\n",
       "    layer66 : Monthly potential evapotranspiration (mm.month-1)_November  \\\n",
       "22                                           -32768.0                      \n",
       "29                                           -32768.0                      \n",
       "39                                           -32768.0                      \n",
       "40                                           -32768.0                      \n",
       "\n",
       "    layer67 : Monthly potential evapotranspiration (mm.month-1)_December  \\\n",
       "22                                           -32768.0                      \n",
       "29                                           -32768.0                      \n",
       "39                                           -32768.0                      \n",
       "40                                           -32768.0                      \n",
       "\n",
       "    layer68 : Annual potential evapotranspiration (mm)  \\\n",
       "22                                           -32768.0    \n",
       "29                                           -32768.0    \n",
       "39                                           -32768.0    \n",
       "40                                           -32768.0    \n",
       "\n",
       "    layer69 : Annual climatic water deficit (mm)  \\\n",
       "22                                      -32768.0   \n",
       "29                                      -32768.0   \n",
       "39                                      -32768.0   \n",
       "40                                      -32768.0   \n",
       "\n",
       "    layer70 : Number of dry months in the year  \n",
       "22                                    -32768.0  \n",
       "29                                    -32768.0  \n",
       "39                                    -32768.0  \n",
       "40                                    -32768.0  \n",
       "\n",
       "[4 rows x 70 columns]"
      ]
     },
     "execution_count": 508,
     "metadata": {},
     "output_type": "execute_result"
    }
   ],
   "source": [
    "# Get list of indexes with nodata values (from raster convention)\n",
    "nodata_indexes = gdf_gbs.iloc[:, l1_index:][gdf_gbs.iloc[:, l1_index:] == raster_mada.nodata].dropna().index.to_list()\n",
    "\n",
    "# Drop them they are all outliers in the sense that all 70 layers are nodata\n",
    "gdf_gbs.iloc[:, l1_index:][gdf_gbs.iloc[:, l1_index:] == raster_mada.nodata].dropna()"
   ]
  },
  {
   "cell_type": "code",
   "execution_count": 509,
   "metadata": {},
   "outputs": [],
   "source": [
    "gdf_gbs = gdf_gbs.drop(nodata_indexes)"
   ]
  },
  {
   "cell_type": "code",
   "execution_count": 510,
   "metadata": {},
   "outputs": [
    {
     "name": "stdout",
     "output_type": "stream",
     "text": [
      "OK, no more 'nodata'\n"
     ]
    },
    {
     "data": {
      "text/plain": [
       "37"
      ]
     },
     "execution_count": 510,
     "metadata": {},
     "output_type": "execute_result"
    }
   ],
   "source": [
    "# Sanity check\n",
    "if not [ele for ele in (gdf_gbs.iloc[:, l1_index:] == raster_mada.nodata).any() if ele is True]:\n",
    "    print(\"OK, no more 'nodata'\")\n",
    "len(gdf_gbs)"
   ]
  },
  {
   "attachments": {},
   "cell_type": "markdown",
   "metadata": {},
   "source": [
    "### Environmental data extraction"
   ]
  },
  {
   "cell_type": "code",
   "execution_count": 511,
   "metadata": {},
   "outputs": [
    {
     "data": {
      "text/plain": [
       "<matplotlib.image.AxesImage at 0x7f1be129a910>"
      ]
     },
     "execution_count": 511,
     "metadata": {},
     "output_type": "execute_result"
    },
    {
     "data": {
      "image/png": "[encoded data removed]",
      "text/plain": [
       "<Figure size 640x480 with 1 Axes>"
      ]
     },
     "metadata": {},
     "output_type": "display_data"
    }
   ],
   "source": [
    "test = raster_mada.read(2)\n",
    "test[test == -32768] = 0\n",
    "plt.imshow(test, cmap=\"Spectral\")\n"
   ]
  },
  {
   "attachments": {},
   "cell_type": "markdown",
   "metadata": {},
   "source": [
    "**DATA TRANSFORMATION INFORMATION:**\n",
    "\n",
    "[Madaclim methods for climate db](https://madaclim.cirad.fr/methods-climate/)"
   ]
  },
  {
   "attachments": {},
   "cell_type": "markdown",
   "metadata": {},
   "source": [
    "## Climate data exploration\n",
    "\n",
    "### Distributions per layer set"
   ]
  },
  {
   "attachments": {},
   "cell_type": "markdown",
   "metadata": {},
   "source": [
    "**Layers description reminder**\n",
    "\n",
    "- layers1_12 ---> Monthly minimum temperature (C x 10)\n",
    "- l13_24 ---> Monthly maximum temperature (C x 10)\n",
    "- l25_36 ---> Monthly total precipitation (mm.month-1)\n",
    "- l37_55 ---> bioclim\n",
    "- l56_67 ---> Monthly potential evapotranspiration (mm.month-1)\n",
    "- l68 ---> Annual potential evapotranspiration (mm)\n",
    "- l69 ---> Annual climatic water deficit (mm)\n",
    "- l70 ---> Number of dry months in the year"
   ]
  },
  {
   "cell_type": "code",
   "execution_count": 512,
   "metadata": {},
   "outputs": [],
   "source": [
    "# Hardcoded\n",
    "mada_layers_list = [d for d in mada_layers.items()]\n",
    "layers1_12 = mada_layers_list[0:12]\n",
    "layers13_24 = mada_layers_list[12:24]\n",
    "layers25_36 = mada_layers_list[24:36]\n",
    "layers37_55 = mada_layers_list[36:55]\n",
    "layers56_67 = mada_layers_list[55:67]\n",
    "layer68 = [mada_layers_list[67]]\n",
    "layer69 = [mada_layers_list[68]]\n",
    "layer70 = [mada_layers_list[69]]\n"
   ]
  },
  {
   "cell_type": "code",
   "execution_count": 513,
   "metadata": {},
   "outputs": [],
   "source": [
    "# Same format as df\n",
    "def get_layers(layers : dict, start : int, end=None):\n",
    "    if end is None:\n",
    "        end = start\n",
    "    if start <1 :\n",
    "        raise ValueError(\"Non-zero indexing for layers\")\n",
    "    elif end > len(layers):\n",
    "        raise ValueError(\"Select a maximum that is within the range of layers\")\n",
    "    elif start > end:\n",
    "        raise ValueError(\"Start layer must come before end layer\")\n",
    "    else :         \n",
    "        selected_layers = []\n",
    "        for i, (k, v) in enumerate(layers.items(), start=1):\n",
    "            if i >= start and i <= end:\n",
    "                selected_layers.append(f\"{k} : {v}\")\n",
    "        return selected_layers"
   ]
  },
  {
   "cell_type": "code",
   "execution_count": 514,
   "metadata": {},
   "outputs": [
    {
     "name": "stdout",
     "output_type": "stream",
     "text": [
      "['layer68 : Annual potential evapotranspiration (mm)', 'layer69 : Annual climatic water deficit (mm)', 'layer70 : Number of dry months in the year']\n",
      "\n",
      "There are 70 layers\n"
     ]
    }
   ],
   "source": [
    "# Example for layers 68 to 70\n",
    "print(get_layers(mada_layers, 68, 70))\n",
    "print(f\"\\nThere are {len(mada_layers)} layers\")"
   ]
  },
  {
   "cell_type": "code",
   "execution_count": 515,
   "metadata": {},
   "outputs": [
    {
     "data": {
      "text/plain": [
       "['Species code', 'Genome size (2C. pg)', 'Longitude', 'Latitude']"
      ]
     },
     "execution_count": 515,
     "metadata": {},
     "output_type": "execute_result"
    }
   ],
   "source": [
    "# Specimens + positions cols\n",
    "gdf_gbs.columns.to_list()[0:4]"
   ]
  },
  {
   "cell_type": "code",
   "execution_count": 516,
   "metadata": {},
   "outputs": [
    {
     "data": {
      "text/html": [
       "<div>\n",
       "<style scoped>\n",
       "    .dataframe tbody tr th:only-of-type {\n",
       "        vertical-align: middle;\n",
       "    }\n",
       "\n",
       "    .dataframe tbody tr th {\n",
       "        vertical-align: top;\n",
       "    }\n",
       "\n",
       "    .dataframe thead th {\n",
       "        text-align: right;\n",
       "    }\n",
       "</style>\n",
       "<table border=\"1\" class=\"dataframe\">\n",
       "  <thead>\n",
       "    <tr style=\"text-align: right;\">\n",
       "      <th></th>\n",
       "      <th>Species code</th>\n",
       "      <th>Genome size (2C. pg)</th>\n",
       "      <th>Longitude</th>\n",
       "      <th>Latitude</th>\n",
       "      <th>geometry</th>\n",
       "      <th>all_layers</th>\n",
       "      <th>layer1 : Monthly minimum temperature (C x 10)_January</th>\n",
       "      <th>layer2 : Monthly minimum temperature (C x 10)_February</th>\n",
       "      <th>layer3 : Monthly minimum temperature (C x 10)_March</th>\n",
       "      <th>layer4 : Monthly minimum temperature (C x 10)_April</th>\n",
       "      <th>layer5 : Monthly minimum temperature (C x 10)_May</th>\n",
       "      <th>layer6 : Monthly minimum temperature (C x 10)_June</th>\n",
       "      <th>layer7 : Monthly minimum temperature (C x 10)_July</th>\n",
       "      <th>layer8 : Monthly minimum temperature (C x 10)_August</th>\n",
       "      <th>layer9 : Monthly minimum temperature (C x 10)_September</th>\n",
       "      <th>layer10 : Monthly minimum temperature (C x 10)_October</th>\n",
       "      <th>layer11 : Monthly minimum temperature (C x 10)_November</th>\n",
       "      <th>layer12 : Monthly minimum temperature (C x 10)_December</th>\n",
       "    </tr>\n",
       "  </thead>\n",
       "  <tbody>\n",
       "    <tr>\n",
       "      <th>0</th>\n",
       "      <td>ABA</td>\n",
       "      <td>1.25</td>\n",
       "      <td>46.862400</td>\n",
       "      <td>-24.7541</td>\n",
       "      <td>POINT (688328.240 7260998.023)</td>\n",
       "      <td>[155, 195, 188, 171, 136, 122, 120, 124, 138, ...</td>\n",
       "      <td>155.0</td>\n",
       "      <td>195.0</td>\n",
       "      <td>188.0</td>\n",
       "      <td>171.0</td>\n",
       "      <td>136.0</td>\n",
       "      <td>122.0</td>\n",
       "      <td>120.0</td>\n",
       "      <td>124.0</td>\n",
       "      <td>138.0</td>\n",
       "      <td>173.0</td>\n",
       "      <td>188.0</td>\n",
       "      <td>196.0</td>\n",
       "    </tr>\n",
       "    <tr>\n",
       "      <th>1</th>\n",
       "      <td>AMB</td>\n",
       "      <td>1.27</td>\n",
       "      <td>48.943300</td>\n",
       "      <td>-18.4522</td>\n",
       "      <td>POINT (916635.952 7955240.629)</td>\n",
       "      <td>[157, 203, 199, 185, 164, 149, 142, 139, 144, ...</td>\n",
       "      <td>157.0</td>\n",
       "      <td>203.0</td>\n",
       "      <td>199.0</td>\n",
       "      <td>185.0</td>\n",
       "      <td>164.0</td>\n",
       "      <td>149.0</td>\n",
       "      <td>142.0</td>\n",
       "      <td>139.0</td>\n",
       "      <td>144.0</td>\n",
       "      <td>179.0</td>\n",
       "      <td>194.0</td>\n",
       "      <td>203.0</td>\n",
       "    </tr>\n",
       "    <tr>\n",
       "      <th>2</th>\n",
       "      <td>AMBON</td>\n",
       "      <td>1.16</td>\n",
       "      <td>46.419806</td>\n",
       "      <td>-15.5745833</td>\n",
       "      <td>POINT (652237.905 8277614.406)</td>\n",
       "      <td>[222, 236, 238, 235, 217, 199, 191, 193, 205, ...</td>\n",
       "      <td>222.0</td>\n",
       "      <td>236.0</td>\n",
       "      <td>238.0</td>\n",
       "      <td>235.0</td>\n",
       "      <td>217.0</td>\n",
       "      <td>199.0</td>\n",
       "      <td>191.0</td>\n",
       "      <td>193.0</td>\n",
       "      <td>205.0</td>\n",
       "      <td>237.0</td>\n",
       "      <td>238.0</td>\n",
       "      <td>238.0</td>\n",
       "    </tr>\n",
       "    <tr>\n",
       "      <th>3</th>\n",
       "      <td>ANK1</td>\n",
       "      <td>1.17</td>\n",
       "      <td>49.543300</td>\n",
       "      <td>-12.9491</td>\n",
       "      <td>POINT (993250.150 8564104.062)</td>\n",
       "      <td>[206, 228, 227, 224, 211, 192, 186, 188, 194, ...</td>\n",
       "      <td>206.0</td>\n",
       "      <td>228.0</td>\n",
       "      <td>227.0</td>\n",
       "      <td>224.0</td>\n",
       "      <td>211.0</td>\n",
       "      <td>192.0</td>\n",
       "      <td>186.0</td>\n",
       "      <td>188.0</td>\n",
       "      <td>194.0</td>\n",
       "      <td>221.0</td>\n",
       "      <td>226.0</td>\n",
       "      <td>228.0</td>\n",
       "    </tr>\n",
       "    <tr>\n",
       "      <th>4</th>\n",
       "      <td>ARE</td>\n",
       "      <td>1.11</td>\n",
       "      <td>48.200000</td>\n",
       "      <td>-18.9333</td>\n",
       "      <td>POINT (837072.915 7903496.321)</td>\n",
       "      <td>[130, 176, 166, 153, 126, 107, 109, 107, 114, ...</td>\n",
       "      <td>130.0</td>\n",
       "      <td>176.0</td>\n",
       "      <td>166.0</td>\n",
       "      <td>153.0</td>\n",
       "      <td>126.0</td>\n",
       "      <td>107.0</td>\n",
       "      <td>109.0</td>\n",
       "      <td>107.0</td>\n",
       "      <td>114.0</td>\n",
       "      <td>152.0</td>\n",
       "      <td>164.0</td>\n",
       "      <td>175.0</td>\n",
       "    </tr>\n",
       "  </tbody>\n",
       "</table>\n",
       "</div>"
      ],
      "text/plain": [
       "  Species code Genome size (2C. pg)  Longitude     Latitude  \\\n",
       "0          ABA                 1.25  46.862400     -24.7541   \n",
       "1          AMB                 1.27  48.943300     -18.4522   \n",
       "2        AMBON                 1.16  46.419806  -15.5745833   \n",
       "3         ANK1                 1.17  49.543300     -12.9491   \n",
       "4          ARE                 1.11  48.200000     -18.9333   \n",
       "\n",
       "                         geometry  \\\n",
       "0  POINT (688328.240 7260998.023)   \n",
       "1  POINT (916635.952 7955240.629)   \n",
       "2  POINT (652237.905 8277614.406)   \n",
       "3  POINT (993250.150 8564104.062)   \n",
       "4  POINT (837072.915 7903496.321)   \n",
       "\n",
       "                                          all_layers  \\\n",
       "0  [155, 195, 188, 171, 136, 122, 120, 124, 138, ...   \n",
       "1  [157, 203, 199, 185, 164, 149, 142, 139, 144, ...   \n",
       "2  [222, 236, 238, 235, 217, 199, 191, 193, 205, ...   \n",
       "3  [206, 228, 227, 224, 211, 192, 186, 188, 194, ...   \n",
       "4  [130, 176, 166, 153, 126, 107, 109, 107, 114, ...   \n",
       "\n",
       "   layer1 : Monthly minimum temperature (C x 10)_January  \\\n",
       "0                                              155.0       \n",
       "1                                              157.0       \n",
       "2                                              222.0       \n",
       "3                                              206.0       \n",
       "4                                              130.0       \n",
       "\n",
       "   layer2 : Monthly minimum temperature (C x 10)_February  \\\n",
       "0                                              195.0        \n",
       "1                                              203.0        \n",
       "2                                              236.0        \n",
       "3                                              228.0        \n",
       "4                                              176.0        \n",
       "\n",
       "   layer3 : Monthly minimum temperature (C x 10)_March  \\\n",
       "0                                              188.0     \n",
       "1                                              199.0     \n",
       "2                                              238.0     \n",
       "3                                              227.0     \n",
       "4                                              166.0     \n",
       "\n",
       "   layer4 : Monthly minimum temperature (C x 10)_April  \\\n",
       "0                                              171.0     \n",
       "1                                              185.0     \n",
       "2                                              235.0     \n",
       "3                                              224.0     \n",
       "4                                              153.0     \n",
       "\n",
       "   layer5 : Monthly minimum temperature (C x 10)_May  \\\n",
       "0                                              136.0   \n",
       "1                                              164.0   \n",
       "2                                              217.0   \n",
       "3                                              211.0   \n",
       "4                                              126.0   \n",
       "\n",
       "   layer6 : Monthly minimum temperature (C x 10)_June  \\\n",
       "0                                              122.0    \n",
       "1                                              149.0    \n",
       "2                                              199.0    \n",
       "3                                              192.0    \n",
       "4                                              107.0    \n",
       "\n",
       "   layer7 : Monthly minimum temperature (C x 10)_July  \\\n",
       "0                                              120.0    \n",
       "1                                              142.0    \n",
       "2                                              191.0    \n",
       "3                                              186.0    \n",
       "4                                              109.0    \n",
       "\n",
       "   layer8 : Monthly minimum temperature (C x 10)_August  \\\n",
       "0                                              124.0      \n",
       "1                                              139.0      \n",
       "2                                              193.0      \n",
       "3                                              188.0      \n",
       "4                                              107.0      \n",
       "\n",
       "   layer9 : Monthly minimum temperature (C x 10)_September  \\\n",
       "0                                              138.0         \n",
       "1                                              144.0         \n",
       "2                                              205.0         \n",
       "3                                              194.0         \n",
       "4                                              114.0         \n",
       "\n",
       "   layer10 : Monthly minimum temperature (C x 10)_October  \\\n",
       "0                                              173.0        \n",
       "1                                              179.0        \n",
       "2                                              237.0        \n",
       "3                                              221.0        \n",
       "4                                              152.0        \n",
       "\n",
       "   layer11 : Monthly minimum temperature (C x 10)_November  \\\n",
       "0                                              188.0         \n",
       "1                                              194.0         \n",
       "2                                              238.0         \n",
       "3                                              226.0         \n",
       "4                                              164.0         \n",
       "\n",
       "   layer12 : Monthly minimum temperature (C x 10)_December  \n",
       "0                                              196.0        \n",
       "1                                              203.0        \n",
       "2                                              238.0        \n",
       "3                                              228.0        \n",
       "4                                              175.0        "
      ]
     },
     "execution_count": 516,
     "metadata": {},
     "output_type": "execute_result"
    }
   ],
   "source": [
    "# Subset df for layers 1 to 12\n",
    "monthly_min = gdf_gbs.columns.to_list()[: l1_index] + get_layers(mada_layers, 1, 12)\n",
    "\n",
    "gdf_gbs[monthly_min].head()"
   ]
  },
  {
   "cell_type": "code",
   "execution_count": 517,
   "metadata": {},
   "outputs": [
    {
     "data": {
      "text/plain": [
       "<AxesSubplot: ylabel='Frequency'>"
      ]
     },
     "execution_count": 517,
     "metadata": {},
     "output_type": "execute_result"
    },
    {
     "data": {
      "image/png": "[encoded data removed]",
      "text/plain": [
       "<Figure size 640x480 with 1 Axes>"
      ]
     },
     "metadata": {},
     "output_type": "display_data"
    }
   ],
   "source": [
    "gdf_gbs[get_layers(mada_layers, 1, 1)].plot.hist(bins=15, legend=False, alpha=0.3)"
   ]
  }
 ],
 "metadata": {
  "kernelspec": {
   "display_name": "aphylo_cm",
   "language": "python",
   "name": "python3"
  },
  "language_info": {
   "codemirror_mode": {
    "name": "ipython",
    "version": 3
   },
   "file_extension": ".py",
   "mimetype": "text/x-python",
   "name": "python",
   "nbconvert_exporter": "python",
   "pygments_lexer": "ipython3",
   "version": "3.10.8 | packaged by conda-forge | (main, Nov 22 2022, 08:26:04) [GCC 10.4.0]"
  },
  "orig_nbformat": 4,
  "vscode": {
   "interpreter": {
    "hash": "9849d2d7323c59eba1b99d976d6f9d04330b4916c02396b920509754d55c85f9"
   }
  }
 },
 "nbformat": 4,
 "nbformat_minor": 2
}
